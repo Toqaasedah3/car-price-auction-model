{
  "cells": [
    {
      "cell_type": "markdown",
      "id": "YxQsXVcPzTac",
      "metadata": {
        "id": "YxQsXVcPzTac"
      },
      "source": [
        "# **Auction Car Price Prediction** 🚗🚘"
      ]
    },
    {
      "cell_type": "code",
      "execution_count": 3,
      "id": "aeeb6717-9a22-41e6-ad70-9245c6ace003",
      "metadata": {
        "id": "aeeb6717-9a22-41e6-ad70-9245c6ace003"
      },
      "outputs": [],
      "source": [
        "\n",
        "import pandas as pd\n",
        "import numpy as np\n",
        "import matplotlib.pyplot as plt\n",
        "import seaborn as sns\n",
        "import warnings\n",
        "import plotly.express as px\n",
        "import plotly.graph_objects as go\n",
        "import plotly.offline as pyo\n",
        "import plotly.io as pio\n",
        "warnings.filterwarnings('ignore')\n",
        "%matplotlib inline"
      ]
    },
    {
      "cell_type": "markdown",
      "id": "25e1fb9b-d1e2-4d96-9e8d-68bd4f7677e7",
      "metadata": {
        "id": "25e1fb9b-d1e2-4d96-9e8d-68bd4f7677e7"
      },
      "source": [
        "# Data Loading and Data Exploration"
      ]
    },
    {
      "cell_type": "markdown",
      "id": "4cba3bc5-4ce7-42ab-8cab-6c0c76803e7e",
      "metadata": {
        "id": "4cba3bc5-4ce7-42ab-8cab-6c0c76803e7e"
      },
      "source": [
        "---------"
      ]
    },
    {
      "cell_type": "markdown",
      "id": "718b1041-448a-4098-9d70-84b6ace24e69",
      "metadata": {
        "id": "718b1041-448a-4098-9d70-84b6ace24e69"
      },
      "source": [
        "## Load Data"
      ]
    },
    {
      "cell_type": "code",
      "execution_count": 4,
      "id": "5282fe34-04ac-4004-bf77-9f76bd983096",
      "metadata": {
        "colab": {
          "base_uri": "https://localhost:8080/",
          "height": 195
        },
        "id": "5282fe34-04ac-4004-bf77-9f76bd983096",
        "outputId": "c31f29dd-6bf3-48de-ef1e-77be69d17133"
      },
      "outputs": [
        {
          "data": {
            "text/html": [
              "<div>\n",
              "<style scoped>\n",
              "    .dataframe tbody tr th:only-of-type {\n",
              "        vertical-align: middle;\n",
              "    }\n",
              "\n",
              "    .dataframe tbody tr th {\n",
              "        vertical-align: top;\n",
              "    }\n",
              "\n",
              "    .dataframe thead th {\n",
              "        text-align: right;\n",
              "    }\n",
              "</style>\n",
              "<table border=\"1\" class=\"dataframe\">\n",
              "  <thead>\n",
              "    <tr style=\"text-align: right;\">\n",
              "      <th></th>\n",
              "      <th>year</th>\n",
              "      <th>make</th>\n",
              "      <th>model</th>\n",
              "      <th>trim</th>\n",
              "      <th>body</th>\n",
              "      <th>transmission</th>\n",
              "      <th>vin</th>\n",
              "      <th>state</th>\n",
              "      <th>condition</th>\n",
              "      <th>odometer</th>\n",
              "      <th>color</th>\n",
              "      <th>interior</th>\n",
              "      <th>seller</th>\n",
              "      <th>mmr</th>\n",
              "      <th>sellingprice</th>\n",
              "      <th>saledate</th>\n",
              "    </tr>\n",
              "  </thead>\n",
              "  <tbody>\n",
              "    <tr>\n",
              "      <th>0</th>\n",
              "      <td>2015</td>\n",
              "      <td>Kia</td>\n",
              "      <td>Sorento</td>\n",
              "      <td>LX</td>\n",
              "      <td>SUV</td>\n",
              "      <td>automatic</td>\n",
              "      <td>5xyktca69fg566472</td>\n",
              "      <td>ca</td>\n",
              "      <td>5.0</td>\n",
              "      <td>16639.0</td>\n",
              "      <td>white</td>\n",
              "      <td>black</td>\n",
              "      <td>kia motors america, inc</td>\n",
              "      <td>20500</td>\n",
              "      <td>21500</td>\n",
              "      <td>Tue Dec 16 2014 12:30:00 GMT-0800 (PST)</td>\n",
              "    </tr>\n",
              "    <tr>\n",
              "      <th>1</th>\n",
              "      <td>2015</td>\n",
              "      <td>Kia</td>\n",
              "      <td>Sorento</td>\n",
              "      <td>LX</td>\n",
              "      <td>SUV</td>\n",
              "      <td>automatic</td>\n",
              "      <td>5xyktca69fg561319</td>\n",
              "      <td>ca</td>\n",
              "      <td>5.0</td>\n",
              "      <td>9393.0</td>\n",
              "      <td>white</td>\n",
              "      <td>beige</td>\n",
              "      <td>kia motors america, inc</td>\n",
              "      <td>20800</td>\n",
              "      <td>21500</td>\n",
              "      <td>Tue Dec 16 2014 12:30:00 GMT-0800 (PST)</td>\n",
              "    </tr>\n",
              "    <tr>\n",
              "      <th>2</th>\n",
              "      <td>2014</td>\n",
              "      <td>BMW</td>\n",
              "      <td>3 Series</td>\n",
              "      <td>328i SULEV</td>\n",
              "      <td>Sedan</td>\n",
              "      <td>automatic</td>\n",
              "      <td>wba3c1c51ek116351</td>\n",
              "      <td>ca</td>\n",
              "      <td>4.5</td>\n",
              "      <td>1331.0</td>\n",
              "      <td>gray</td>\n",
              "      <td>black</td>\n",
              "      <td>financial services remarketing (lease)</td>\n",
              "      <td>31900</td>\n",
              "      <td>30000</td>\n",
              "      <td>Thu Jan 15 2015 04:30:00 GMT-0800 (PST)</td>\n",
              "    </tr>\n",
              "    <tr>\n",
              "      <th>3</th>\n",
              "      <td>2015</td>\n",
              "      <td>Volvo</td>\n",
              "      <td>S60</td>\n",
              "      <td>T5</td>\n",
              "      <td>Sedan</td>\n",
              "      <td>automatic</td>\n",
              "      <td>yv1612tb4f1310987</td>\n",
              "      <td>ca</td>\n",
              "      <td>4.1</td>\n",
              "      <td>14282.0</td>\n",
              "      <td>white</td>\n",
              "      <td>black</td>\n",
              "      <td>volvo na rep/world omni</td>\n",
              "      <td>27500</td>\n",
              "      <td>27750</td>\n",
              "      <td>Thu Jan 29 2015 04:30:00 GMT-0800 (PST)</td>\n",
              "    </tr>\n",
              "    <tr>\n",
              "      <th>4</th>\n",
              "      <td>2014</td>\n",
              "      <td>BMW</td>\n",
              "      <td>6 Series Gran Coupe</td>\n",
              "      <td>650i</td>\n",
              "      <td>Sedan</td>\n",
              "      <td>automatic</td>\n",
              "      <td>wba6b2c57ed129731</td>\n",
              "      <td>ca</td>\n",
              "      <td>4.3</td>\n",
              "      <td>2641.0</td>\n",
              "      <td>gray</td>\n",
              "      <td>black</td>\n",
              "      <td>financial services remarketing (lease)</td>\n",
              "      <td>66000</td>\n",
              "      <td>67000</td>\n",
              "      <td>Thu Dec 18 2014 12:30:00 GMT-0800 (PST)</td>\n",
              "    </tr>\n",
              "  </tbody>\n",
              "</table>\n",
              "</div>"
            ],
            "text/plain": [
              "   year   make                model        trim   body transmission  \\\n",
              "0  2015    Kia              Sorento          LX    SUV    automatic   \n",
              "1  2015    Kia              Sorento          LX    SUV    automatic   \n",
              "2  2014    BMW             3 Series  328i SULEV  Sedan    automatic   \n",
              "3  2015  Volvo                  S60          T5  Sedan    automatic   \n",
              "4  2014    BMW  6 Series Gran Coupe        650i  Sedan    automatic   \n",
              "\n",
              "                 vin state  condition  odometer  color interior  \\\n",
              "0  5xyktca69fg566472    ca        5.0   16639.0  white    black   \n",
              "1  5xyktca69fg561319    ca        5.0    9393.0  white    beige   \n",
              "2  wba3c1c51ek116351    ca        4.5    1331.0   gray    black   \n",
              "3  yv1612tb4f1310987    ca        4.1   14282.0  white    black   \n",
              "4  wba6b2c57ed129731    ca        4.3    2641.0   gray    black   \n",
              "\n",
              "                                   seller    mmr  sellingprice  \\\n",
              "0                 kia motors america, inc  20500         21500   \n",
              "1                 kia motors america, inc  20800         21500   \n",
              "2  financial services remarketing (lease)  31900         30000   \n",
              "3                 volvo na rep/world omni  27500         27750   \n",
              "4  financial services remarketing (lease)  66000         67000   \n",
              "\n",
              "                                  saledate  \n",
              "0  Tue Dec 16 2014 12:30:00 GMT-0800 (PST)  \n",
              "1  Tue Dec 16 2014 12:30:00 GMT-0800 (PST)  \n",
              "2  Thu Jan 15 2015 04:30:00 GMT-0800 (PST)  \n",
              "3  Thu Jan 29 2015 04:30:00 GMT-0800 (PST)  \n",
              "4  Thu Dec 18 2014 12:30:00 GMT-0800 (PST)  "
            ]
          },
          "execution_count": 4,
          "metadata": {},
          "output_type": "execute_result"
        }
      ],
      "source": [
        "dfcar = pd.read_csv('car_prices.csv', on_bad_lines=\"skip\")\n",
        "dfcar.head(5)"
      ]
    },
    {
      "cell_type": "markdown",
      "id": "f343f2ae-9589-4215-b913-71788a2fa22d",
      "metadata": {
        "id": "f343f2ae-9589-4215-b913-71788a2fa22d"
      },
      "source": [
        "**Data Dictionary**  \n",
        "1. Date : The year of production of the cars.  \n",
        "2. Make : The brand of the car.  \n",
        "3. Model : The edition of the car of a specific brand.  \n",
        "4. Trim : The trim levels for a car are just different versions of the model.  \n",
        "5. Body : The body style of a vehicle refers to the shape and model of a particular car make.  \n",
        "6. Transmission : The mechanism that moves the power from the engine to the wheels.  \n",
        "7. VIN : Vehichel identification number.  \n",
        "8. State : The state in which the car is auctioned.  \n",
        "9. Condition : The condition of the cars being at the time of auction.  \n",
        "10. Odometer : The distance the car has travelled since manufactured.  \n",
        "11. Color : Exterior color of the car.  \n",
        "12. Interior : Interior color of the car.  \n",
        "13. Seller : The seller of the car, car dealers.  \n",
        "14. **mmr : Manhiem Market Report, the market estimated price of the cars. (Target)**\n",
        "15. sellingprice : The price a car was sold at auctions.  \n",
        "16. saledate : The date on which the car has been sold.  "
      ]
    },
    {
      "cell_type": "markdown",
      "id": "e37675a9-087b-467b-bac6-06c25832ab69",
      "metadata": {
        "id": "e37675a9-087b-467b-bac6-06c25832ab69"
      },
      "source": [
        "## Data Exploration"
      ]
    },
    {
      "cell_type": "code",
      "execution_count": 5,
      "id": "e6f59cea-1da7-42f7-accb-711ef485b1d3",
      "metadata": {
        "colab": {
          "base_uri": "https://localhost:8080/"
        },
        "id": "e6f59cea-1da7-42f7-accb-711ef485b1d3",
        "outputId": "581c2804-118a-4d29-8983-b5bbe3599b1c"
      },
      "outputs": [
        {
          "name": "stdout",
          "output_type": "stream",
          "text": [
            "<class 'pandas.core.frame.DataFrame'>\n",
            "RangeIndex: 558811 entries, 0 to 558810\n",
            "Data columns (total 16 columns):\n",
            " #   Column        Non-Null Count   Dtype  \n",
            "---  ------        --------------   -----  \n",
            " 0   year          558811 non-null  int64  \n",
            " 1   make          548510 non-null  object \n",
            " 2   model         548412 non-null  object \n",
            " 3   trim          548160 non-null  object \n",
            " 4   body          545616 non-null  object \n",
            " 5   transmission  493458 non-null  object \n",
            " 6   vin           558811 non-null  object \n",
            " 7   state         558811 non-null  object \n",
            " 8   condition     547017 non-null  float64\n",
            " 9   odometer      558717 non-null  float64\n",
            " 10  color         558062 non-null  object \n",
            " 11  interior      558062 non-null  object \n",
            " 12  seller        558811 non-null  object \n",
            " 13  mmr           558811 non-null  int64  \n",
            " 14  sellingprice  558811 non-null  int64  \n",
            " 15  saledate      558811 non-null  object \n",
            "dtypes: float64(2), int64(3), object(11)\n",
            "memory usage: 68.2+ MB\n"
          ]
        }
      ],
      "source": [
        "dfcar.info()"
      ]
    },
    {
      "cell_type": "code",
      "execution_count": 6,
      "id": "ca0db44c-3141-41cd-b768-ab3709f115d4",
      "metadata": {
        "colab": {
          "base_uri": "https://localhost:8080/"
        },
        "id": "ca0db44c-3141-41cd-b768-ab3709f115d4",
        "outputId": "bcffadc5-7b2c-4c7f-a606-314b3dcc059c"
      },
      "outputs": [
        {
          "data": {
            "text/plain": [
              "year                0\n",
              "make            10301\n",
              "model           10399\n",
              "trim            10651\n",
              "body            13195\n",
              "transmission    65353\n",
              "vin                 0\n",
              "state               0\n",
              "condition       11794\n",
              "odometer           94\n",
              "color             749\n",
              "interior          749\n",
              "seller              0\n",
              "mmr                 0\n",
              "sellingprice        0\n",
              "saledate            0\n",
              "dtype: int64"
            ]
          },
          "execution_count": 6,
          "metadata": {},
          "output_type": "execute_result"
        }
      ],
      "source": [
        "\n",
        "dfcar.isnull().sum()"
      ]
    },
    {
      "cell_type": "markdown",
      "id": "9987a141-ba15-40ff-8b55-8297871bbf03",
      "metadata": {
        "id": "9987a141-ba15-40ff-8b55-8297871bbf03"
      },
      "source": [
        "1. In total, there are 558,811 entries.\n",
        "2. The data types are int, float and object, and appear to be in accordance with the columns\n",
        "3. the data has a few amount of null values comparing to the whole entries 2.4%nulls might consider droping them"
      ]
    },
    {
      "cell_type": "code",
      "execution_count": 7,
      "id": "814389f3-1ff6-4c9c-aa4e-86e14de7c2de",
      "metadata": {
        "colab": {
          "base_uri": "https://localhost:8080/",
          "height": 300
        },
        "id": "814389f3-1ff6-4c9c-aa4e-86e14de7c2de",
        "outputId": "1d0fc88b-a189-49de-d6b1-bc8bc9fbe2d1"
      },
      "outputs": [
        {
          "data": {
            "text/html": [
              "<div>\n",
              "<style scoped>\n",
              "    .dataframe tbody tr th:only-of-type {\n",
              "        vertical-align: middle;\n",
              "    }\n",
              "\n",
              "    .dataframe tbody tr th {\n",
              "        vertical-align: top;\n",
              "    }\n",
              "\n",
              "    .dataframe thead th {\n",
              "        text-align: right;\n",
              "    }\n",
              "</style>\n",
              "<table border=\"1\" class=\"dataframe\">\n",
              "  <thead>\n",
              "    <tr style=\"text-align: right;\">\n",
              "      <th></th>\n",
              "      <th>year</th>\n",
              "      <th>condition</th>\n",
              "      <th>odometer</th>\n",
              "      <th>mmr</th>\n",
              "      <th>sellingprice</th>\n",
              "    </tr>\n",
              "  </thead>\n",
              "  <tbody>\n",
              "    <tr>\n",
              "      <th>count</th>\n",
              "      <td>558811.000</td>\n",
              "      <td>547017.000</td>\n",
              "      <td>558717.000</td>\n",
              "      <td>558811.000</td>\n",
              "      <td>558811.000</td>\n",
              "    </tr>\n",
              "    <tr>\n",
              "      <th>mean</th>\n",
              "      <td>2010.039</td>\n",
              "      <td>3.425</td>\n",
              "      <td>68323.196</td>\n",
              "      <td>13769.325</td>\n",
              "      <td>13611.262</td>\n",
              "    </tr>\n",
              "    <tr>\n",
              "      <th>std</th>\n",
              "      <td>3.967</td>\n",
              "      <td>0.949</td>\n",
              "      <td>53397.753</td>\n",
              "      <td>9679.875</td>\n",
              "      <td>9749.657</td>\n",
              "    </tr>\n",
              "    <tr>\n",
              "      <th>min</th>\n",
              "      <td>1982.000</td>\n",
              "      <td>1.000</td>\n",
              "      <td>1.000</td>\n",
              "      <td>25.000</td>\n",
              "      <td>1.000</td>\n",
              "    </tr>\n",
              "    <tr>\n",
              "      <th>25%</th>\n",
              "      <td>2007.000</td>\n",
              "      <td>2.700</td>\n",
              "      <td>28374.000</td>\n",
              "      <td>7100.000</td>\n",
              "      <td>6900.000</td>\n",
              "    </tr>\n",
              "    <tr>\n",
              "      <th>50%</th>\n",
              "      <td>2012.000</td>\n",
              "      <td>3.600</td>\n",
              "      <td>52256.000</td>\n",
              "      <td>12250.000</td>\n",
              "      <td>12100.000</td>\n",
              "    </tr>\n",
              "    <tr>\n",
              "      <th>75%</th>\n",
              "      <td>2013.000</td>\n",
              "      <td>4.200</td>\n",
              "      <td>99112.000</td>\n",
              "      <td>18300.000</td>\n",
              "      <td>18200.000</td>\n",
              "    </tr>\n",
              "    <tr>\n",
              "      <th>max</th>\n",
              "      <td>2015.000</td>\n",
              "      <td>5.000</td>\n",
              "      <td>999999.000</td>\n",
              "      <td>182000.000</td>\n",
              "      <td>230000.000</td>\n",
              "    </tr>\n",
              "  </tbody>\n",
              "</table>\n",
              "</div>"
            ],
            "text/plain": [
              "            year  condition   odometer        mmr  sellingprice\n",
              "count 558811.000 547017.000 558717.000 558811.000    558811.000\n",
              "mean    2010.039      3.425  68323.196  13769.325     13611.262\n",
              "std        3.967      0.949  53397.753   9679.875      9749.657\n",
              "min     1982.000      1.000      1.000     25.000         1.000\n",
              "25%     2007.000      2.700  28374.000   7100.000      6900.000\n",
              "50%     2012.000      3.600  52256.000  12250.000     12100.000\n",
              "75%     2013.000      4.200  99112.000  18300.000     18200.000\n",
              "max     2015.000      5.000 999999.000 182000.000    230000.000"
            ]
          },
          "execution_count": 7,
          "metadata": {},
          "output_type": "execute_result"
        }
      ],
      "source": [
        "# Categorize the features\n",
        "num = ['year', 'condition', 'odometer', 'mmr', 'sellingprice']\n",
        "cat = ['make', 'model', 'trim', 'body', 'transmission', 'vin', 'state', 'color', 'interior', 'seller', 'saledate']\n",
        "\n",
        "# Set display float format\n",
        "pd.set_option('display.float_format', lambda x: '%.3f' % x)\n",
        "\n",
        "dfcar[num].describe()"
      ]
    },
    {
      "cell_type": "markdown",
      "id": "16c11d22-9db4-4267-a109-8020c2ef6f75",
      "metadata": {
        "id": "16c11d22-9db4-4267-a109-8020c2ef6f75"
      },
      "source": [
        "1. condition has a categorical value between 1-5.\n",
        "2. The value of the odometer appears to have a large gap between min and max and a gap between mean and median\n",
        "3. Overall, the mmr and sellingprice values are not very different. However, the min-max and mean-median values are very different."
      ]
    },
    {
      "cell_type": "code",
      "execution_count": 8,
      "id": "e1baf8cf-e81b-4e12-ac83-fca0e71d91ec",
      "metadata": {
        "colab": {
          "base_uri": "https://localhost:8080/",
          "height": 175
        },
        "id": "e1baf8cf-e81b-4e12-ac83-fca0e71d91ec",
        "outputId": "6050fe9f-6e6c-4551-ae52-70e70485fda4"
      },
      "outputs": [
        {
          "data": {
            "text/html": [
              "<div>\n",
              "<style scoped>\n",
              "    .dataframe tbody tr th:only-of-type {\n",
              "        vertical-align: middle;\n",
              "    }\n",
              "\n",
              "    .dataframe tbody tr th {\n",
              "        vertical-align: top;\n",
              "    }\n",
              "\n",
              "    .dataframe thead th {\n",
              "        text-align: right;\n",
              "    }\n",
              "</style>\n",
              "<table border=\"1\" class=\"dataframe\">\n",
              "  <thead>\n",
              "    <tr style=\"text-align: right;\">\n",
              "      <th></th>\n",
              "      <th>make</th>\n",
              "      <th>model</th>\n",
              "      <th>trim</th>\n",
              "      <th>body</th>\n",
              "      <th>transmission</th>\n",
              "      <th>vin</th>\n",
              "      <th>state</th>\n",
              "      <th>color</th>\n",
              "      <th>interior</th>\n",
              "      <th>seller</th>\n",
              "      <th>saledate</th>\n",
              "    </tr>\n",
              "  </thead>\n",
              "  <tbody>\n",
              "    <tr>\n",
              "      <th>count</th>\n",
              "      <td>548510</td>\n",
              "      <td>548412</td>\n",
              "      <td>548160</td>\n",
              "      <td>545616</td>\n",
              "      <td>493458</td>\n",
              "      <td>558811</td>\n",
              "      <td>558811</td>\n",
              "      <td>558062</td>\n",
              "      <td>558062</td>\n",
              "      <td>558811</td>\n",
              "      <td>558811</td>\n",
              "    </tr>\n",
              "    <tr>\n",
              "      <th>unique</th>\n",
              "      <td>96</td>\n",
              "      <td>973</td>\n",
              "      <td>1975</td>\n",
              "      <td>86</td>\n",
              "      <td>2</td>\n",
              "      <td>550296</td>\n",
              "      <td>38</td>\n",
              "      <td>20</td>\n",
              "      <td>17</td>\n",
              "      <td>14264</td>\n",
              "      <td>3745</td>\n",
              "    </tr>\n",
              "    <tr>\n",
              "      <th>top</th>\n",
              "      <td>Ford</td>\n",
              "      <td>Altima</td>\n",
              "      <td>Base</td>\n",
              "      <td>Sedan</td>\n",
              "      <td>automatic</td>\n",
              "      <td>wbanv13588cz57827</td>\n",
              "      <td>fl</td>\n",
              "      <td>black</td>\n",
              "      <td>black</td>\n",
              "      <td>nissan-infiniti lt</td>\n",
              "      <td>Tue Feb 10 2015 01:30:00 GMT-0800 (PST)</td>\n",
              "    </tr>\n",
              "    <tr>\n",
              "      <th>freq</th>\n",
              "      <td>93554</td>\n",
              "      <td>19349</td>\n",
              "      <td>55817</td>\n",
              "      <td>199437</td>\n",
              "      <td>475914</td>\n",
              "      <td>5</td>\n",
              "      <td>82945</td>\n",
              "      <td>110970</td>\n",
              "      <td>244325</td>\n",
              "      <td>19693</td>\n",
              "      <td>5334</td>\n",
              "    </tr>\n",
              "  </tbody>\n",
              "</table>\n",
              "</div>"
            ],
            "text/plain": [
              "          make   model    trim    body transmission                vin  \\\n",
              "count   548510  548412  548160  545616       493458             558811   \n",
              "unique      96     973    1975      86            2             550296   \n",
              "top       Ford  Altima    Base   Sedan    automatic  wbanv13588cz57827   \n",
              "freq     93554   19349   55817  199437       475914                  5   \n",
              "\n",
              "         state   color interior              seller  \\\n",
              "count   558811  558062   558062              558811   \n",
              "unique      38      20       17               14264   \n",
              "top         fl   black    black  nissan-infiniti lt   \n",
              "freq     82945  110970   244325               19693   \n",
              "\n",
              "                                       saledate  \n",
              "count                                    558811  \n",
              "unique                                     3745  \n",
              "top     Tue Feb 10 2015 01:30:00 GMT-0800 (PST)  \n",
              "freq                                       5334  "
            ]
          },
          "execution_count": 8,
          "metadata": {},
          "output_type": "execute_result"
        }
      ],
      "source": [
        "dfcar[cat].describe()"
      ]
    },
    {
      "cell_type": "markdown",
      "id": "e1ed0e70-40d4-4bdf-a8c0-bdc27a33e25e",
      "metadata": {
        "id": "e1ed0e70-40d4-4bdf-a8c0-bdc27a33e25e"
      },
      "source": [
        "1. From the data above, we can see at a glance what values are the top ones, appear frequently, and how many unique values each feature has.\n",
        "2. For example, Ford is the most popular brand among a total of 96 other brands. Apart from that, the sedan body is also one of the most favorite.\n",
        "3. Automatic transmission is more sought after by customers than manual by more than 90%.\n",
        "4. Black dominates both the exterior and interior colors."
      ]
    },
    {
      "cell_type": "markdown",
      "id": "15f0022e-a567-4ac4-9125-e4371b90e081",
      "metadata": {
        "id": "15f0022e-a567-4ac4-9125-e4371b90e081"
      },
      "source": [
        "----------"
      ]
    },
    {
      "cell_type": "markdown",
      "id": "6fc30832-f6d1-4cde-ab0c-b71dc713adda",
      "metadata": {
        "id": "6fc30832-f6d1-4cde-ab0c-b71dc713adda"
      },
      "source": [
        "# EDA (Exploratory Data Analysis)"
      ]
    },
    {
      "cell_type": "markdown",
      "id": "6102a14e-a360-4e97-9f8d-76405e2d496a",
      "metadata": {
        "id": "6102a14e-a360-4e97-9f8d-76405e2d496a"
      },
      "source": [
        "-------"
      ]
    },
    {
      "cell_type": "markdown",
      "id": "Ba5xh58k5ffv",
      "metadata": {
        "id": "Ba5xh58k5ffv"
      },
      "source": [
        "## UNIVARIATE ANALYSIS"
      ]
    },
    {
      "cell_type": "markdown",
      "id": "86d1eb47-2eb9-4612-aef6-47df8d10103a",
      "metadata": {
        "id": "86d1eb47-2eb9-4612-aef6-47df8d10103a"
      },
      "source": [
        "### Unique Value From Some Features"
      ]
    },
    {
      "cell_type": "code",
      "execution_count": 9,
      "id": "23a2c9a0-6e10-486b-a923-fa58aad9a075",
      "metadata": {
        "colab": {
          "base_uri": "https://localhost:8080/"
        },
        "id": "23a2c9a0-6e10-486b-a923-fa58aad9a075",
        "outputId": "a93c0251-c075-48d1-eb41-70aea92a0997"
      },
      "outputs": [
        {
          "data": {
            "text/plain": [
              "array([2015, 2014, 2013, 2012, 2011, 2010, 2009, 2008, 2007, 2006, 2005,\n",
              "       2004, 2003, 2002, 2001, 2000, 1999, 1998, 1995, 1996, 1997, 1987,\n",
              "       1994, 1993, 1992, 1989, 1991, 1990, 1986, 1985, 1988, 1984, 1982,\n",
              "       1983])"
            ]
          },
          "execution_count": 9,
          "metadata": {},
          "output_type": "execute_result"
        }
      ],
      "source": [
        "# Check unique value 'year'\n",
        "dfcar['year'].unique()"
      ]
    },
    {
      "cell_type": "markdown",
      "id": "2867af89-0569-4bf2-8940-4a6502b04170",
      "metadata": {
        "id": "2867af89-0569-4bf2-8940-4a6502b04170"
      },
      "source": [
        "All values are appropriate in the form of numbers starting from 1982 to 2015."
      ]
    },
    {
      "cell_type": "code",
      "execution_count": 10,
      "id": "713755c1-ecd8-4b0c-97ce-22d60f8edc13",
      "metadata": {
        "colab": {
          "base_uri": "https://localhost:8080/"
        },
        "id": "713755c1-ecd8-4b0c-97ce-22d60f8edc13",
        "outputId": "d8303fac-d81b-4407-efdd-2ae056e13b9c"
      },
      "outputs": [
        {
          "data": {
            "text/plain": [
              "array(['Kia', 'BMW', 'Volvo', 'Nissan', 'Chevrolet', 'Audi', 'Ford',\n",
              "       'Hyundai', 'Buick', 'Cadillac', 'Acura', 'Lexus', 'Infiniti',\n",
              "       'Jeep', 'Mercedes-Benz', 'Mitsubishi', 'Mazda', 'MINI',\n",
              "       'Land Rover', 'Lincoln', 'lincoln', 'Jaguar', 'Volkswagen',\n",
              "       'Toyota', 'Subaru', 'Scion', 'Porsche', nan, 'bmw', 'Dodge',\n",
              "       'FIAT', 'Chrysler', 'ford', 'Ferrari', 'Honda', 'GMC',\n",
              "       'mitsubishi', 'Ram', 'smart', 'chevrolet', 'Bentley', 'chrysler',\n",
              "       'pontiac', 'Pontiac', 'Saturn', 'Maserati', 'Mercury', 'HUMMER',\n",
              "       'landrover', 'cadillac', 'land rover', 'mercedes', 'mazda',\n",
              "       'toyota', 'lexus', 'gmc truck', 'honda', 'nissan', 'porsche',\n",
              "       'Saab', 'Suzuki', 'dodge', 'subaru', 'Oldsmobile', 'oldsmobile',\n",
              "       'hyundai', 'jeep', 'Isuzu', 'dodge tk', 'Geo', 'acura',\n",
              "       'volkswagen', 'suzuki', 'kia', 'audi', 'Rolls-Royce', 'gmc',\n",
              "       'maserati', 'mazda tk', 'mercury', 'buick', 'hyundai tk',\n",
              "       'mercedes-b', 'vw', 'Daewoo', 'chev truck', 'ford tk', 'plymouth',\n",
              "       'Plymouth', 'ford truck', 'Tesla', 'airstream', 'dot',\n",
              "       'Aston Martin', 'Fisker', 'Lamborghini', 'Lotus'], dtype=object)"
            ]
          },
          "execution_count": 10,
          "metadata": {},
          "output_type": "execute_result"
        }
      ],
      "source": [
        "# Check unique value 'make'\n",
        "dfcar['make'].unique()"
      ]
    },
    {
      "cell_type": "markdown",
      "id": "7957a0cf-739b-46ce-868a-0a58e2031f65",
      "metadata": {
        "id": "7957a0cf-739b-46ce-868a-0a58e2031f65"
      },
      "source": [
        "there are words with capital letters, all upper case, and all lower case. Therefore, we will change the values to all lowercase in the next stage. The same thing might also happen to other object type features."
      ]
    },
    {
      "cell_type": "code",
      "execution_count": 11,
      "id": "cb86926b-5576-48a7-b1fe-4c4d6ab869a7",
      "metadata": {
        "colab": {
          "base_uri": "https://localhost:8080/"
        },
        "id": "cb86926b-5576-48a7-b1fe-4c4d6ab869a7",
        "outputId": "2976ad1c-2d20-4593-de76-5ad2d910d725"
      },
      "outputs": [
        {
          "data": {
            "text/plain": [
              "array(['LX', '328i SULEV', 'T5', ..., 'pure', 'EWB', 'Power Wagon'],\n",
              "      dtype=object)"
            ]
          },
          "execution_count": 11,
          "metadata": {},
          "output_type": "execute_result"
        }
      ],
      "source": [
        "# Check unique value 'trim'\n",
        "dfcar['trim'].unique()"
      ]
    },
    {
      "cell_type": "markdown",
      "id": "-Hb5ALsB0ofS",
      "metadata": {
        "id": "-Hb5ALsB0ofS"
      },
      "source": [
        "### Outliers (year, condition, odometer, MMR, sellingprice)"
      ]
    },
    {
      "cell_type": "code",
      "execution_count": 12,
      "id": "Ftysoa1g5oBO",
      "metadata": {
        "colab": {
          "base_uri": "https://localhost:8080/",
          "height": 306
        },
        "id": "Ftysoa1g5oBO",
        "outputId": "c7adbc1a-4c33-4da4-d916-1cd434a9d5bf"
      },
      "outputs": [
        {
          "data": {
            "image/png": "[encoded data removed]",
            "text/plain": [
              "<Figure size 600x300 with 5 Axes>"
            ]
          },
          "metadata": {},
          "output_type": "display_data"
        }
      ],
      "source": [
        "# Outliers\n",
        "\n",
        "plt.figure(figsize=(6, 3))\n",
        "for i in range(0, len(num)):\n",
        "    plt.subplot(1, len(num), i+1)\n",
        "    sns.boxplot(dfcar[num[i]], color='red', orient='v')\n",
        "    plt.title(num[i])\n",
        "    plt.tight_layout()"
      ]
    },
    {
      "cell_type": "markdown",
      "id": "DIs92azw8AvB",
      "metadata": {
        "id": "DIs92azw8AvB"
      },
      "source": [
        "It can be seen that `mmr` and `sellingprice` have the most outliers, as do the `odometer` and `year` columns. The quartiles and median also seem far away. This can happen because there is a lot of car data (500k++) so the MMR, selling price and odometer values also vary greatly. The column that looks the most normal is the `condition` column."
      ]
    },
    {
      "cell_type": "markdown",
      "id": "21iknE3G0vnd",
      "metadata": {
        "id": "21iknE3G0vnd"
      },
      "source": [
        "### Data Distribution (year, condition, odometer, MMR, sellingprice)"
      ]
    },
    {
      "cell_type": "code",
      "execution_count": 13,
      "id": "EyDQb6rl4zAu",
      "metadata": {
        "colab": {
          "base_uri": "https://localhost:8080/",
          "height": 596
        },
        "id": "EyDQb6rl4zAu",
        "outputId": "81b023b1-6229-4983-921a-d15b0fd818f9"
      },
      "outputs": [
        {
          "data": {
            "image/png": "[encoded data removed]",
            "text/plain": [
              "<Figure size 2100x700 with 6 Axes>"
            ]
          },
          "metadata": {},
          "output_type": "display_data"
        }
      ],
      "source": [
        "def generate_distribution_plot(train_df, continuous_features):\n",
        "    # create copy of dataframe\n",
        "    data = train_df[continuous_features].copy()\n",
        "    # Create subplots\n",
        "    fig, axes = plt.subplots(nrows=len(data.columns)//2, ncols=3,figsize=(21,7))\n",
        "    fig.subplots_adjust(hspace=0.7)\n",
        "\n",
        "    # set fontdict\n",
        "    font = {'family': 'serif',\n",
        "        'color':  'darkred',\n",
        "        'weight': 'normal',\n",
        "        'size': 16,\n",
        "        }\n",
        "\n",
        "    # Generate distplot\n",
        "    for ax, feature in zip(axes.flatten(), data.columns):\n",
        "        feature_mean = data[feature].mean()\n",
        "        feature_median = data[feature].median()\n",
        "        feature_mode = data[feature].mode().values[0]\n",
        "        sns.distplot(data[feature],ax=ax)\n",
        "        ax.set_title(f'Analysis of {feature}', fontdict=font)\n",
        "        ax.axvline(feature_mean, color='r', linestyle='--', label=\"Mean\")\n",
        "        ax.axvline(feature_median, color='g', linestyle='--', label=\"Median\")\n",
        "        ax.axvline(feature_mode, color='b', linestyle='--', label=\"Mode\")\n",
        "        ax.legend()\n",
        "    plt.show()\n",
        "\n",
        "generate_distribution_plot(dfcar, num)"
      ]
    },
    {
      "cell_type": "markdown",
      "id": "eQVtOPff9qbT",
      "metadata": {
        "id": "eQVtOPff9qbT"
      },
      "source": [
        "From the graph above we can conclude:\n",
        "1. From the `year` column we can see that sales tend to increase every year and peak sales were between 2010 and 2015. We can also see that the `year` column is left-skewed.\n",
        "2. In the `condition` column, the condition of the car that is in the range of number 2 is the majority of the other conditions. This shows that the condition of the used car isn't good. However, there are quite a few cars in the condition that are rated 3 or above to 4.\n",
        "3. For the 'odometer', it can be seen that the majority are in the numbers 0 to 0.2, which means the odometer ranges from 0 to 200k. Meanwhile, using cars over 200k is relatively rare.\n",
        "4. The `mmr` and `sellingprice` columns look similar.\n",
        "5. The `odometer`, `mmr`, and `sellingprice` columns are right-skewed."
      ]
    },
    {
      "cell_type": "markdown",
      "id": "26d16a36-f701-42d8-ae35-28fce64835f9",
      "metadata": {
        "id": "26d16a36-f701-42d8-ae35-28fce64835f9"
      },
      "source": [
        "### Checking Abnormal Values"
      ]
    },
    {
      "cell_type": "markdown",
      "id": "1ce0bd64-3f67-4d60-be7d-cb6f2c041dc9",
      "metadata": {
        "id": "1ce0bd64-3f67-4d60-be7d-cb6f2c041dc9"
      },
      "source": [
        "Like the previous analysis where we found min and max values that seemed unreasonable, we will further check the data containing these values.\n",
        "\n",
        "The columns are `odometer`, `mmr`, and `sellingprice`."
      ]
    },
    {
      "cell_type": "markdown",
      "id": "55346aec-2020-4673-992d-d4fae9c1a731",
      "metadata": {
        "id": "55346aec-2020-4673-992d-d4fae9c1a731"
      },
      "source": [
        "**1. Min and Max From Odometer**"
      ]
    },
    {
      "cell_type": "code",
      "execution_count": 14,
      "id": "ed97bef9-9b30-4d6d-bc01-abda351dafac",
      "metadata": {
        "colab": {
          "base_uri": "https://localhost:8080/",
          "height": 195
        },
        "id": "ed97bef9-9b30-4d6d-bc01-abda351dafac",
        "outputId": "628cd17b-f8f6-4d47-ca29-63a23ec72c4f"
      },
      "outputs": [
        {
          "data": {
            "text/html": [
              "<div>\n",
              "<style scoped>\n",
              "    .dataframe tbody tr th:only-of-type {\n",
              "        vertical-align: middle;\n",
              "    }\n",
              "\n",
              "    .dataframe tbody tr th {\n",
              "        vertical-align: top;\n",
              "    }\n",
              "\n",
              "    .dataframe thead th {\n",
              "        text-align: right;\n",
              "    }\n",
              "</style>\n",
              "<table border=\"1\" class=\"dataframe\">\n",
              "  <thead>\n",
              "    <tr style=\"text-align: right;\">\n",
              "      <th></th>\n",
              "      <th>year</th>\n",
              "      <th>make</th>\n",
              "      <th>model</th>\n",
              "      <th>trim</th>\n",
              "      <th>body</th>\n",
              "      <th>transmission</th>\n",
              "      <th>vin</th>\n",
              "      <th>state</th>\n",
              "      <th>condition</th>\n",
              "      <th>odometer</th>\n",
              "      <th>color</th>\n",
              "      <th>interior</th>\n",
              "      <th>seller</th>\n",
              "      <th>mmr</th>\n",
              "      <th>sellingprice</th>\n",
              "      <th>saledate</th>\n",
              "    </tr>\n",
              "  </thead>\n",
              "  <tbody>\n",
              "    <tr>\n",
              "      <th>234490</th>\n",
              "      <td>1996</td>\n",
              "      <td>NaN</td>\n",
              "      <td>NaN</td>\n",
              "      <td>NaN</td>\n",
              "      <td>NaN</td>\n",
              "      <td>automatic</td>\n",
              "      <td>1b4gp44r2tb472684</td>\n",
              "      <td>fl</td>\n",
              "      <td>2.000</td>\n",
              "      <td>1.000</td>\n",
              "      <td>green</td>\n",
              "      <td>gray</td>\n",
              "      <td>lorenzo bomnin chevrolet</td>\n",
              "      <td>850</td>\n",
              "      <td>300</td>\n",
              "      <td>Tue Feb 03 2015 01:33:00 GMT-0800 (PST)</td>\n",
              "    </tr>\n",
              "    <tr>\n",
              "      <th>66526</th>\n",
              "      <td>2007</td>\n",
              "      <td>Chrysler</td>\n",
              "      <td>Sebring</td>\n",
              "      <td>Base</td>\n",
              "      <td>Sedan</td>\n",
              "      <td>automatic</td>\n",
              "      <td>1c3lc46k47n550663</td>\n",
              "      <td>fl</td>\n",
              "      <td>1.800</td>\n",
              "      <td>1.000</td>\n",
              "      <td>blue</td>\n",
              "      <td>gray</td>\n",
              "      <td>orlando kia east</td>\n",
              "      <td>5700</td>\n",
              "      <td>1500</td>\n",
              "      <td>Wed Jul 01 2015 05:30:00 GMT-0700 (PDT)</td>\n",
              "    </tr>\n",
              "    <tr>\n",
              "      <th>129747</th>\n",
              "      <td>2005</td>\n",
              "      <td>Pontiac</td>\n",
              "      <td>Grand Prix</td>\n",
              "      <td>Base</td>\n",
              "      <td>Sedan</td>\n",
              "      <td>NaN</td>\n",
              "      <td>2g2wp542651309843</td>\n",
              "      <td>ga</td>\n",
              "      <td>2.000</td>\n",
              "      <td>1.000</td>\n",
              "      <td>black</td>\n",
              "      <td>—</td>\n",
              "      <td>titlemax/forest park ga1</td>\n",
              "      <td>5225</td>\n",
              "      <td>300</td>\n",
              "      <td>Thu Jan 15 2015 12:30:00 GMT-0800 (PST)</td>\n",
              "    </tr>\n",
              "  </tbody>\n",
              "</table>\n",
              "</div>"
            ],
            "text/plain": [
              "        year      make       model  trim   body transmission  \\\n",
              "234490  1996       NaN         NaN   NaN    NaN    automatic   \n",
              "66526   2007  Chrysler     Sebring  Base  Sedan    automatic   \n",
              "129747  2005   Pontiac  Grand Prix  Base  Sedan          NaN   \n",
              "\n",
              "                      vin state  condition  odometer  color interior  \\\n",
              "234490  1b4gp44r2tb472684    fl      2.000     1.000  green     gray   \n",
              "66526   1c3lc46k47n550663    fl      1.800     1.000   blue     gray   \n",
              "129747  2g2wp542651309843    ga      2.000     1.000  black        —   \n",
              "\n",
              "                          seller   mmr  sellingprice  \\\n",
              "234490  lorenzo bomnin chevrolet   850           300   \n",
              "66526           orlando kia east  5700          1500   \n",
              "129747  titlemax/forest park ga1  5225           300   \n",
              "\n",
              "                                       saledate  \n",
              "234490  Tue Feb 03 2015 01:33:00 GMT-0800 (PST)  \n",
              "66526   Wed Jul 01 2015 05:30:00 GMT-0700 (PDT)  \n",
              "129747  Thu Jan 15 2015 12:30:00 GMT-0800 (PST)  "
            ]
          },
          "execution_count": 14,
          "metadata": {},
          "output_type": "execute_result"
        }
      ],
      "source": [
        "# Rows with 'odometer' = 1 (min)\n",
        "min_odo = dfcar[dfcar['odometer'] == 1.000]\n",
        "min_odo.sample(3)"
      ]
    },
    {
      "cell_type": "code",
      "execution_count": 15,
      "id": "fc0f1baf-ce1a-41fa-b728-71e9d714c6ad",
      "metadata": {
        "colab": {
          "base_uri": "https://localhost:8080/",
          "height": 195
        },
        "id": "fc0f1baf-ce1a-41fa-b728-71e9d714c6ad",
        "outputId": "31c45ffe-1173-4864-c6e2-9a11f06b41df"
      },
      "outputs": [
        {
          "data": {
            "text/html": [
              "<div>\n",
              "<style scoped>\n",
              "    .dataframe tbody tr th:only-of-type {\n",
              "        vertical-align: middle;\n",
              "    }\n",
              "\n",
              "    .dataframe tbody tr th {\n",
              "        vertical-align: top;\n",
              "    }\n",
              "\n",
              "    .dataframe thead th {\n",
              "        text-align: right;\n",
              "    }\n",
              "</style>\n",
              "<table border=\"1\" class=\"dataframe\">\n",
              "  <thead>\n",
              "    <tr style=\"text-align: right;\">\n",
              "      <th></th>\n",
              "      <th>year</th>\n",
              "      <th>make</th>\n",
              "      <th>model</th>\n",
              "      <th>trim</th>\n",
              "      <th>body</th>\n",
              "      <th>transmission</th>\n",
              "      <th>vin</th>\n",
              "      <th>state</th>\n",
              "      <th>condition</th>\n",
              "      <th>odometer</th>\n",
              "      <th>color</th>\n",
              "      <th>interior</th>\n",
              "      <th>seller</th>\n",
              "      <th>mmr</th>\n",
              "      <th>sellingprice</th>\n",
              "      <th>saledate</th>\n",
              "    </tr>\n",
              "  </thead>\n",
              "  <tbody>\n",
              "    <tr>\n",
              "      <th>367686</th>\n",
              "      <td>2005</td>\n",
              "      <td>BMW</td>\n",
              "      <td>6 Series</td>\n",
              "      <td>645Ci</td>\n",
              "      <td>Convertible</td>\n",
              "      <td>automatic</td>\n",
              "      <td>wbaek73475b326491</td>\n",
              "      <td>il</td>\n",
              "      <td>1.000</td>\n",
              "      <td>999999.000</td>\n",
              "      <td>silver</td>\n",
              "      <td>gray</td>\n",
              "      <td>santander consumer</td>\n",
              "      <td>5575</td>\n",
              "      <td>1650</td>\n",
              "      <td>Tue Mar 03 2015 05:00:00 GMT-0800 (PST)</td>\n",
              "    </tr>\n",
              "    <tr>\n",
              "      <th>245595</th>\n",
              "      <td>2005</td>\n",
              "      <td>Kia</td>\n",
              "      <td>Sedona</td>\n",
              "      <td>EX</td>\n",
              "      <td>Minivan</td>\n",
              "      <td>automatic</td>\n",
              "      <td>kndup131556647473</td>\n",
              "      <td>oh</td>\n",
              "      <td>1.000</td>\n",
              "      <td>999999.000</td>\n",
              "      <td>blue</td>\n",
              "      <td>tan</td>\n",
              "      <td>credit acceptance corp/vrs/southfield</td>\n",
              "      <td>100</td>\n",
              "      <td>200</td>\n",
              "      <td>Thu Feb 12 2015 01:00:00 GMT-0800 (PST)</td>\n",
              "    </tr>\n",
              "    <tr>\n",
              "      <th>452007</th>\n",
              "      <td>2007</td>\n",
              "      <td>NaN</td>\n",
              "      <td>NaN</td>\n",
              "      <td>NaN</td>\n",
              "      <td>NaN</td>\n",
              "      <td>manual</td>\n",
              "      <td>jm1fe173870213192</td>\n",
              "      <td>tx</td>\n",
              "      <td>2.300</td>\n",
              "      <td>999999.000</td>\n",
              "      <td>red</td>\n",
              "      <td>tan</td>\n",
              "      <td>wells fargo dealer services</td>\n",
              "      <td>3575</td>\n",
              "      <td>1200</td>\n",
              "      <td>Wed May 27 2015 05:30:00 GMT-0700 (PDT)</td>\n",
              "    </tr>\n",
              "  </tbody>\n",
              "</table>\n",
              "</div>"
            ],
            "text/plain": [
              "        year make     model   trim         body transmission  \\\n",
              "367686  2005  BMW  6 Series  645Ci  Convertible    automatic   \n",
              "245595  2005  Kia    Sedona     EX      Minivan    automatic   \n",
              "452007  2007  NaN       NaN    NaN          NaN       manual   \n",
              "\n",
              "                      vin state  condition   odometer   color interior  \\\n",
              "367686  wbaek73475b326491    il      1.000 999999.000  silver     gray   \n",
              "245595  kndup131556647473    oh      1.000 999999.000    blue      tan   \n",
              "452007  jm1fe173870213192    tx      2.300 999999.000     red      tan   \n",
              "\n",
              "                                       seller   mmr  sellingprice  \\\n",
              "367686                     santander consumer  5575          1650   \n",
              "245595  credit acceptance corp/vrs/southfield   100           200   \n",
              "452007            wells fargo dealer services  3575          1200   \n",
              "\n",
              "                                       saledate  \n",
              "367686  Tue Mar 03 2015 05:00:00 GMT-0800 (PST)  \n",
              "245595  Thu Feb 12 2015 01:00:00 GMT-0800 (PST)  \n",
              "452007  Wed May 27 2015 05:30:00 GMT-0700 (PDT)  "
            ]
          },
          "execution_count": 15,
          "metadata": {},
          "output_type": "execute_result"
        }
      ],
      "source": [
        "# Rows with 'odometer' = 999999 (max)\n",
        "max_odo = dfcar[dfcar['odometer'] == 999999.000]\n",
        "max_odo.sample(3)"
      ]
    },
    {
      "cell_type": "markdown",
      "id": "eee48b10-44e4-46c1-acf8-f7c6790be44d",
      "metadata": {
        "id": "eee48b10-44e4-46c1-acf8-f7c6790be44d"
      },
      "source": [
        "From the min and max of the `odometer` column above, it can be seen that the data not only contains min and max values that are far away but other columns are also abnormal. This can be seen from the sample above where the min and max rows also contain many null values, low mmr and selling price values, and poor conditions."
      ]
    },
    {
      "cell_type": "markdown",
      "id": "5fd7d44b-e067-4600-bb91-3ea07a84cb4f",
      "metadata": {
        "id": "5fd7d44b-e067-4600-bb91-3ea07a84cb4f"
      },
      "source": [
        "**2. Min from Selling Price**"
      ]
    },
    {
      "cell_type": "code",
      "execution_count": 16,
      "id": "3b2a5787-2a50-43c9-a76b-b8b77c93fa38",
      "metadata": {
        "colab": {
          "base_uri": "https://localhost:8080/",
          "height": 244
        },
        "id": "3b2a5787-2a50-43c9-a76b-b8b77c93fa38",
        "outputId": "e8fc65ff-20ee-4130-dd78-08c3b8e5eb07"
      },
      "outputs": [
        {
          "data": {
            "text/html": [
              "<div>\n",
              "<style scoped>\n",
              "    .dataframe tbody tr th:only-of-type {\n",
              "        vertical-align: middle;\n",
              "    }\n",
              "\n",
              "    .dataframe tbody tr th {\n",
              "        vertical-align: top;\n",
              "    }\n",
              "\n",
              "    .dataframe thead th {\n",
              "        text-align: right;\n",
              "    }\n",
              "</style>\n",
              "<table border=\"1\" class=\"dataframe\">\n",
              "  <thead>\n",
              "    <tr style=\"text-align: right;\">\n",
              "      <th></th>\n",
              "      <th>year</th>\n",
              "      <th>make</th>\n",
              "      <th>model</th>\n",
              "      <th>trim</th>\n",
              "      <th>body</th>\n",
              "      <th>transmission</th>\n",
              "      <th>vin</th>\n",
              "      <th>state</th>\n",
              "      <th>condition</th>\n",
              "      <th>odometer</th>\n",
              "      <th>color</th>\n",
              "      <th>interior</th>\n",
              "      <th>seller</th>\n",
              "      <th>mmr</th>\n",
              "      <th>sellingprice</th>\n",
              "      <th>saledate</th>\n",
              "    </tr>\n",
              "  </thead>\n",
              "  <tbody>\n",
              "    <tr>\n",
              "      <th>7566</th>\n",
              "      <td>2002</td>\n",
              "      <td>Ford</td>\n",
              "      <td>F-350 Super Duty</td>\n",
              "      <td>XLT</td>\n",
              "      <td>Crew Cab</td>\n",
              "      <td>NaN</td>\n",
              "      <td>1ftsw31f52ed16477</td>\n",
              "      <td>ca</td>\n",
              "      <td>2.000</td>\n",
              "      <td>NaN</td>\n",
              "      <td>white</td>\n",
              "      <td>gray</td>\n",
              "      <td>laa leasing</td>\n",
              "      <td>7850</td>\n",
              "      <td>1</td>\n",
              "      <td>Thu Feb 05 2015 04:00:00 GMT-0800 (PST)</td>\n",
              "    </tr>\n",
              "    <tr>\n",
              "      <th>48453</th>\n",
              "      <td>2003</td>\n",
              "      <td>Mercedes-Benz</td>\n",
              "      <td>E-Class</td>\n",
              "      <td>E500</td>\n",
              "      <td>Sedan</td>\n",
              "      <td>automatic</td>\n",
              "      <td>wdbuf70j73a269529</td>\n",
              "      <td>ga</td>\n",
              "      <td>2.100</td>\n",
              "      <td>1.000</td>\n",
              "      <td>black</td>\n",
              "      <td>black</td>\n",
              "      <td>peoples credit company inc</td>\n",
              "      <td>7325</td>\n",
              "      <td>1</td>\n",
              "      <td>Tue Jan 06 2015 09:30:00 GMT-0800 (PST)</td>\n",
              "    </tr>\n",
              "    <tr>\n",
              "      <th>293223</th>\n",
              "      <td>2014</td>\n",
              "      <td>Ford</td>\n",
              "      <td>E-Series Van</td>\n",
              "      <td>E-250</td>\n",
              "      <td>E-Series Van</td>\n",
              "      <td>automatic</td>\n",
              "      <td>1ftne2ew6eda13643</td>\n",
              "      <td>tx</td>\n",
              "      <td>4.100</td>\n",
              "      <td>31886.000</td>\n",
              "      <td>white</td>\n",
              "      <td>gray</td>\n",
              "      <td>u-haul</td>\n",
              "      <td>20800</td>\n",
              "      <td>1</td>\n",
              "      <td>Thu Feb 12 2015 03:00:00 GMT-0800 (PST)</td>\n",
              "    </tr>\n",
              "    <tr>\n",
              "      <th>348252</th>\n",
              "      <td>1995</td>\n",
              "      <td>Isuzu</td>\n",
              "      <td>Rodeo</td>\n",
              "      <td>LS</td>\n",
              "      <td>SUV</td>\n",
              "      <td>NaN</td>\n",
              "      <td>4s2cm58v9s4375559</td>\n",
              "      <td>va</td>\n",
              "      <td>1.000</td>\n",
              "      <td>254132.000</td>\n",
              "      <td>red</td>\n",
              "      <td>gray</td>\n",
              "      <td>automotive remarketing inc</td>\n",
              "      <td>375</td>\n",
              "      <td>1</td>\n",
              "      <td>Wed Mar 04 2015 01:05:00 GMT-0800 (PST)</td>\n",
              "    </tr>\n",
              "  </tbody>\n",
              "</table>\n",
              "</div>"
            ],
            "text/plain": [
              "        year           make             model   trim          body  \\\n",
              "7566    2002           Ford  F-350 Super Duty    XLT      Crew Cab   \n",
              "48453   2003  Mercedes-Benz           E-Class   E500         Sedan   \n",
              "293223  2014           Ford      E-Series Van  E-250  E-Series Van   \n",
              "348252  1995          Isuzu             Rodeo     LS           SUV   \n",
              "\n",
              "       transmission                vin state  condition   odometer  color  \\\n",
              "7566            NaN  1ftsw31f52ed16477    ca      2.000        NaN  white   \n",
              "48453     automatic  wdbuf70j73a269529    ga      2.100      1.000  black   \n",
              "293223    automatic  1ftne2ew6eda13643    tx      4.100  31886.000  white   \n",
              "348252          NaN  4s2cm58v9s4375559    va      1.000 254132.000    red   \n",
              "\n",
              "       interior                      seller    mmr  sellingprice  \\\n",
              "7566       gray                 laa leasing   7850             1   \n",
              "48453     black  peoples credit company inc   7325             1   \n",
              "293223     gray                      u-haul  20800             1   \n",
              "348252     gray  automotive remarketing inc    375             1   \n",
              "\n",
              "                                       saledate  \n",
              "7566    Thu Feb 05 2015 04:00:00 GMT-0800 (PST)  \n",
              "48453   Tue Jan 06 2015 09:30:00 GMT-0800 (PST)  \n",
              "293223  Thu Feb 12 2015 03:00:00 GMT-0800 (PST)  \n",
              "348252  Wed Mar 04 2015 01:05:00 GMT-0800 (PST)  "
            ]
          },
          "execution_count": 16,
          "metadata": {},
          "output_type": "execute_result"
        }
      ],
      "source": [
        "# Rows with 'sellingprice' = 1 (min)\n",
        "min_price = dfcar[dfcar['sellingprice'] == 1.000]\n",
        "min_price"
      ]
    },
    {
      "cell_type": "markdown",
      "id": "eda0c82d-b603-4752-bc6b-81f712b1d086",
      "metadata": {
        "id": "eda0c82d-b603-4752-bc6b-81f712b1d086"
      },
      "source": [
        "**3. Min from MMR**"
      ]
    },
    {
      "cell_type": "code",
      "execution_count": 17,
      "id": "7b2ca6cc-2357-45d6-8981-a768b86b7393",
      "metadata": {
        "colab": {
          "base_uri": "https://localhost:8080/",
          "height": 195
        },
        "id": "7b2ca6cc-2357-45d6-8981-a768b86b7393",
        "outputId": "74bcf8cc-7ff2-4d4c-a7df-57cf8c909288"
      },
      "outputs": [
        {
          "data": {
            "text/html": [
              "<div>\n",
              "<style scoped>\n",
              "    .dataframe tbody tr th:only-of-type {\n",
              "        vertical-align: middle;\n",
              "    }\n",
              "\n",
              "    .dataframe tbody tr th {\n",
              "        vertical-align: top;\n",
              "    }\n",
              "\n",
              "    .dataframe thead th {\n",
              "        text-align: right;\n",
              "    }\n",
              "</style>\n",
              "<table border=\"1\" class=\"dataframe\">\n",
              "  <thead>\n",
              "    <tr style=\"text-align: right;\">\n",
              "      <th></th>\n",
              "      <th>year</th>\n",
              "      <th>make</th>\n",
              "      <th>model</th>\n",
              "      <th>trim</th>\n",
              "      <th>body</th>\n",
              "      <th>transmission</th>\n",
              "      <th>vin</th>\n",
              "      <th>state</th>\n",
              "      <th>condition</th>\n",
              "      <th>odometer</th>\n",
              "      <th>color</th>\n",
              "      <th>interior</th>\n",
              "      <th>seller</th>\n",
              "      <th>mmr</th>\n",
              "      <th>sellingprice</th>\n",
              "      <th>saledate</th>\n",
              "    </tr>\n",
              "  </thead>\n",
              "  <tbody>\n",
              "    <tr>\n",
              "      <th>28688</th>\n",
              "      <td>2000</td>\n",
              "      <td>Chevrolet</td>\n",
              "      <td>Tahoe</td>\n",
              "      <td>LS</td>\n",
              "      <td>SUV</td>\n",
              "      <td>automatic</td>\n",
              "      <td>1gnec13t4yj164096</td>\n",
              "      <td>sc</td>\n",
              "      <td>NaN</td>\n",
              "      <td>347449.000</td>\n",
              "      <td>white</td>\n",
              "      <td>gray</td>\n",
              "      <td>five star florence llc</td>\n",
              "      <td>25</td>\n",
              "      <td>900</td>\n",
              "      <td>Thu Dec 18 2014 10:00:00 GMT-0800 (PST)</td>\n",
              "    </tr>\n",
              "    <tr>\n",
              "      <th>440107</th>\n",
              "      <td>2002</td>\n",
              "      <td>Saab</td>\n",
              "      <td>9-5</td>\n",
              "      <td>Arc 3.0t</td>\n",
              "      <td>Sedan</td>\n",
              "      <td>automatic</td>\n",
              "      <td>ys3ed49z623031038</td>\n",
              "      <td>fl</td>\n",
              "      <td>2.100</td>\n",
              "      <td>171964.000</td>\n",
              "      <td>silver</td>\n",
              "      <td>black</td>\n",
              "      <td>courtesy kia of brandon</td>\n",
              "      <td>25</td>\n",
              "      <td>800</td>\n",
              "      <td>Thu May 21 2015 09:20:00 GMT-0700 (PDT)</td>\n",
              "    </tr>\n",
              "    <tr>\n",
              "      <th>205709</th>\n",
              "      <td>1997</td>\n",
              "      <td>Nissan</td>\n",
              "      <td>Maxima</td>\n",
              "      <td>GLE</td>\n",
              "      <td>Sedan</td>\n",
              "      <td>automatic</td>\n",
              "      <td>jn1ca21d3vt870132</td>\n",
              "      <td>fl</td>\n",
              "      <td>1.900</td>\n",
              "      <td>220607.000</td>\n",
              "      <td>black</td>\n",
              "      <td>tan</td>\n",
              "      <td>autonation nissan orange park</td>\n",
              "      <td>25</td>\n",
              "      <td>300</td>\n",
              "      <td>Tue Jan 27 2015 10:00:00 GMT-0800 (PST)</td>\n",
              "    </tr>\n",
              "  </tbody>\n",
              "</table>\n",
              "</div>"
            ],
            "text/plain": [
              "        year       make   model      trim   body transmission  \\\n",
              "28688   2000  Chevrolet   Tahoe        LS    SUV    automatic   \n",
              "440107  2002       Saab     9-5  Arc 3.0t  Sedan    automatic   \n",
              "205709  1997     Nissan  Maxima       GLE  Sedan    automatic   \n",
              "\n",
              "                      vin state  condition   odometer   color interior  \\\n",
              "28688   1gnec13t4yj164096    sc        NaN 347449.000   white     gray   \n",
              "440107  ys3ed49z623031038    fl      2.100 171964.000  silver    black   \n",
              "205709  jn1ca21d3vt870132    fl      1.900 220607.000   black      tan   \n",
              "\n",
              "                               seller  mmr  sellingprice  \\\n",
              "28688          five star florence llc   25           900   \n",
              "440107        courtesy kia of brandon   25           800   \n",
              "205709  autonation nissan orange park   25           300   \n",
              "\n",
              "                                       saledate  \n",
              "28688   Thu Dec 18 2014 10:00:00 GMT-0800 (PST)  \n",
              "440107  Thu May 21 2015 09:20:00 GMT-0700 (PDT)  \n",
              "205709  Tue Jan 27 2015 10:00:00 GMT-0800 (PST)  "
            ]
          },
          "execution_count": 17,
          "metadata": {},
          "output_type": "execute_result"
        }
      ],
      "source": [
        "# Rows with 'mmr' = 25 (min)\n",
        "min_mmr = dfcar[dfcar['mmr'] == 25.000]\n",
        "min_mmr.sample(3)"
      ]
    },
    {
      "cell_type": "markdown",
      "id": "ac8d58bb-b8a0-4bf6-a41e-523a9f8a4503",
      "metadata": {
        "id": "ac8d58bb-b8a0-4bf6-a41e-523a9f8a4503"
      },
      "source": [
        "## MULTIVARIATE ANALYSIS"
      ]
    },
    {
      "cell_type": "markdown",
      "id": "6432f79d-c082-4426-859f-3682940a48aa",
      "metadata": {
        "id": "6432f79d-c082-4426-859f-3682940a48aa"
      },
      "source": [
        "### Correlation Heatmap"
      ]
    },
    {
      "cell_type": "code",
      "execution_count": 18,
      "id": "32e57dcf-82a1-4777-89d0-9656eb43ab51",
      "metadata": {
        "colab": {
          "base_uri": "https://localhost:8080/",
          "height": 391
        },
        "id": "32e57dcf-82a1-4777-89d0-9656eb43ab51",
        "outputId": "b2257abb-cf6d-4a0f-8390-7913666e44d8"
      },
      "outputs": [
        {
          "data": {
            "image/png": "[encoded data removed]",
            "text/plain": [
              "<Figure size 700x400 with 2 Axes>"
            ]
          },
          "metadata": {},
          "output_type": "display_data"
        }
      ],
      "source": [
        "\n",
        "\n",
        "# Calculate the correlation matrix for numerical columns\n",
        "corr_matrix = dfcar.select_dtypes(include=['number']).corr()\n",
        "\n",
        "# Plot the heatmap\n",
        "plt.figure(figsize=(7, 4))\n",
        "sns.heatmap(corr_matrix, annot=True, cmap='coolwarm', center=0)\n",
        "plt.title('Correlation Heatmap')\n",
        "plt.show()\n"
      ]
    },
    {
      "cell_type": "markdown",
      "id": "62772899-e8d7-41fa-b92f-197d14991026",
      "metadata": {
        "id": "62772899-e8d7-41fa-b92f-197d14991026"
      },
      "source": [
        "1. The correlation between `year` and `sellingprice` is positive, indicating that the newer the car, the higher the selling price.\n",
        "2. The `condition` column has a positive correlation with `sellingprice`, which means the better the condition of the car, the higher the selling price.\n",
        "3. The `odometer` column has a negative correlation with `sellingprice`, indicating that the less mileage, the higher the selling price.\n",
        "4. The `mmr` column has a fairly strong positive correlation with `sellingprice`, indicating that the selling price predicted by MMR has a good correlation with the actual selling price.\n",
        "5. The 'Year' and 'Odometer' columns also show a fairly high negative correlation, meaning that the latest cars have odometers that tend to be small"
      ]
    },
    {
      "cell_type": "markdown",
      "id": "6d66d852-2ac5-43d6-a90c-f878571afa22",
      "metadata": {
        "id": "6d66d852-2ac5-43d6-a90c-f878571afa22"
      },
      "source": [
        "----------"
      ]
    },
    {
      "cell_type": "markdown",
      "id": "d2bc81b2-7c35-4a28-8ebb-3331f0eb914f",
      "metadata": {
        "id": "d2bc81b2-7c35-4a28-8ebb-3331f0eb914f"
      },
      "source": [
        "# Data Preparation"
      ]
    },
    {
      "cell_type": "markdown",
      "id": "0ca27ce0-3f73-4ac3-9395-02b828bfdeb2",
      "metadata": {
        "id": "0ca27ce0-3f73-4ac3-9395-02b828bfdeb2"
      },
      "source": [
        "----"
      ]
    },
    {
      "cell_type": "markdown",
      "id": "5d4a8769-ea20-4a72-a6fe-e587e857e33a",
      "metadata": {
        "id": "5d4a8769-ea20-4a72-a6fe-e587e857e33a"
      },
      "source": [
        "## Data Cleansing"
      ]
    },
    {
      "cell_type": "markdown",
      "id": "20ee3b2c-5361-4f11-8428-01db34d969ed",
      "metadata": {
        "id": "20ee3b2c-5361-4f11-8428-01db34d969ed"
      },
      "source": [
        "### Dropping"
      ]
    },
    {
      "cell_type": "markdown",
      "id": "05e0f875-07b3-4308-be58-c4bc3d73b276",
      "metadata": {
        "id": "05e0f875-07b3-4308-be58-c4bc3d73b276"
      },
      "source": [
        "**Rows with Abnormal Values**"
      ]
    },
    {
      "cell_type": "code",
      "execution_count": 19,
      "id": "W7UUmKfoyXUp",
      "metadata": {
        "id": "W7UUmKfoyXUp"
      },
      "outputs": [],
      "source": [
        "dfcar2 = dfcar.copy()"
      ]
    },
    {
      "cell_type": "code",
      "execution_count": 20,
      "id": "3f9f9178-14ea-493d-9afe-b086a6db5137",
      "metadata": {
        "id": "3f9f9178-14ea-493d-9afe-b086a6db5137"
      },
      "outputs": [],
      "source": [
        "# Drop nilai min odo\n",
        "i_min_odo = dfcar2[((dfcar2.odometer == 1.000))].index\n",
        "dfcar2 = dfcar2.drop(i_min_odo)"
      ]
    },
    {
      "cell_type": "code",
      "execution_count": 21,
      "id": "b4c4db7d-4f0e-4133-a52f-317f27b8e57e",
      "metadata": {
        "id": "b4c4db7d-4f0e-4133-a52f-317f27b8e57e"
      },
      "outputs": [],
      "source": [
        "# Drop nilai max odo\n",
        "i_max_odo = dfcar2[((dfcar2.odometer == 999999.000))].index\n",
        "dfcar2 = dfcar2.drop(i_max_odo)"
      ]
    },
    {
      "cell_type": "code",
      "execution_count": 22,
      "id": "7139d827-653c-4173-b542-0f92342a4e33",
      "metadata": {
        "id": "7139d827-653c-4173-b542-0f92342a4e33"
      },
      "outputs": [],
      "source": [
        "# Drop nilai min sellingprice\n",
        "i_min_price = dfcar2[((dfcar2.sellingprice == 1.000))].index\n",
        "dfcar2 = dfcar2.drop(i_min_price)"
      ]
    },
    {
      "cell_type": "code",
      "execution_count": 23,
      "id": "9d61352c-ff74-4c92-bfe0-e750c609cf0b",
      "metadata": {
        "id": "9d61352c-ff74-4c92-bfe0-e750c609cf0b"
      },
      "outputs": [],
      "source": [
        "# Drop nilai min mmr\n",
        "i_min_mmr = dfcar2[((dfcar2.mmr == 25.000))].index\n",
        "dfcar2 = dfcar2.drop(i_min_mmr)"
      ]
    },
    {
      "cell_type": "code",
      "execution_count": 24,
      "id": "663c4c49-ff96-431a-bdbd-9ccacd54899d",
      "metadata": {
        "colab": {
          "base_uri": "https://localhost:8080/"
        },
        "id": "663c4c49-ff96-431a-bdbd-9ccacd54899d",
        "outputId": "b6c10525-e50d-4449-c4e5-b3e7f1d0dbc7"
      },
      "outputs": [
        {
          "data": {
            "text/plain": [
              "(557391, 16)"
            ]
          },
          "execution_count": 24,
          "metadata": {},
          "output_type": "execute_result"
        }
      ],
      "source": [
        "dfcar2.shape"
      ]
    },
    {
      "cell_type": "markdown",
      "id": "fb78ffa7-d672-44df-b8c6-003704c69225",
      "metadata": {
        "id": "fb78ffa7-d672-44df-b8c6-003704c69225"
      },
      "source": [
        "**Irrelevant Features**"
      ]
    },
    {
      "cell_type": "markdown",
      "id": "0253fd46-af95-4c09-9496-d5e44cad57af",
      "metadata": {
        "id": "0253fd46-af95-4c09-9496-d5e44cad57af"
      },
      "source": [
        "Some features seem less relevant and their unique value is too broad, as we have analyzed previously. So it is assumed that these features do not have a particular pattern. These features are `vin`, `sellingprice`, and `saledate` which will be removed. The reasons are:  \n",
        "a. `vin` is not a feature that determines the price of a car because it's juts the identification number for the car.  \n",
        "b. `sellingprice` has a high correlation (0.98) with `mmr` (target feature).  \n",
        "c. `saledate` does not show a significant factor because the time is too broad and uncertain so there is no special pattern that influences the selling price of a car."
      ]
    },
    {
      "cell_type": "code",
      "execution_count": 25,
      "id": "a3b752be-0e97-427b-bec1-f36dee53c3e3",
      "metadata": {
        "colab": {
          "base_uri": "https://localhost:8080/",
          "height": 143
        },
        "id": "a3b752be-0e97-427b-bec1-f36dee53c3e3",
        "outputId": "48d696fe-4823-4083-9503-72057d32b1a3"
      },
      "outputs": [
        {
          "data": {
            "text/html": [
              "<div>\n",
              "<style scoped>\n",
              "    .dataframe tbody tr th:only-of-type {\n",
              "        vertical-align: middle;\n",
              "    }\n",
              "\n",
              "    .dataframe tbody tr th {\n",
              "        vertical-align: top;\n",
              "    }\n",
              "\n",
              "    .dataframe thead th {\n",
              "        text-align: right;\n",
              "    }\n",
              "</style>\n",
              "<table border=\"1\" class=\"dataframe\">\n",
              "  <thead>\n",
              "    <tr style=\"text-align: right;\">\n",
              "      <th></th>\n",
              "      <th>year</th>\n",
              "      <th>make</th>\n",
              "      <th>model</th>\n",
              "      <th>trim</th>\n",
              "      <th>body</th>\n",
              "      <th>transmission</th>\n",
              "      <th>state</th>\n",
              "      <th>condition</th>\n",
              "      <th>odometer</th>\n",
              "      <th>color</th>\n",
              "      <th>interior</th>\n",
              "      <th>seller</th>\n",
              "      <th>mmr</th>\n",
              "    </tr>\n",
              "  </thead>\n",
              "  <tbody>\n",
              "    <tr>\n",
              "      <th>0</th>\n",
              "      <td>2015</td>\n",
              "      <td>Kia</td>\n",
              "      <td>Sorento</td>\n",
              "      <td>LX</td>\n",
              "      <td>SUV</td>\n",
              "      <td>automatic</td>\n",
              "      <td>ca</td>\n",
              "      <td>5.000</td>\n",
              "      <td>16639.000</td>\n",
              "      <td>white</td>\n",
              "      <td>black</td>\n",
              "      <td>kia motors america, inc</td>\n",
              "      <td>20500</td>\n",
              "    </tr>\n",
              "    <tr>\n",
              "      <th>1</th>\n",
              "      <td>2015</td>\n",
              "      <td>Kia</td>\n",
              "      <td>Sorento</td>\n",
              "      <td>LX</td>\n",
              "      <td>SUV</td>\n",
              "      <td>automatic</td>\n",
              "      <td>ca</td>\n",
              "      <td>5.000</td>\n",
              "      <td>9393.000</td>\n",
              "      <td>white</td>\n",
              "      <td>beige</td>\n",
              "      <td>kia motors america, inc</td>\n",
              "      <td>20800</td>\n",
              "    </tr>\n",
              "    <tr>\n",
              "      <th>2</th>\n",
              "      <td>2014</td>\n",
              "      <td>BMW</td>\n",
              "      <td>3 Series</td>\n",
              "      <td>328i SULEV</td>\n",
              "      <td>Sedan</td>\n",
              "      <td>automatic</td>\n",
              "      <td>ca</td>\n",
              "      <td>4.500</td>\n",
              "      <td>1331.000</td>\n",
              "      <td>gray</td>\n",
              "      <td>black</td>\n",
              "      <td>financial services remarketing (lease)</td>\n",
              "      <td>31900</td>\n",
              "    </tr>\n",
              "  </tbody>\n",
              "</table>\n",
              "</div>"
            ],
            "text/plain": [
              "   year make     model        trim   body transmission state  condition  \\\n",
              "0  2015  Kia   Sorento          LX    SUV    automatic    ca      5.000   \n",
              "1  2015  Kia   Sorento          LX    SUV    automatic    ca      5.000   \n",
              "2  2014  BMW  3 Series  328i SULEV  Sedan    automatic    ca      4.500   \n",
              "\n",
              "   odometer  color interior                                  seller    mmr  \n",
              "0 16639.000  white    black                 kia motors america, inc  20500  \n",
              "1  9393.000  white    beige                 kia motors america, inc  20800  \n",
              "2  1331.000   gray    black  financial services remarketing (lease)  31900  "
            ]
          },
          "execution_count": 25,
          "metadata": {},
          "output_type": "execute_result"
        }
      ],
      "source": [
        "# Delete the irrelevant features\n",
        "dfcar2 = dfcar2.drop(['vin','sellingprice','saledate'], axis=1)\n",
        "dfcar2.head(3)"
      ]
    },
    {
      "cell_type": "markdown",
      "id": "cddb7ad0-1878-4f8b-9d24-93bb0ae65bb4",
      "metadata": {
        "id": "cddb7ad0-1878-4f8b-9d24-93bb0ae65bb4"
      },
      "source": [
        "### Handle Unique Values"
      ]
    },
    {
      "cell_type": "markdown",
      "id": "02b11fff-db8c-4afe-aebc-b503d54b0bb6",
      "metadata": {
        "id": "02b11fff-db8c-4afe-aebc-b503d54b0bb6"
      },
      "source": [
        "In some features there are many unique values as previously explored. We will handle unique values into:  \n",
        "1. All categorical data except saledate will be changed to lower case to get the same unique value.  \n",
        "2. The \" — \" value in the `color` and `interior` features will be replaced with the na value to be dropped later"
      ]
    },
    {
      "cell_type": "code",
      "execution_count": 26,
      "id": "450c62c8-e6a5-4ba4-9110-eec151614c30",
      "metadata": {
        "id": "450c62c8-e6a5-4ba4-9110-eec151614c30"
      },
      "outputs": [],
      "source": [
        "def content_consistent(df):\n",
        "    cols = df.select_dtypes(object).columns.difference(['saledate'])\n",
        "    df[cols] = df[cols].apply(lambda x: x.str.lower())\n",
        "    return df\n",
        "\n",
        "dfcar2 = content_consistent(dfcar2)"
      ]
    },
    {
      "cell_type": "code",
      "execution_count": 27,
      "id": "62d7b3b9-d26d-4423-ab3b-23646e36a797",
      "metadata": {
        "id": "62d7b3b9-d26d-4423-ab3b-23646e36a797"
      },
      "outputs": [],
      "source": [
        "import re\n",
        "\n",
        "# Replace color and interior\n",
        "dfcar2['color'].replace('—',np.nan,inplace=True)\n",
        "dfcar2['interior'].replace('—',np.nan,inplace=True)\n",
        "\n",
        "# Replace model dan trim by remove special characters\n",
        "dfcar2['model'].replace(to_replace='[^A-Za-z0-9 ]+', value='', regex=True, inplace=True)\n",
        "dfcar2['trim'].replace(to_replace='[^A-Za-z0-9 ]+', value='', regex=True, inplace=True)\n",
        "dfcar2['seller'].replace(to_replace='[^A-Za-z0-9 ]+', value='', regex=True, inplace=True)\n",
        "\n",
        "# Replace same meaning of value\n",
        "dfcar2['make'].replace('landrover','land rover',inplace=True)\n",
        "dfcar2['make'].replace('mercedes-b','mercedes-benz',inplace=True)\n",
        "dfcar2['make'].replace('mercedes','mercedes-benz',inplace=True)\n",
        "dfcar2['make'].replace('vw','volkswagen',inplace=True)\n",
        "dfcar2['make'].replace('ford tk','ford truck',inplace=True)\n",
        "dfcar2['body'].replace('koup','coupe',inplace=True)\n",
        "dfcar2['body'].replace('regular-cab','regular cab',inplace=True)\n",
        "dfcar2['body'].replace('xtracab','extended cab',inplace=True)"
      ]
    },
    {
      "cell_type": "code",
      "execution_count": 28,
      "id": "08d20ea3-1328-42ec-9012-1cc9aa86ffd1",
      "metadata": {
        "colab": {
          "base_uri": "https://localhost:8080/",
          "height": 175
        },
        "id": "08d20ea3-1328-42ec-9012-1cc9aa86ffd1",
        "outputId": "2d1a0ebd-2c85-4110-b4bf-c64f39172867"
      },
      "outputs": [
        {
          "data": {
            "text/html": [
              "<div>\n",
              "<style scoped>\n",
              "    .dataframe tbody tr th:only-of-type {\n",
              "        vertical-align: middle;\n",
              "    }\n",
              "\n",
              "    .dataframe tbody tr th {\n",
              "        vertical-align: top;\n",
              "    }\n",
              "\n",
              "    .dataframe thead th {\n",
              "        text-align: right;\n",
              "    }\n",
              "</style>\n",
              "<table border=\"1\" class=\"dataframe\">\n",
              "  <thead>\n",
              "    <tr style=\"text-align: right;\">\n",
              "      <th></th>\n",
              "      <th>make</th>\n",
              "      <th>model</th>\n",
              "      <th>trim</th>\n",
              "      <th>body</th>\n",
              "      <th>color</th>\n",
              "      <th>interior</th>\n",
              "      <th>state</th>\n",
              "      <th>seller</th>\n",
              "    </tr>\n",
              "  </thead>\n",
              "  <tbody>\n",
              "    <tr>\n",
              "      <th>count</th>\n",
              "      <td>547162</td>\n",
              "      <td>547064</td>\n",
              "      <td>546817</td>\n",
              "      <td>544286</td>\n",
              "      <td>531988</td>\n",
              "      <td>539767</td>\n",
              "      <td>557391</td>\n",
              "      <td>557391</td>\n",
              "    </tr>\n",
              "    <tr>\n",
              "      <th>unique</th>\n",
              "      <td>61</td>\n",
              "      <td>841</td>\n",
              "      <td>1883</td>\n",
              "      <td>42</td>\n",
              "      <td>19</td>\n",
              "      <td>16</td>\n",
              "      <td>38</td>\n",
              "      <td>14152</td>\n",
              "    </tr>\n",
              "    <tr>\n",
              "      <th>top</th>\n",
              "      <td>ford</td>\n",
              "      <td>altima</td>\n",
              "      <td>base</td>\n",
              "      <td>sedan</td>\n",
              "      <td>black</td>\n",
              "      <td>black</td>\n",
              "      <td>fl</td>\n",
              "      <td>nissaninfiniti lt</td>\n",
              "    </tr>\n",
              "    <tr>\n",
              "      <th>freq</th>\n",
              "      <td>93834</td>\n",
              "      <td>19322</td>\n",
              "      <td>55641</td>\n",
              "      <td>240696</td>\n",
              "      <td>110725</td>\n",
              "      <td>244000</td>\n",
              "      <td>82780</td>\n",
              "      <td>19691</td>\n",
              "    </tr>\n",
              "  </tbody>\n",
              "</table>\n",
              "</div>"
            ],
            "text/plain": [
              "          make   model    trim    body   color interior   state  \\\n",
              "count   547162  547064  546817  544286  531988   539767  557391   \n",
              "unique      61     841    1883      42      19       16      38   \n",
              "top       ford  altima    base   sedan   black    black      fl   \n",
              "freq     93834   19322   55641  240696  110725   244000   82780   \n",
              "\n",
              "                   seller  \n",
              "count              557391  \n",
              "unique              14152  \n",
              "top     nissaninfiniti lt  \n",
              "freq                19691  "
            ]
          },
          "execution_count": 28,
          "metadata": {},
          "output_type": "execute_result"
        }
      ],
      "source": [
        "# View the results of handling value and column inconsistencies\n",
        "c = ['make', 'model', 'trim', 'body', 'color', 'interior', 'state', 'seller']\n",
        "\n",
        "dfcar2[c].describe()"
      ]
    },
    {
      "cell_type": "markdown",
      "id": "40de4c02-5e89-4129-a0a2-d04dcb49ab49",
      "metadata": {
        "id": "40de4c02-5e89-4129-a0a2-d04dcb49ab49"
      },
      "source": [
        "After cleaning the data by generalizing the string writing, the results are visible:  \n",
        "a. `make` which was originally 96 now only has 61 unique values  \n",
        "b. `model` which was originally 973 now only has 841 unique values  \n",
        "c. `trim` which was originally 1975 now only has 1883 unique values  \n",
        "d. `body` which was originally 86 now only has 42 unique values  \n",
        "e. `seller` which was originally 14264 now only has 14152 unique values  \n",
        "f. `color` and `interior` are reduced by 1 value from the previous unique value because they have been replaced by the mode value (-).  \n",
        "g. `state` is the only one that still has the same value."
      ]
    },
    {
      "cell_type": "markdown",
      "id": "677f94ab-db5d-4442-a74d-dac230ee24ca",
      "metadata": {
        "id": "677f94ab-db5d-4442-a74d-dac230ee24ca"
      },
      "source": [
        "### Handle Missing Values"
      ]
    },
    {
      "cell_type": "markdown",
      "id": "5826e32e-bb20-4884-81e8-005298a7c4c6",
      "metadata": {
        "id": "5826e32e-bb20-4884-81e8-005298a7c4c6"
      },
      "source": [
        "There are 9 features that have Null values, they are `make`, `model`, `trim`, `body`, `transmission`, `condition`, `odometer`, `color`, `interior`.  \n",
        "\n",
        "1. All missing data will be dropped.  "
      ]
    },
    {
      "cell_type": "code",
      "execution_count": 29,
      "id": "d1e4245a-c6c6-435c-b5e7-9837012b17b2",
      "metadata": {
        "id": "d1e4245a-c6c6-435c-b5e7-9837012b17b2"
      },
      "outputs": [],
      "source": [
        "# Existing columns that had null values\n",
        "cols = ['make', 'model', 'trim', 'body', 'transmission', 'color', 'interior']\n",
        "\n",
        "# Drop all rows containing null in the specified columns\n",
        "dfcar2.dropna(subset=cols, inplace=True)\n"
      ]
    },
    {
      "cell_type": "code",
      "execution_count": 30,
      "id": "c722ea3a-9410-434d-a054-fbd2fbcd800b",
      "metadata": {
        "id": "c722ea3a-9410-434d-a054-fbd2fbcd800b"
      },
      "outputs": [],
      "source": [
        "# Imputation of null values dropping nulls \n",
        "dfcar2.dropna(subset=['condition'], inplace=True)"
      ]
    },
    {
      "cell_type": "code",
      "execution_count": 31,
      "id": "6bdf7f20-e26b-488d-bba3-cff0f2a02985",
      "metadata": {
        "colab": {
          "base_uri": "https://localhost:8080/"
        },
        "id": "6bdf7f20-e26b-488d-bba3-cff0f2a02985",
        "outputId": "5095a188-e110-4fae-d7f5-6d0491bca9cf"
      },
      "outputs": [
        {
          "data": {
            "text/plain": [
              "year            0\n",
              "make            0\n",
              "model           0\n",
              "trim            0\n",
              "body            0\n",
              "transmission    0\n",
              "state           0\n",
              "condition       0\n",
              "odometer        0\n",
              "color           0\n",
              "interior        0\n",
              "seller          0\n",
              "mmr             0\n",
              "dtype: int64"
            ]
          },
          "execution_count": 31,
          "metadata": {},
          "output_type": "execute_result"
        }
      ],
      "source": [
        "# Removes remaining null values\n",
        "dfcar2.dropna(axis=0, inplace=True)\n",
        "dfcar2.isnull().sum()"
      ]
    },
    {
      "cell_type": "code",
      "execution_count": 32,
      "id": "0e0994b5-9015-4382-85e8-d96c8c0c4749",
      "metadata": {
        "id": "0e0994b5-9015-4382-85e8-d96c8c0c4749"
      },
      "outputs": [],
      "source": [
        "df_clean = dfcar2.copy()"
      ]
    },
    {
      "cell_type": "markdown",
      "id": "0eaedeee-9789-4982-b3db-6b4101acc497",
      "metadata": {
        "id": "0eaedeee-9789-4982-b3db-6b4101acc497"
      },
      "source": [
        "## Feature Engineering"
      ]
    },
    {
      "cell_type": "markdown",
      "id": "69f7a4da-841d-42b6-b18a-80e42145901c",
      "metadata": {
        "id": "69f7a4da-841d-42b6-b18a-80e42145901c"
      },
      "source": [
        "### Feature Extraction"
      ]
    },
    {
      "cell_type": "markdown",
      "id": "515f1362-baff-404a-b944-700a291b92c9",
      "metadata": {
        "id": "515f1362-baff-404a-b944-700a291b92c9"
      },
      "source": [
        "Because the dataset contains many categorical features, we need to convert them first into numbers. But before that, we need to carry out feature extraction to see patterns that can simplify the feature encoding."
      ]
    },
    {
      "cell_type": "markdown",
      "id": "f353f997-9be1-4088-94f7-c73d273762d4",
      "metadata": {
        "id": "f353f997-9be1-4088-94f7-c73d273762d4"
      },
      "source": [
        "#### 1. Overall\n",
        "Overall rating of the car, grouped by the mean of MMR from `condition` and `odometer`."
      ]
    },
    {
      "cell_type": "code",
      "execution_count": 33,
      "id": "cb5aca78-4200-4206-b6c1-a76a7ce9c762",
      "metadata": {
        "colab": {
          "base_uri": "https://localhost:8080/",
          "height": 331
        },
        "id": "cb5aca78-4200-4206-b6c1-a76a7ce9c762",
        "outputId": "10ec7325-8e62-4de8-f70e-d035bb9b6227"
      },
      "outputs": [
        {
          "data": {
            "text/html": [
              "<div>\n",
              "<style scoped>\n",
              "    .dataframe tbody tr th:only-of-type {\n",
              "        vertical-align: middle;\n",
              "    }\n",
              "\n",
              "    .dataframe tbody tr th {\n",
              "        vertical-align: top;\n",
              "    }\n",
              "\n",
              "    .dataframe thead tr th {\n",
              "        text-align: left;\n",
              "    }\n",
              "</style>\n",
              "<table border=\"1\" class=\"dataframe\">\n",
              "  <thead>\n",
              "    <tr>\n",
              "      <th></th>\n",
              "      <th colspan=\"2\" halign=\"left\">mmr</th>\n",
              "    </tr>\n",
              "    <tr>\n",
              "      <th></th>\n",
              "      <th>mean</th>\n",
              "      <th>median</th>\n",
              "    </tr>\n",
              "  </thead>\n",
              "  <tbody>\n",
              "    <tr>\n",
              "      <th>count</th>\n",
              "      <td>407335.000</td>\n",
              "      <td>407335.000</td>\n",
              "    </tr>\n",
              "    <tr>\n",
              "      <th>mean</th>\n",
              "      <td>13480.496</td>\n",
              "      <td>13474.128</td>\n",
              "    </tr>\n",
              "    <tr>\n",
              "      <th>std</th>\n",
              "      <td>9260.965</td>\n",
              "      <td>9258.341</td>\n",
              "    </tr>\n",
              "    <tr>\n",
              "      <th>min</th>\n",
              "      <td>50.000</td>\n",
              "      <td>50.000</td>\n",
              "    </tr>\n",
              "    <tr>\n",
              "      <th>25%</th>\n",
              "      <td>7075.000</td>\n",
              "      <td>7075.000</td>\n",
              "    </tr>\n",
              "    <tr>\n",
              "      <th>50%</th>\n",
              "      <td>12100.000</td>\n",
              "      <td>12100.000</td>\n",
              "    </tr>\n",
              "    <tr>\n",
              "      <th>75%</th>\n",
              "      <td>17900.000</td>\n",
              "      <td>17875.000</td>\n",
              "    </tr>\n",
              "    <tr>\n",
              "      <th>max</th>\n",
              "      <td>182000.000</td>\n",
              "      <td>182000.000</td>\n",
              "    </tr>\n",
              "  </tbody>\n",
              "</table>\n",
              "</div>"
            ],
            "text/plain": [
              "             mmr           \n",
              "            mean     median\n",
              "count 407335.000 407335.000\n",
              "mean   13480.496  13474.128\n",
              "std     9260.965   9258.341\n",
              "min       50.000     50.000\n",
              "25%     7075.000   7075.000\n",
              "50%    12100.000  12100.000\n",
              "75%    17900.000  17875.000\n",
              "max   182000.000 182000.000"
            ]
          },
          "execution_count": 33,
          "metadata": {},
          "output_type": "execute_result"
        }
      ],
      "source": [
        "df_yearcond = df_clean.groupby(['condition', 'odometer']).agg({'mmr' : ['mean','median']})\n",
        "df_yearcond.describe()"
      ]
    },
    {
      "cell_type": "code",
      "execution_count": 34,
      "id": "acb73f58-5866-4b4e-bb32-2d645a97d90f",
      "metadata": {
        "id": "acb73f58-5866-4b4e-bb32-2d645a97d90f"
      },
      "outputs": [],
      "source": [
        "def segment(x):\n",
        "    if x['odometer'] <= 7200:\n",
        "        segment = 'Poor'\n",
        "    elif x['odometer'] > 7200 and x['odometer'] <= 12150:\n",
        "        segment = 'Fair'\n",
        "    elif x['odometer'] > 12150 and x['odometer'] <= 17600:\n",
        "        segment = 'Good'\n",
        "    else:\n",
        "        segment = 'Very Good'\n",
        "    return segment\n",
        "\n",
        "df_clean['Overall'] = df_clean.apply(lambda x: segment(x), axis=1)"
      ]
    },
    {
      "cell_type": "markdown",
      "id": "ce2cb0c4-9c9a-49ec-8aef-b35e19c36693",
      "metadata": {
        "id": "ce2cb0c4-9c9a-49ec-8aef-b35e19c36693"
      },
      "source": [
        "#### 2. Made In\n",
        "\n",
        "Simplify the value in the `make` feature by categorizing car brands according to the country of origin."
      ]
    },
    {
      "cell_type": "code",
      "execution_count": 35,
      "id": "bb0983ae-4a3e-4674-a7e3-674d6befb13d",
      "metadata": {
        "id": "bb0983ae-4a3e-4674-a7e3-674d6befb13d"
      },
      "outputs": [],
      "source": [
        "# Car brand groups based on country of origin\n",
        "us_made = ['chevrolet', 'ford', 'buick', 'cadillac', 'jeep', 'dodge', 'chrysler', 'ram', 'scion', 'pontiac', 'saturn', 'mercury', 'hummer', 'gmc', 'gmc truck',\n",
        "           'oldsmobile', 'ford truck', 'lincoln', 'plymouth', 'airstream']\n",
        "germany_made = ['bmw', 'audi', 'mercedes-benz', 'porsche', 'smart', 'chev truck', 'volkswagen']\n",
        "japan_made = ['nissan', 'acura', 'lexus', 'infiniti', 'mitsubishi', 'mazda', 'toyota', 'subaru', 'honda', 'suzuki', 'isuzu', 'mazda tk']\n",
        "uk_made = ['mini', 'land rover', 'jaguar']\n",
        "italy_made = ['fiat', 'maserati']\n",
        "korea_made = ['kia', 'hyundai', 'hyundai tk', 'daewoo']\n",
        "swedia_made = ['volvo', 'saab']\n",
        "\n",
        "made_in = []\n",
        "\n",
        "for maker in df_clean['make']:\n",
        "    if maker in us_made:\n",
        "        country = 'US'\n",
        "    elif maker in germany_made:\n",
        "        country = 'DEU'\n",
        "    elif maker in japan_made:\n",
        "        country = 'JPN'\n",
        "    elif maker in uk_made:\n",
        "        country = 'UK'\n",
        "    elif maker in italy_made:\n",
        "        country = 'ITA'\n",
        "    elif maker in korea_made:\n",
        "        country = 'KOR'\n",
        "    else:\n",
        "        country = 'SWE'\n",
        "\n",
        "    made_in.append(country)\n",
        "\n",
        "df_clean['made_in'] = made_in"
      ]
    },
    {
      "cell_type": "markdown",
      "id": "E6IStwSfYgvo",
      "metadata": {
        "id": "E6IStwSfYgvo"
      },
      "source": [
        "#### 3. Top Make\n",
        "Brand segmentation based on 11 top brands. The rest of them will be labelled as 'Other'."
      ]
    },
    {
      "cell_type": "code",
      "execution_count": 36,
      "id": "xlIBNaxE9xC2",
      "metadata": {
        "colab": {
          "base_uri": "https://localhost:8080/",
          "height": 394
        },
        "id": "xlIBNaxE9xC2",
        "outputId": "0cfe4729-0b74-4057-f9a0-8d8945331feb"
      },
      "outputs": [
        {
          "data": {
            "text/html": [
              "<div>\n",
              "<style scoped>\n",
              "    .dataframe tbody tr th:only-of-type {\n",
              "        vertical-align: middle;\n",
              "    }\n",
              "\n",
              "    .dataframe tbody tr th {\n",
              "        vertical-align: top;\n",
              "    }\n",
              "\n",
              "    .dataframe thead th {\n",
              "        text-align: right;\n",
              "    }\n",
              "</style>\n",
              "<table border=\"1\" class=\"dataframe\">\n",
              "  <thead>\n",
              "    <tr style=\"text-align: right;\">\n",
              "      <th></th>\n",
              "      <th>make</th>\n",
              "      <th>top_make</th>\n",
              "    </tr>\n",
              "  </thead>\n",
              "  <tbody>\n",
              "    <tr>\n",
              "      <th>14</th>\n",
              "      <td>ford</td>\n",
              "      <td>ford</td>\n",
              "    </tr>\n",
              "    <tr>\n",
              "      <th>7</th>\n",
              "      <td>chevrolet</td>\n",
              "      <td>chevrolet</td>\n",
              "    </tr>\n",
              "    <tr>\n",
              "      <th>36</th>\n",
              "      <td>nissan</td>\n",
              "      <td>nissan</td>\n",
              "    </tr>\n",
              "    <tr>\n",
              "      <th>50</th>\n",
              "      <td>toyota</td>\n",
              "      <td>toyota</td>\n",
              "    </tr>\n",
              "    <tr>\n",
              "      <th>10</th>\n",
              "      <td>dodge</td>\n",
              "      <td>dodge</td>\n",
              "    </tr>\n",
              "    <tr>\n",
              "      <th>17</th>\n",
              "      <td>honda</td>\n",
              "      <td>honda</td>\n",
              "    </tr>\n",
              "    <tr>\n",
              "      <th>19</th>\n",
              "      <td>hyundai</td>\n",
              "      <td>hyundai</td>\n",
              "    </tr>\n",
              "    <tr>\n",
              "      <th>4</th>\n",
              "      <td>bmw</td>\n",
              "      <td>bmw</td>\n",
              "    </tr>\n",
              "    <tr>\n",
              "      <th>24</th>\n",
              "      <td>kia</td>\n",
              "      <td>kia</td>\n",
              "    </tr>\n",
              "    <tr>\n",
              "      <th>8</th>\n",
              "      <td>chrysler</td>\n",
              "      <td>chrysler</td>\n",
              "    </tr>\n",
              "    <tr>\n",
              "      <th>20</th>\n",
              "      <td>infiniti</td>\n",
              "      <td>infiniti</td>\n",
              "    </tr>\n",
              "  </tbody>\n",
              "</table>\n",
              "</div>"
            ],
            "text/plain": [
              "         make   top_make\n",
              "14       ford       ford\n",
              "7   chevrolet  chevrolet\n",
              "36     nissan     nissan\n",
              "50     toyota     toyota\n",
              "10      dodge      dodge\n",
              "17      honda      honda\n",
              "19    hyundai    hyundai\n",
              "4         bmw        bmw\n",
              "24        kia        kia\n",
              "8    chrysler   chrysler\n",
              "20   infiniti   infiniti"
            ]
          },
          "execution_count": 36,
          "metadata": {},
          "output_type": "execute_result"
        }
      ],
      "source": [
        "# Top Brand based on Year of making\n",
        "top_make = df_clean.groupby('make')['year'].count().reset_index().sort_values('year', ascending=False)\n",
        "top_make = top_make.iloc[:11]\n",
        "top_make.drop('year', axis=1, inplace=True)\n",
        "top_make['top_make'] = top_make['make']\n",
        "top_make"
      ]
    },
    {
      "cell_type": "code",
      "execution_count": 37,
      "id": "iJFEi0R592Hh",
      "metadata": {
        "colab": {
          "base_uri": "https://localhost:8080/"
        },
        "id": "iJFEi0R592Hh",
        "outputId": "fe7f6709-196a-4ae9-d5ff-68d765c2197c"
      },
      "outputs": [
        {
          "data": {
            "text/plain": [
              "array(['kia', 'bmw', 'Other', 'nissan', 'chevrolet', 'ford', 'hyundai',\n",
              "       'infiniti', 'toyota', 'dodge', 'chrysler', 'honda'], dtype=object)"
            ]
          },
          "execution_count": 37,
          "metadata": {},
          "output_type": "execute_result"
        }
      ],
      "source": [
        "df_clean = df_clean.merge(top_make, how='left', on='make')\n",
        "df_clean['top_make'].fillna('Other', inplace=True)\n",
        "df_clean['top_make'].unique()"
      ]
    },
    {
      "cell_type": "markdown",
      "id": "5f9bafb3-45ef-4043-9d0a-be74a4e1a868",
      "metadata": {
        "id": "5f9bafb3-45ef-4043-9d0a-be74a4e1a868"
      },
      "source": [
        "### Feature Selection"
      ]
    },
    {
      "cell_type": "code",
      "execution_count": 38,
      "id": "ec5b880a-b468-404a-9c1d-3e5d5ea666db",
      "metadata": {
        "colab": {
          "base_uri": "https://localhost:8080/",
          "height": 143
        },
        "id": "ec5b880a-b468-404a-9c1d-3e5d5ea666db",
        "outputId": "b1e53f05-abb7-4bcc-fd86-ec45866c94d4"
      },
      "outputs": [
        {
          "data": {
            "text/html": [
              "<div>\n",
              "<style scoped>\n",
              "    .dataframe tbody tr th:only-of-type {\n",
              "        vertical-align: middle;\n",
              "    }\n",
              "\n",
              "    .dataframe tbody tr th {\n",
              "        vertical-align: top;\n",
              "    }\n",
              "\n",
              "    .dataframe thead th {\n",
              "        text-align: right;\n",
              "    }\n",
              "</style>\n",
              "<table border=\"1\" class=\"dataframe\">\n",
              "  <thead>\n",
              "    <tr style=\"text-align: right;\">\n",
              "      <th></th>\n",
              "      <th>year</th>\n",
              "      <th>model</th>\n",
              "      <th>trim</th>\n",
              "      <th>body</th>\n",
              "      <th>state</th>\n",
              "      <th>condition</th>\n",
              "      <th>odometer</th>\n",
              "      <th>color</th>\n",
              "      <th>interior</th>\n",
              "      <th>mmr</th>\n",
              "      <th>Overall</th>\n",
              "      <th>made_in</th>\n",
              "      <th>top_make</th>\n",
              "    </tr>\n",
              "  </thead>\n",
              "  <tbody>\n",
              "    <tr>\n",
              "      <th>0</th>\n",
              "      <td>2015</td>\n",
              "      <td>sorento</td>\n",
              "      <td>lx</td>\n",
              "      <td>suv</td>\n",
              "      <td>ca</td>\n",
              "      <td>5.000</td>\n",
              "      <td>16639.000</td>\n",
              "      <td>white</td>\n",
              "      <td>black</td>\n",
              "      <td>20500</td>\n",
              "      <td>Good</td>\n",
              "      <td>KOR</td>\n",
              "      <td>kia</td>\n",
              "    </tr>\n",
              "    <tr>\n",
              "      <th>1</th>\n",
              "      <td>2015</td>\n",
              "      <td>sorento</td>\n",
              "      <td>lx</td>\n",
              "      <td>suv</td>\n",
              "      <td>ca</td>\n",
              "      <td>5.000</td>\n",
              "      <td>9393.000</td>\n",
              "      <td>white</td>\n",
              "      <td>beige</td>\n",
              "      <td>20800</td>\n",
              "      <td>Fair</td>\n",
              "      <td>KOR</td>\n",
              "      <td>kia</td>\n",
              "    </tr>\n",
              "    <tr>\n",
              "      <th>2</th>\n",
              "      <td>2014</td>\n",
              "      <td>3 series</td>\n",
              "      <td>328i sulev</td>\n",
              "      <td>sedan</td>\n",
              "      <td>ca</td>\n",
              "      <td>4.500</td>\n",
              "      <td>1331.000</td>\n",
              "      <td>gray</td>\n",
              "      <td>black</td>\n",
              "      <td>31900</td>\n",
              "      <td>Poor</td>\n",
              "      <td>DEU</td>\n",
              "      <td>bmw</td>\n",
              "    </tr>\n",
              "  </tbody>\n",
              "</table>\n",
              "</div>"
            ],
            "text/plain": [
              "   year     model        trim   body state  condition  odometer  color  \\\n",
              "0  2015   sorento          lx    suv    ca      5.000 16639.000  white   \n",
              "1  2015   sorento          lx    suv    ca      5.000  9393.000  white   \n",
              "2  2014  3 series  328i sulev  sedan    ca      4.500  1331.000   gray   \n",
              "\n",
              "  interior    mmr Overall made_in top_make  \n",
              "0    black  20500    Good     KOR      kia  \n",
              "1    beige  20800    Fair     KOR      kia  \n",
              "2    black  31900    Poor     DEU      bmw  "
            ]
          },
          "execution_count": 38,
          "metadata": {},
          "output_type": "execute_result"
        }
      ],
      "source": [
        "# Select the features\n",
        "df_clean = df_clean.drop(['make', 'transmission','seller'], axis=1)\n",
        "df_clean.head(3)"
      ]
    },
    {
      "cell_type": "markdown",
      "id": "13a56e4c-f494-4ec3-973b-e36bc790ebdd",
      "metadata": {
        "id": "13a56e4c-f494-4ec3-973b-e36bc790ebdd"
      },
      "source": [
        "## Train-Test Split"
      ]
    },
    {
      "cell_type": "code",
      "execution_count": 39,
      "id": "04a173c7-c031-4179-9fb4-141cd58a40b9",
      "metadata": {
        "id": "04a173c7-c031-4179-9fb4-141cd58a40b9"
      },
      "outputs": [],
      "source": [
        "df_new = df_clean.copy()"
      ]
    },
    {
      "cell_type": "code",
      "execution_count": 40,
      "id": "fff9c4e0",
      "metadata": {},
      "outputs": [
        {
          "name": "stdout",
          "output_type": "stream",
          "text": [
            "Feature: year\n",
            "Number of unique values: 26\n",
            "Unique values: [2015 2014 2013 2012 2011 2010 2009 2008 2007 2006 2005 2004 2003 2002\n",
            " 2001 2000 1999 1998 1996 1995 1997 1994 1993 1992 1991 1990]\n",
            "--------------------------------------------------\n",
            "Feature: model\n",
            "Number of unique values: 759\n",
            "Unique values: ['sorento' '3 series' 's60' '6 series gran coupe' 'altima' 'm5' 'cruze'\n",
            " 'a4' 'camaro' 'a6' 'optima' 'fusion' 'q5' '6 series' 'impala' '5 series'\n",
            " 'a3' 'xc70' 'sq5' 's5' 'suburban' 'elr' 'v60' 'x6' 'ilx' 'k900' 'malibu'\n",
            " 'rx 350' 'versa' 'elantra' 'versa note' 'a8' 'x1' 'enclave' 'tts'\n",
            " '4 series' 'mdx' 'silverado 1500' 'srx' 'x5' 'g coupe' 'g sedan' 'fx'\n",
            " 'santa fe' 'genesis' 'equus' 'sonata' 'sonata hybrid' 'accent' 'veloster'\n",
            " 'elantra coupe' 'azera' 'tucson' 'genesis coupe' 'wrangler' 'sclass'\n",
            " 'gs 350' 'outlander' 'mazda2' 'rio' 'cclass' '370z' 'soul'\n",
            " 'outlander sport' 'es 350' 'eclass' 'mazda3' 'cooper clubman' 'cx9'\n",
            " 'forte' 'compass' 'jx' 'lr4' 'mazda5' 'm' 'cooper' 'range rover evoque'\n",
            " 'ls 460' 'glkclass' 'sportage' 'grand cherokee' 'mkx' 'xf' 'glclass'\n",
            " 'mclass' 'cooper countryman' 'lancer' 'range rover sport' 'passat'\n",
            " 'corolla' 'xc60' 'sienna' 'juke' 'yaris' 'nv' 'cc' 'camry' 'tacoma'\n",
            " 'jetta' 'impreza wrx']\n",
            "--------------------------------------------------\n",
            "Feature: trim\n",
            "Number of unique values: 1471\n",
            "Unique values: ['lx' '328i sulev' 't5' '650i' '25 s' 'base' '1lt'\n",
            " '20t premium plus quattro' 'lt' '30t prestige quattro' 'se' 'ls' 'ltz'\n",
            " '528i' '18 tfsi premium' 't6' '30t premium plus quattro'\n",
            " 'premium plus quattro' 'xdrive35i' '2lt' 'technology package' 'luxury'\n",
            " '16 sl' '16 sv' 'l 30t quattro' 'sdrive28i' 'leather group' 'quattro'\n",
            " '428i sulev' 'advance and entertainment packages' '535d' 'g37 sport'\n",
            " 'g37 journey' 'fx37' 'limited' '50 rspec' 'signature' 'gls' 'sport'\n",
            " 'sport 20t' 'turbo' 'gs' 'ultimate' '38' '38 track' 'unlimited rubicon'\n",
            " 'ex hybrid' '25' 's550' 'sx' 'unlimited sahara' 'c250 sport' 'touring' ''\n",
            " 'le' 'e350 sport' 'i sv' 'latitude' 'i touring' 'jx35' 'g37x' 'hse lux'\n",
            " 'ex' 'i sport' 'm37' 'pure plus' 'c250' 'l' 'glk350' 'unlimited sport'\n",
            " 'gl450 4matic' 'ml350' 'pure premium' 'ralliart'\n",
            " 'supercharged limited edition' 'e350' 'es' 'se pzev' '32'\n",
            " 'le 7passenger mobility auto access' 's' '1500 s' 'rline pzev' 'xle'\n",
            " 'prerunner' '35 sl' '25l pzev' 'wolfsburg edition pzev' 'tdi' '35 sv'\n",
            " 'carrera s' '16 s plus' 'sr' 'two' 'sv' '18 sl' 's pzev' 'fe s' 'sr5'\n",
            " '25i premium pzev']\n",
            "--------------------------------------------------\n",
            "Feature: body\n",
            "Number of unique values: 41\n",
            "Unique values: ['suv' 'sedan' 'convertible' 'coupe' 'wagon' 'hatchback' 'crew cab'\n",
            " 'g coupe' 'g sedan' 'elantra coupe' 'genesis coupe' 'minivan' 'van'\n",
            " 'double cab' 'king cab' 'cts coupe' 'supercrew' 'e-series van'\n",
            " 'extended cab' 'supercab' 'g convertible' 'regular cab' 'quad cab'\n",
            " 'crewmax cab' 'cts-v coupe' 'g37 convertible' 'access cab' 'club cab'\n",
            " 'q60 convertible' 'cts wagon' 'g37 coupe' 'mega cab' 'cab plus 4'\n",
            " 'q60 coupe' 'tsx sport wagon' 'promaster cargo van' 'cab plus'\n",
            " 'beetle convertible' 'granturismo convertible' 'cts-v wagon'\n",
            " 'transit van']\n",
            "--------------------------------------------------\n",
            "Feature: state\n",
            "Number of unique values: 34\n",
            "Unique values: ['ca' 'tx' 'mn' 'az' 'wi' 'tn' 'md' 'pa' 'ne' 'oh' 'fl' 'mi' 'nj' 'va'\n",
            " 'sc' 'in' 'il' 'co' 'mo' 'ga' 'ut' 'nv' 'ma' 'pr' 'nc' 'ny' 'or' 'wa'\n",
            " 'la' 'hi' 'ok' 'ms' 'al' 'nm']\n",
            "--------------------------------------------------\n",
            "Feature: condition\n",
            "Number of unique values: 41\n",
            "Unique values: [5.  4.5 4.1 4.3 1.  3.4 2.  4.2 3.  4.8 4.9 1.7 1.9 2.9 3.8 4.4 4.7 3.2\n",
            " 4.  2.5 3.7 3.9 3.1 2.8 4.6 3.5 2.6 2.1 3.6 2.2 2.7 2.4 3.3 2.3 1.6 1.8\n",
            " 1.2 1.4 1.1 1.3 1.5]\n",
            "--------------------------------------------------\n",
            "Feature: odometer\n",
            "Number of unique values: 157690\n",
            "Unique values: [1.6639e+04 9.3930e+03 1.3310e+03 1.4282e+04 2.6410e+03 5.5540e+03\n",
            " 1.4943e+04 2.8617e+04 9.5570e+03 4.8090e+03 1.4414e+04 2.0340e+03\n",
            " 5.5590e+03 1.4634e+04 1.1398e+04 7.9830e+03 1.3441e+04 8.8190e+03\n",
            " 1.4538e+04 2.5969e+04 5.8260e+03 1.0736e+04 1.6506e+04 1.2725e+04\n",
            " 1.1874e+04 3.7888e+04 9.6060e+03 1.3757e+04 5.8750e+03 1.2862e+04\n",
            " 1.1426e+04 1.6360e+04 9.0270e+03 4.4360e+03 1.3205e+04 1.1846e+04\n",
            " 3.7900e+02 1.2242e+04 4.0661e+04 9.0510e+03 1.3878e+04 1.0906e+04\n",
            " 7.3050e+03 4.3140e+03 5.3040e+03 1.0357e+04 6.1050e+03 7.7700e+03\n",
            " 5.2140e+03 7.7660e+03 9.6840e+03 3.1000e+01 1.6080e+03 9.9140e+03\n",
            " 7.8790e+03 1.4176e+04 1.7594e+04 1.9060e+03 8.0370e+03 5.7730e+03\n",
            " 3.2918e+04 1.9689e+04 2.0595e+04 1.3623e+04 1.3606e+04 3.7752e+04\n",
            " 9.1610e+03 1.1001e+04 1.4599e+04 1.3386e+04 1.5161e+04 3.9960e+03\n",
            " 1.0551e+04 1.8152e+04 1.3452e+04 3.7938e+04 3.9623e+04 1.6348e+04\n",
            " 3.3670e+03 2.1523e+04 4.2050e+03 8.8910e+03 8.1540e+03 6.7260e+03\n",
            " 3.6771e+04 9.5520e+03 1.0673e+04 1.4806e+04 7.9240e+03 1.2752e+04\n",
            " 6.7590e+03 1.2292e+04 1.5727e+04 1.3711e+04 8.6830e+03 4.5030e+03\n",
            " 7.8000e+03 9.6850e+03 1.0615e+04 1.3031e+04]\n",
            "--------------------------------------------------\n",
            "Feature: color\n",
            "Number of unique values: 19\n",
            "Unique values: ['white' 'gray' 'black' 'red' 'silver' 'brown' 'beige' 'blue' 'purple'\n",
            " 'burgundy' 'gold' 'yellow' 'green' 'charcoal' 'orange' 'off-white'\n",
            " 'turquoise' 'pink' 'lime']\n",
            "--------------------------------------------------\n",
            "Feature: interior\n",
            "Number of unique values: 16\n",
            "Unique values: ['black' 'beige' 'tan' 'brown' 'gray' 'burgundy' 'white' 'silver'\n",
            " 'off-white' 'red' 'yellow' 'green' 'purple' 'blue' 'orange' 'gold']\n",
            "--------------------------------------------------\n",
            "Feature: mmr\n",
            "Number of unique values: 1097\n",
            "Unique values: [20500 20800 31900 27500 66000 15350 69000 11900 32100 26300 47300 15150\n",
            " 20600 14750 37100 17750 68000 24300 34200 24000 67000 32300 22200 11600\n",
            " 48600 46500 20700 57300 65000 30200 49400 31300 54800 31200 13050 22700\n",
            " 31500 15500 39500 16600 41200 19400 71000 41000 24200 10900 22500 13800\n",
            " 21500 24100 12050 62000 23700 28400 21400 31000 41400 13850 12950 13350\n",
            " 13900 14700 14150 26900 13000 30700 17850 14600 46300 33500 57500 31700\n",
            " 19950 12800 25900 25700 22800 27200 25100 23300 30800 28300 27100 10250\n",
            " 28500 11250 25200 11400 22400 26800 10950 13450 12150 19650 18000 19500\n",
            " 23000 22300 23400 12650]\n",
            "--------------------------------------------------\n",
            "Feature: Overall\n",
            "Number of unique values: 4\n",
            "Unique values: ['Good' 'Fair' 'Poor' 'Very Good']\n",
            "--------------------------------------------------\n",
            "Feature: made_in\n",
            "Number of unique values: 7\n",
            "Unique values: ['KOR' 'DEU' 'SWE' 'JPN' 'US' 'UK' 'ITA']\n",
            "--------------------------------------------------\n",
            "Feature: top_make\n",
            "Number of unique values: 12\n",
            "Unique values: ['kia' 'bmw' 'Other' 'nissan' 'chevrolet' 'ford' 'hyundai' 'infiniti'\n",
            " 'toyota' 'dodge' 'chrysler' 'honda']\n",
            "--------------------------------------------------\n"
          ]
        }
      ],
      "source": [
        "# Load the data\n",
        "\n",
        "\n",
        "# Display unique values for each column\n",
        "for column in df_new.columns:\n",
        "    unique_values = df_new[column].unique()\n",
        "    print(f\"Feature: {column}\")\n",
        "    print(f\"Number of unique values: {len(unique_values)}\")\n",
        "    print(f\"Unique values: {unique_values[:100]}\")  # Show first 10 unique values\n",
        "    print(\"-\" * 50)\n"
      ]
    },
    {
      "cell_type": "code",
      "execution_count": 41,
      "id": "60da7047",
      "metadata": {},
      "outputs": [
        {
          "data": {
            "text/html": [
              "<div>\n",
              "<style scoped>\n",
              "    .dataframe tbody tr th:only-of-type {\n",
              "        vertical-align: middle;\n",
              "    }\n",
              "\n",
              "    .dataframe tbody tr th {\n",
              "        vertical-align: top;\n",
              "    }\n",
              "\n",
              "    .dataframe thead th {\n",
              "        text-align: right;\n",
              "    }\n",
              "</style>\n",
              "<table border=\"1\" class=\"dataframe\">\n",
              "  <thead>\n",
              "    <tr style=\"text-align: right;\">\n",
              "      <th></th>\n",
              "      <th>year</th>\n",
              "      <th>condition</th>\n",
              "      <th>odometer</th>\n",
              "      <th>mmr</th>\n",
              "    </tr>\n",
              "  </thead>\n",
              "  <tbody>\n",
              "    <tr>\n",
              "      <th>count</th>\n",
              "      <td>439433.000</td>\n",
              "      <td>439433.000</td>\n",
              "      <td>439433.000</td>\n",
              "      <td>439433.000</td>\n",
              "    </tr>\n",
              "    <tr>\n",
              "      <th>mean</th>\n",
              "      <td>2010.148</td>\n",
              "      <td>3.414</td>\n",
              "      <td>67678.007</td>\n",
              "      <td>13660.393</td>\n",
              "    </tr>\n",
              "    <tr>\n",
              "      <th>std</th>\n",
              "      <td>3.824</td>\n",
              "      <td>0.940</td>\n",
              "      <td>50965.824</td>\n",
              "      <td>9436.111</td>\n",
              "    </tr>\n",
              "    <tr>\n",
              "      <th>min</th>\n",
              "      <td>1990.000</td>\n",
              "      <td>1.000</td>\n",
              "      <td>2.000</td>\n",
              "      <td>50.000</td>\n",
              "    </tr>\n",
              "    <tr>\n",
              "      <th>25%</th>\n",
              "      <td>2008.000</td>\n",
              "      <td>2.700</td>\n",
              "      <td>28936.000</td>\n",
              "      <td>7275.000</td>\n",
              "    </tr>\n",
              "    <tr>\n",
              "      <th>50%</th>\n",
              "      <td>2012.000</td>\n",
              "      <td>3.600</td>\n",
              "      <td>52596.000</td>\n",
              "      <td>12200.000</td>\n",
              "    </tr>\n",
              "    <tr>\n",
              "      <th>75%</th>\n",
              "      <td>2013.000</td>\n",
              "      <td>4.200</td>\n",
              "      <td>97978.000</td>\n",
              "      <td>18050.000</td>\n",
              "    </tr>\n",
              "    <tr>\n",
              "      <th>max</th>\n",
              "      <td>2015.000</td>\n",
              "      <td>5.000</td>\n",
              "      <td>980113.000</td>\n",
              "      <td>182000.000</td>\n",
              "    </tr>\n",
              "  </tbody>\n",
              "</table>\n",
              "</div>"
            ],
            "text/plain": [
              "            year  condition   odometer        mmr\n",
              "count 439433.000 439433.000 439433.000 439433.000\n",
              "mean    2010.148      3.414  67678.007  13660.393\n",
              "std        3.824      0.940  50965.824   9436.111\n",
              "min     1990.000      1.000      2.000     50.000\n",
              "25%     2008.000      2.700  28936.000   7275.000\n",
              "50%     2012.000      3.600  52596.000  12200.000\n",
              "75%     2013.000      4.200  97978.000  18050.000\n",
              "max     2015.000      5.000 980113.000 182000.000"
            ]
          },
          "execution_count": 41,
          "metadata": {},
          "output_type": "execute_result"
        }
      ],
      "source": [
        "df_new.describe()"
      ]
    },
    {
      "cell_type": "code",
      "execution_count": 42,
      "id": "5877f03d-d7e0-47c6-86d4-fc4e689b82d8",
      "metadata": {
        "id": "5877f03d-d7e0-47c6-86d4-fc4e689b82d8"
      },
      "outputs": [],
      "source": [
        "from sklearn.model_selection import train_test_split\n",
        "\n",
        "# Split the data\n",
        "features = df_clean.select_dtypes([\"float64\", \"int64\", \"boolean\", \"uint8\",'string','object']).columns\n",
        "x = df_clean[features].drop('mmr', axis=1)\n",
        "y = df_clean.mmr\n",
        "xtrain, xtest, ytrain, ytest = train_test_split(x, y, test_size=0.2, random_state=42)"
      ]
    },
    {
      "cell_type": "markdown",
      "id": "a3bcab40-9a34-417d-95d5-7c8bf487357c",
      "metadata": {
        "id": "a3bcab40-9a34-417d-95d5-7c8bf487357c"
      },
      "source": [
        "#### Target Encoding\n",
        "Target encoding is performed on several features to maintain important information contained in category features, especially in the context of target predictions."
      ]
    },
    {
      "cell_type": "code",
      "execution_count": 43,
      "id": "537a14bc",
      "metadata": {},
      "outputs": [],
      "source": [
        "# Define which columns you want to target-encode\n",
        "cols = ['model', 'trim', 'body', 'state']\n",
        "from category_encoders import *\n",
        "# Create the target encoder\n",
        "encoder = TargetEncoder()\n",
        "# Fit on xtrain (with ytrain) and transform xtrain\n",
        "xtrain[cols] = encoder.fit_transform(xtrain[cols], ytrain)\n",
        "\n",
        "# Transform xtest using the same encoder\n",
        "xtest[cols] = encoder.transform(xtest[cols])\n"
      ]
    },
    {
      "cell_type": "markdown",
      "id": "u5Qf3Ji6C0t2",
      "metadata": {
        "id": "u5Qf3Ji6C0t2"
      },
      "source": [
        "#### Count Encoding\n",
        "This method is used for categorical features where each category is replaced by its frequency of occurrence."
      ]
    },
    {
      "cell_type": "code",
      "execution_count": 44,
      "id": "8086fb4a",
      "metadata": {},
      "outputs": [],
      "source": [
        "# # Count encoding for 'seller'\n",
        "# seller_counts = xtrain['seller'].value_counts().to_dict()\n",
        "# xtrain['seller'] = xtrain['seller'].map(seller_counts)\n",
        "# # For the test set, use the same mapping. Handle unknown categories (NaN) as needed:\n",
        "# xtest['seller'] = xtest['seller'].map(seller_counts).fillna(0)\n",
        "\n",
        "# Count encoding for 'color'\n",
        "color_counts = xtrain['color'].value_counts().to_dict()\n",
        "xtrain['color'] = xtrain['color'].map(color_counts)\n",
        "xtest['color'] = xtest['color'].map(color_counts).fillna(0)\n",
        "\n",
        "# Count encoding for 'interior'\n",
        "interior_counts = xtrain['interior'].value_counts().to_dict()\n",
        "xtrain['interior'] = xtrain['interior'].map(interior_counts)\n",
        "xtest['interior'] = xtest['interior'].map(interior_counts).fillna(0)\n"
      ]
    },
    {
      "cell_type": "markdown",
      "id": "d0cd7d1b-d085-48dc-8e9f-f2d339a28dff",
      "metadata": {
        "id": "d0cd7d1b-d085-48dc-8e9f-f2d339a28dff"
      },
      "source": [
        "#### One-Hot Encoding  "
      ]
    },
    {
      "cell_type": "code",
      "execution_count": 45,
      "id": "533984c5",
      "metadata": {},
      "outputs": [],
      "source": [
        "from sklearn.preprocessing import OneHotEncoder\n",
        "ohe = OneHotEncoder(handle_unknown='ignore',sparse_output=False )\n",
        "ohe_cols = ['Overall', 'made_in', 'top_make']\n",
        "\n",
        "# Fit on the training data, then transform xtrain\n",
        "ohe.fit(xtrain[ohe_cols])\n",
        "xtrain_ohe = ohe.transform(xtrain[ohe_cols])\n",
        "ohe_feature_names = ohe.get_feature_names_out(ohe_cols)\n",
        "\n",
        "# Convert to DataFrame\n",
        "xtrain_ohe_df = pd.DataFrame(xtrain_ohe, columns=ohe_feature_names, index=xtrain.index)\n",
        "# Drop the original columns and concatenate\n",
        "xtrain.drop(columns=ohe_cols, inplace=True)\n",
        "xtrain = pd.concat([xtrain, xtrain_ohe_df], axis=1)\n",
        "\n",
        "# Transform xtest similarly\n",
        "xtest_ohe = ohe.transform(xtest[ohe_cols])\n",
        "xtest_ohe_df = pd.DataFrame(xtest_ohe, columns=ohe_feature_names, index=xtest.index)\n",
        "xtest.drop(columns=ohe_cols, inplace=True)\n",
        "xtest = pd.concat([xtest, xtest_ohe_df], axis=1)"
      ]
    },
    {
      "cell_type": "markdown",
      "id": "0e33839b-eb2a-47a5-9f37-f58aed1c1896",
      "metadata": {
        "id": "0e33839b-eb2a-47a5-9f37-f58aed1c1896"
      },
      "source": [
        "### Pre-Processing"
      ]
    },
    {
      "cell_type": "code",
      "execution_count": 46,
      "id": "9b8d7e39-5370-48d1-a6d6-959f61ed5a9f",
      "metadata": {
        "id": "9b8d7e39-5370-48d1-a6d6-959f61ed5a9f"
      },
      "outputs": [],
      "source": [
        "from sklearn.preprocessing import StandardScaler\n",
        "\n",
        "# Scaling\n",
        "scaler    = StandardScaler()\n",
        "n = ['year', 'odometer', 'condition']\n",
        "xtrain[n] = scaler.fit_transform(xtrain[n])\n",
        "xtest[n] = scaler.transform(xtest[n])"
      ]
    },
    {
      "cell_type": "markdown",
      "id": "e4532d61-a370-4595-bdd6-c550178338a9",
      "metadata": {
        "id": "e4532d61-a370-4595-bdd6-c550178338a9"
      },
      "source": [
        "# Modelling and Evaluation"
      ]
    },
    {
      "cell_type": "code",
      "execution_count": 57,
      "id": "63039a4a",
      "metadata": {},
      "outputs": [],
      "source": [
        "import numpy as np\n",
        "import matplotlib.pyplot as plt\n",
        "from sklearn.metrics import r2_score, mean_absolute_error\n",
        "from sklearn.model_selection import learning_curve\n",
        "\n",
        "# Function to plot learning curves for R² and MAE\n",
        "def plot_learning_curves(model, X_train, y_train, X_test, y_test, metric, metric_name):\n",
        "    train_sizes = np.linspace(0.1, 1.0, 10)\n",
        "    train_scores = []\n",
        "    test_scores = []\n",
        "\n",
        "    for train_size in train_sizes:\n",
        "        # Determine the size of the training subset\n",
        "        subset_size = int(train_size * len(X_train))\n",
        "        X_train_subset = X_train[:subset_size]\n",
        "        y_train_subset = y_train[:subset_size]\n",
        "\n",
        "        # Fit the model on the training subset\n",
        "        model.fit(X_train_subset, y_train_subset)\n",
        "\n",
        "        # Predict on the training and testing sets\n",
        "        y_train_pred = model.predict(X_train_subset)\n",
        "        y_test_pred = model.predict(X_test)\n",
        "\n",
        "        # Calculate the metric for training and testing sets\n",
        "        train_scores.append(metric(y_train_subset, y_train_pred))\n",
        "        test_scores.append(metric(y_test, y_test_pred))\n",
        "\n",
        "    # Plot the learning curve\n",
        "    plt.figure(figsize=(8, 6))\n",
        "    plt.plot(train_sizes, train_scores, label=\"Training Score\", marker=\"o\")\n",
        "    plt.plot(train_sizes, test_scores, label=\"Testing Score\", marker=\"o\")\n",
        "    plt.title(f\"Learning Curve: {metric_name}\")\n",
        "    plt.xlabel(\"Fraction of Training Data\")\n",
        "    plt.ylabel(metric_name)\n",
        "    plt.legend()\n",
        "    plt.grid()\n",
        "    plt.show()"
      ]
    },
    {
      "cell_type": "markdown",
      "id": "7f814849-d455-4f08-9678-ffaf09e09a72",
      "metadata": {
        "id": "7f814849-d455-4f08-9678-ffaf09e09a72"
      },
      "source": [
        "## Modelling"
      ]
    },
    {
      "cell_type": "code",
      "execution_count": 48,
      "id": "Bp7bXYqWGLAb",
      "metadata": {
        "id": "Bp7bXYqWGLAb"
      },
      "outputs": [],
      "source": [
        "from sklearn.metrics import mean_squared_error, mean_absolute_error, r2_score\n",
        "\n",
        "# Function to display model evaluation scores\n",
        "def eval_regression(model, y_pred, xtrain, xtest, ytrain,  ytest):\n",
        "    print(\"MAE: \" , mean_absolute_error(ytest, y_pred))\n",
        "    print(\"RMSE: \" , mean_squared_error(ytest, y_pred, squared=False))\n",
        "    print('R2 score: ', r2_score(ytest, y_pred))\n",
        "    print('Coefficients: ', regressor.coef_)\n",
        "    print('Intercept: ', regressor.intercept_)"
      ]
    },
    {
      "cell_type": "markdown",
      "id": "1766545e-4bda-4e0d-bdee-bc535a1d2cb1",
      "metadata": {
        "id": "1766545e-4bda-4e0d-bdee-bc535a1d2cb1"
      },
      "source": [
        "### Linear Regression"
      ]
    },
    {
      "cell_type": "code",
      "execution_count": 49,
      "id": "6346b237-8e51-4d78-bdee-1b5871cf11cf",
      "metadata": {
        "colab": {
          "base_uri": "https://localhost:8080/",
          "height": 74
        },
        "id": "6346b237-8e51-4d78-bdee-1b5871cf11cf",
        "outputId": "55b0a3de-6432-4856-8ac5-0d0ecef2d833"
      },
      "outputs": [
        {
          "data": {
            "text/html": [
              "<style>#sk-container-id-1 {\n",
              "  /* Definition of color scheme common for light and dark mode */\n",
              "  --sklearn-color-text: black;\n",
              "  --sklearn-color-line: gray;\n",
              "  /* Definition of color scheme for unfitted estimators */\n",
              "  --sklearn-color-unfitted-level-0: #fff5e6;\n",
              "  --sklearn-color-unfitted-level-1: #f6e4d2;\n",
              "  --sklearn-color-unfitted-level-2: #ffe0b3;\n",
              "  --sklearn-color-unfitted-level-3: chocolate;\n",
              "  /* Definition of color scheme for fitted estimators */\n",
              "  --sklearn-color-fitted-level-0: #f0f8ff;\n",
              "  --sklearn-color-fitted-level-1: #d4ebff;\n",
              "  --sklearn-color-fitted-level-2: #b3dbfd;\n",
              "  --sklearn-color-fitted-level-3: cornflowerblue;\n",
              "\n",
              "  /* Specific color for light theme */\n",
              "  --sklearn-color-text-on-default-background: var(--sg-text-color, var(--theme-code-foreground, var(--jp-content-font-color1, black)));\n",
              "  --sklearn-color-background: var(--sg-background-color, var(--theme-background, var(--jp-layout-color0, white)));\n",
              "  --sklearn-color-border-box: var(--sg-text-color, var(--theme-code-foreground, var(--jp-content-font-color1, black)));\n",
              "  --sklearn-color-icon: #696969;\n",
              "\n",
              "  @media (prefers-color-scheme: dark) {\n",
              "    /* Redefinition of color scheme for dark theme */\n",
              "    --sklearn-color-text-on-default-background: var(--sg-text-color, var(--theme-code-foreground, var(--jp-content-font-color1, white)));\n",
              "    --sklearn-color-background: var(--sg-background-color, var(--theme-background, var(--jp-layout-color0, #111)));\n",
              "    --sklearn-color-border-box: var(--sg-text-color, var(--theme-code-foreground, var(--jp-content-font-color1, white)));\n",
              "    --sklearn-color-icon: #878787;\n",
              "  }\n",
              "}\n",
              "\n",
              "#sk-container-id-1 {\n",
              "  color: var(--sklearn-color-text);\n",
              "}\n",
              "\n",
              "#sk-container-id-1 pre {\n",
              "  padding: 0;\n",
              "}\n",
              "\n",
              "#sk-container-id-1 input.sk-hidden--visually {\n",
              "  border: 0;\n",
              "  clip: rect(1px 1px 1px 1px);\n",
              "  clip: rect(1px, 1px, 1px, 1px);\n",
              "  height: 1px;\n",
              "  margin: -1px;\n",
              "  overflow: hidden;\n",
              "  padding: 0;\n",
              "  position: absolute;\n",
              "  width: 1px;\n",
              "}\n",
              "\n",
              "#sk-container-id-1 div.sk-dashed-wrapped {\n",
              "  border: 1px dashed var(--sklearn-color-line);\n",
              "  margin: 0 0.4em 0.5em 0.4em;\n",
              "  box-sizing: border-box;\n",
              "  padding-bottom: 0.4em;\n",
              "  background-color: var(--sklearn-color-background);\n",
              "}\n",
              "\n",
              "#sk-container-id-1 div.sk-container {\n",
              "  /* jupyter's `normalize.less` sets `[hidden] { display: none; }`\n",
              "     but bootstrap.min.css set `[hidden] { display: none !important; }`\n",
              "     so we also need the `!important` here to be able to override the\n",
              "     default hidden behavior on the sphinx rendered scikit-learn.org.\n",
              "     See: https://github.com/scikit-learn/scikit-learn/issues/21755 */\n",
              "  display: inline-block !important;\n",
              "  position: relative;\n",
              "}\n",
              "\n",
              "#sk-container-id-1 div.sk-text-repr-fallback {\n",
              "  display: none;\n",
              "}\n",
              "\n",
              "div.sk-parallel-item,\n",
              "div.sk-serial,\n",
              "div.sk-item {\n",
              "  /* draw centered vertical line to link estimators */\n",
              "  background-image: linear-gradient(var(--sklearn-color-text-on-default-background), var(--sklearn-color-text-on-default-background));\n",
              "  background-size: 2px 100%;\n",
              "  background-repeat: no-repeat;\n",
              "  background-position: center center;\n",
              "}\n",
              "\n",
              "/* Parallel-specific style estimator block */\n",
              "\n",
              "#sk-container-id-1 div.sk-parallel-item::after {\n",
              "  content: \"\";\n",
              "  width: 100%;\n",
              "  border-bottom: 2px solid var(--sklearn-color-text-on-default-background);\n",
              "  flex-grow: 1;\n",
              "}\n",
              "\n",
              "#sk-container-id-1 div.sk-parallel {\n",
              "  display: flex;\n",
              "  align-items: stretch;\n",
              "  justify-content: center;\n",
              "  background-color: var(--sklearn-color-background);\n",
              "  position: relative;\n",
              "}\n",
              "\n",
              "#sk-container-id-1 div.sk-parallel-item {\n",
              "  display: flex;\n",
              "  flex-direction: column;\n",
              "}\n",
              "\n",
              "#sk-container-id-1 div.sk-parallel-item:first-child::after {\n",
              "  align-self: flex-end;\n",
              "  width: 50%;\n",
              "}\n",
              "\n",
              "#sk-container-id-1 div.sk-parallel-item:last-child::after {\n",
              "  align-self: flex-start;\n",
              "  width: 50%;\n",
              "}\n",
              "\n",
              "#sk-container-id-1 div.sk-parallel-item:only-child::after {\n",
              "  width: 0;\n",
              "}\n",
              "\n",
              "/* Serial-specific style estimator block */\n",
              "\n",
              "#sk-container-id-1 div.sk-serial {\n",
              "  display: flex;\n",
              "  flex-direction: column;\n",
              "  align-items: center;\n",
              "  background-color: var(--sklearn-color-background);\n",
              "  padding-right: 1em;\n",
              "  padding-left: 1em;\n",
              "}\n",
              "\n",
              "\n",
              "/* Toggleable style: style used for estimator/Pipeline/ColumnTransformer box that is\n",
              "clickable and can be expanded/collapsed.\n",
              "- Pipeline and ColumnTransformer use this feature and define the default style\n",
              "- Estimators will overwrite some part of the style using the `sk-estimator` class\n",
              "*/\n",
              "\n",
              "/* Pipeline and ColumnTransformer style (default) */\n",
              "\n",
              "#sk-container-id-1 div.sk-toggleable {\n",
              "  /* Default theme specific background. It is overwritten whether we have a\n",
              "  specific estimator or a Pipeline/ColumnTransformer */\n",
              "  background-color: var(--sklearn-color-background);\n",
              "}\n",
              "\n",
              "/* Toggleable label */\n",
              "#sk-container-id-1 label.sk-toggleable__label {\n",
              "  cursor: pointer;\n",
              "  display: block;\n",
              "  width: 100%;\n",
              "  margin-bottom: 0;\n",
              "  padding: 0.5em;\n",
              "  box-sizing: border-box;\n",
              "  text-align: center;\n",
              "}\n",
              "\n",
              "#sk-container-id-1 label.sk-toggleable__label-arrow:before {\n",
              "  /* Arrow on the left of the label */\n",
              "  content: \"▸\";\n",
              "  float: left;\n",
              "  margin-right: 0.25em;\n",
              "  color: var(--sklearn-color-icon);\n",
              "}\n",
              "\n",
              "#sk-container-id-1 label.sk-toggleable__label-arrow:hover:before {\n",
              "  color: var(--sklearn-color-text);\n",
              "}\n",
              "\n",
              "/* Toggleable content - dropdown */\n",
              "\n",
              "#sk-container-id-1 div.sk-toggleable__content {\n",
              "  max-height: 0;\n",
              "  max-width: 0;\n",
              "  overflow: hidden;\n",
              "  text-align: left;\n",
              "  /* unfitted */\n",
              "  background-color: var(--sklearn-color-unfitted-level-0);\n",
              "}\n",
              "\n",
              "#sk-container-id-1 div.sk-toggleable__content.fitted {\n",
              "  /* fitted */\n",
              "  background-color: var(--sklearn-color-fitted-level-0);\n",
              "}\n",
              "\n",
              "#sk-container-id-1 div.sk-toggleable__content pre {\n",
              "  margin: 0.2em;\n",
              "  border-radius: 0.25em;\n",
              "  color: var(--sklearn-color-text);\n",
              "  /* unfitted */\n",
              "  background-color: var(--sklearn-color-unfitted-level-0);\n",
              "}\n",
              "\n",
              "#sk-container-id-1 div.sk-toggleable__content.fitted pre {\n",
              "  /* unfitted */\n",
              "  background-color: var(--sklearn-color-fitted-level-0);\n",
              "}\n",
              "\n",
              "#sk-container-id-1 input.sk-toggleable__control:checked~div.sk-toggleable__content {\n",
              "  /* Expand drop-down */\n",
              "  max-height: 200px;\n",
              "  max-width: 100%;\n",
              "  overflow: auto;\n",
              "}\n",
              "\n",
              "#sk-container-id-1 input.sk-toggleable__control:checked~label.sk-toggleable__label-arrow:before {\n",
              "  content: \"▾\";\n",
              "}\n",
              "\n",
              "/* Pipeline/ColumnTransformer-specific style */\n",
              "\n",
              "#sk-container-id-1 div.sk-label input.sk-toggleable__control:checked~label.sk-toggleable__label {\n",
              "  color: var(--sklearn-color-text);\n",
              "  background-color: var(--sklearn-color-unfitted-level-2);\n",
              "}\n",
              "\n",
              "#sk-container-id-1 div.sk-label.fitted input.sk-toggleable__control:checked~label.sk-toggleable__label {\n",
              "  background-color: var(--sklearn-color-fitted-level-2);\n",
              "}\n",
              "\n",
              "/* Estimator-specific style */\n",
              "\n",
              "/* Colorize estimator box */\n",
              "#sk-container-id-1 div.sk-estimator input.sk-toggleable__control:checked~label.sk-toggleable__label {\n",
              "  /* unfitted */\n",
              "  background-color: var(--sklearn-color-unfitted-level-2);\n",
              "}\n",
              "\n",
              "#sk-container-id-1 div.sk-estimator.fitted input.sk-toggleable__control:checked~label.sk-toggleable__label {\n",
              "  /* fitted */\n",
              "  background-color: var(--sklearn-color-fitted-level-2);\n",
              "}\n",
              "\n",
              "#sk-container-id-1 div.sk-label label.sk-toggleable__label,\n",
              "#sk-container-id-1 div.sk-label label {\n",
              "  /* The background is the default theme color */\n",
              "  color: var(--sklearn-color-text-on-default-background);\n",
              "}\n",
              "\n",
              "/* On hover, darken the color of the background */\n",
              "#sk-container-id-1 div.sk-label:hover label.sk-toggleable__label {\n",
              "  color: var(--sklearn-color-text);\n",
              "  background-color: var(--sklearn-color-unfitted-level-2);\n",
              "}\n",
              "\n",
              "/* Label box, darken color on hover, fitted */\n",
              "#sk-container-id-1 div.sk-label.fitted:hover label.sk-toggleable__label.fitted {\n",
              "  color: var(--sklearn-color-text);\n",
              "  background-color: var(--sklearn-color-fitted-level-2);\n",
              "}\n",
              "\n",
              "/* Estimator label */\n",
              "\n",
              "#sk-container-id-1 div.sk-label label {\n",
              "  font-family: monospace;\n",
              "  font-weight: bold;\n",
              "  display: inline-block;\n",
              "  line-height: 1.2em;\n",
              "}\n",
              "\n",
              "#sk-container-id-1 div.sk-label-container {\n",
              "  text-align: center;\n",
              "}\n",
              "\n",
              "/* Estimator-specific */\n",
              "#sk-container-id-1 div.sk-estimator {\n",
              "  font-family: monospace;\n",
              "  border: 1px dotted var(--sklearn-color-border-box);\n",
              "  border-radius: 0.25em;\n",
              "  box-sizing: border-box;\n",
              "  margin-bottom: 0.5em;\n",
              "  /* unfitted */\n",
              "  background-color: var(--sklearn-color-unfitted-level-0);\n",
              "}\n",
              "\n",
              "#sk-container-id-1 div.sk-estimator.fitted {\n",
              "  /* fitted */\n",
              "  background-color: var(--sklearn-color-fitted-level-0);\n",
              "}\n",
              "\n",
              "/* on hover */\n",
              "#sk-container-id-1 div.sk-estimator:hover {\n",
              "  /* unfitted */\n",
              "  background-color: var(--sklearn-color-unfitted-level-2);\n",
              "}\n",
              "\n",
              "#sk-container-id-1 div.sk-estimator.fitted:hover {\n",
              "  /* fitted */\n",
              "  background-color: var(--sklearn-color-fitted-level-2);\n",
              "}\n",
              "\n",
              "/* Specification for estimator info (e.g. \"i\" and \"?\") */\n",
              "\n",
              "/* Common style for \"i\" and \"?\" */\n",
              "\n",
              ".sk-estimator-doc-link,\n",
              "a:link.sk-estimator-doc-link,\n",
              "a:visited.sk-estimator-doc-link {\n",
              "  float: right;\n",
              "  font-size: smaller;\n",
              "  line-height: 1em;\n",
              "  font-family: monospace;\n",
              "  background-color: var(--sklearn-color-background);\n",
              "  border-radius: 1em;\n",
              "  height: 1em;\n",
              "  width: 1em;\n",
              "  text-decoration: none !important;\n",
              "  margin-left: 1ex;\n",
              "  /* unfitted */\n",
              "  border: var(--sklearn-color-unfitted-level-1) 1pt solid;\n",
              "  color: var(--sklearn-color-unfitted-level-1);\n",
              "}\n",
              "\n",
              ".sk-estimator-doc-link.fitted,\n",
              "a:link.sk-estimator-doc-link.fitted,\n",
              "a:visited.sk-estimator-doc-link.fitted {\n",
              "  /* fitted */\n",
              "  border: var(--sklearn-color-fitted-level-1) 1pt solid;\n",
              "  color: var(--sklearn-color-fitted-level-1);\n",
              "}\n",
              "\n",
              "/* On hover */\n",
              "div.sk-estimator:hover .sk-estimator-doc-link:hover,\n",
              ".sk-estimator-doc-link:hover,\n",
              "div.sk-label-container:hover .sk-estimator-doc-link:hover,\n",
              ".sk-estimator-doc-link:hover {\n",
              "  /* unfitted */\n",
              "  background-color: var(--sklearn-color-unfitted-level-3);\n",
              "  color: var(--sklearn-color-background);\n",
              "  text-decoration: none;\n",
              "}\n",
              "\n",
              "div.sk-estimator.fitted:hover .sk-estimator-doc-link.fitted:hover,\n",
              ".sk-estimator-doc-link.fitted:hover,\n",
              "div.sk-label-container:hover .sk-estimator-doc-link.fitted:hover,\n",
              ".sk-estimator-doc-link.fitted:hover {\n",
              "  /* fitted */\n",
              "  background-color: var(--sklearn-color-fitted-level-3);\n",
              "  color: var(--sklearn-color-background);\n",
              "  text-decoration: none;\n",
              "}\n",
              "\n",
              "/* Span, style for the box shown on hovering the info icon */\n",
              ".sk-estimator-doc-link span {\n",
              "  display: none;\n",
              "  z-index: 9999;\n",
              "  position: relative;\n",
              "  font-weight: normal;\n",
              "  right: .2ex;\n",
              "  padding: .5ex;\n",
              "  margin: .5ex;\n",
              "  width: min-content;\n",
              "  min-width: 20ex;\n",
              "  max-width: 50ex;\n",
              "  color: var(--sklearn-color-text);\n",
              "  box-shadow: 2pt 2pt 4pt #999;\n",
              "  /* unfitted */\n",
              "  background: var(--sklearn-color-unfitted-level-0);\n",
              "  border: .5pt solid var(--sklearn-color-unfitted-level-3);\n",
              "}\n",
              "\n",
              ".sk-estimator-doc-link.fitted span {\n",
              "  /* fitted */\n",
              "  background: var(--sklearn-color-fitted-level-0);\n",
              "  border: var(--sklearn-color-fitted-level-3);\n",
              "}\n",
              "\n",
              ".sk-estimator-doc-link:hover span {\n",
              "  display: block;\n",
              "}\n",
              "\n",
              "/* \"?\"-specific style due to the `<a>` HTML tag */\n",
              "\n",
              "#sk-container-id-1 a.estimator_doc_link {\n",
              "  float: right;\n",
              "  font-size: 1rem;\n",
              "  line-height: 1em;\n",
              "  font-family: monospace;\n",
              "  background-color: var(--sklearn-color-background);\n",
              "  border-radius: 1rem;\n",
              "  height: 1rem;\n",
              "  width: 1rem;\n",
              "  text-decoration: none;\n",
              "  /* unfitted */\n",
              "  color: var(--sklearn-color-unfitted-level-1);\n",
              "  border: var(--sklearn-color-unfitted-level-1) 1pt solid;\n",
              "}\n",
              "\n",
              "#sk-container-id-1 a.estimator_doc_link.fitted {\n",
              "  /* fitted */\n",
              "  border: var(--sklearn-color-fitted-level-1) 1pt solid;\n",
              "  color: var(--sklearn-color-fitted-level-1);\n",
              "}\n",
              "\n",
              "/* On hover */\n",
              "#sk-container-id-1 a.estimator_doc_link:hover {\n",
              "  /* unfitted */\n",
              "  background-color: var(--sklearn-color-unfitted-level-3);\n",
              "  color: var(--sklearn-color-background);\n",
              "  text-decoration: none;\n",
              "}\n",
              "\n",
              "#sk-container-id-1 a.estimator_doc_link.fitted:hover {\n",
              "  /* fitted */\n",
              "  background-color: var(--sklearn-color-fitted-level-3);\n",
              "}\n",
              "</style><div id=\"sk-container-id-1\" class=\"sk-top-container\"><div class=\"sk-text-repr-fallback\"><pre>LinearRegression()</pre><b>In a Jupyter environment, please rerun this cell to show the HTML representation or trust the notebook. <br />On GitHub, the HTML representation is unable to render, please try loading this page with nbviewer.org.</b></div><div class=\"sk-container\" hidden><div class=\"sk-item\"><div class=\"sk-estimator fitted sk-toggleable\"><input class=\"sk-toggleable__control sk-hidden--visually\" id=\"sk-estimator-id-1\" type=\"checkbox\" checked><label for=\"sk-estimator-id-1\" class=\"sk-toggleable__label fitted sk-toggleable__label-arrow fitted\">&nbsp;&nbsp;LinearRegression<a class=\"sk-estimator-doc-link fitted\" rel=\"noreferrer\" target=\"_blank\" href=\"https://scikit-learn.org/1.5/modules/generated/sklearn.linear_model.LinearRegression.html\">?<span>Documentation for LinearRegression</span></a><span class=\"sk-estimator-doc-link fitted\">i<span>Fitted</span></span></label><div class=\"sk-toggleable__content fitted\"><pre>LinearRegression()</pre></div> </div></div></div></div>"
            ],
            "text/plain": [
              "LinearRegression()"
            ]
          },
          "execution_count": 49,
          "metadata": {},
          "output_type": "execute_result"
        }
      ],
      "source": [
        "from sklearn.linear_model import LinearRegression\n",
        "\n",
        "# Train model linear regression\n",
        "regressor = LinearRegression()\n",
        "regressor.fit(xtrain, ytrain)"
      ]
    },
    {
      "cell_type": "code",
      "execution_count": 50,
      "id": "29c3f7b9",
      "metadata": {},
      "outputs": [
        {
          "data": {
            "image/png": "[encoded data removed]",
            "text/plain": [
              "<Figure size 800x600 with 1 Axes>"
            ]
          },
          "metadata": {},
          "output_type": "display_data"
        },
        {
          "data": {
            "image/png": "[encoded data removed]",
            "text/plain": [
              "<Figure size 800x600 with 1 Axes>"
            ]
          },
          "metadata": {},
          "output_type": "display_data"
        }
      ],
      "source": [
        "# Plot learning curves for R²\n",
        "plot_learning_curves(regressor, xtrain.values, ytrain.values, xtest.values, ytest.values, r2_score, \"R²\")\n",
        "\n",
        "# Plot learning curves for MAE\n",
        "plot_learning_curves(regressor, xtrain.values, ytrain.values, xtest.values, ytest.values, mean_absolute_error, \"Mean Absolute Error\")\n"
      ]
    },
    {
      "cell_type": "code",
      "execution_count": 51,
      "id": "16392ca0-8400-49c7-90a0-a5c1d89bace5",
      "metadata": {
        "colab": {
          "base_uri": "https://localhost:8080/"
        },
        "id": "16392ca0-8400-49c7-90a0-a5c1d89bace5",
        "outputId": "89eac3d5-7e80-4b75-c588-e631fd85e2e7"
      },
      "outputs": [
        {
          "name": "stdout",
          "output_type": "stream",
          "text": [
            "MAE:  2807.5469724020445\n",
            "RMSE:  4413.64502984821\n",
            "R2 score:  0.7813400455027217\n",
            "Coefficients:  [ 2.24649572e+03  5.95264513e-01  4.10186838e-01  3.36779926e-01\n",
            "  6.64763317e-02  3.71275527e+02 -2.29109687e+03  4.12061049e-03\n",
            " -2.90463936e-03  2.47328771e+02 -2.50909500e+01  1.44754516e+03\n",
            " -1.66978298e+03  5.37272191e+02 -1.13298906e+03  7.98016204e+02\n",
            " -5.15392933e+03  4.23447842e+03  4.69720589e+02  2.47430987e+02\n",
            "  3.78683475e+02  2.30642065e+02  7.00141424e+01 -4.88812877e+02\n",
            " -4.52072623e+02 -1.39824876e+03  5.96169326e+02  3.82955386e+03\n",
            " -3.97346647e+03  3.14425613e+03 -1.48265736e+03 -4.54060904e+02]\n",
            "Intercept:  -3931.862080817624\n"
          ]
        }
      ],
      "source": [
        "# Predict\n",
        "y_pred = regressor.predict(xtest)\n",
        "\n",
        "# Show the evaluation\n",
        "eval_regression(regressor, y_pred, xtrain, xtest, ytrain, ytest)"
      ]
    },
    {
      "cell_type": "markdown",
      "id": "fDnkFHmaRWwe",
      "metadata": {
        "id": "fDnkFHmaRWwe"
      },
      "source": [
        "### Random Forest Regression"
      ]
    },
    {
      "cell_type": "code",
      "execution_count": 52,
      "id": "bb92f429-6085-459e-8faf-7b6670db9186",
      "metadata": {
        "colab": {
          "base_uri": "https://localhost:8080/",
          "height": 74
        },
        "id": "bb92f429-6085-459e-8faf-7b6670db9186",
        "outputId": "b0aa5fb3-06dc-4c82-d5c7-a223e0f04c65"
      },
      "outputs": [
        {
          "data": {
            "text/html": [
              "<style>#sk-container-id-2 {\n",
              "  /* Definition of color scheme common for light and dark mode */\n",
              "  --sklearn-color-text: black;\n",
              "  --sklearn-color-line: gray;\n",
              "  /* Definition of color scheme for unfitted estimators */\n",
              "  --sklearn-color-unfitted-level-0: #fff5e6;\n",
              "  --sklearn-color-unfitted-level-1: #f6e4d2;\n",
              "  --sklearn-color-unfitted-level-2: #ffe0b3;\n",
              "  --sklearn-color-unfitted-level-3: chocolate;\n",
              "  /* Definition of color scheme for fitted estimators */\n",
              "  --sklearn-color-fitted-level-0: #f0f8ff;\n",
              "  --sklearn-color-fitted-level-1: #d4ebff;\n",
              "  --sklearn-color-fitted-level-2: #b3dbfd;\n",
              "  --sklearn-color-fitted-level-3: cornflowerblue;\n",
              "\n",
              "  /* Specific color for light theme */\n",
              "  --sklearn-color-text-on-default-background: var(--sg-text-color, var(--theme-code-foreground, var(--jp-content-font-color1, black)));\n",
              "  --sklearn-color-background: var(--sg-background-color, var(--theme-background, var(--jp-layout-color0, white)));\n",
              "  --sklearn-color-border-box: var(--sg-text-color, var(--theme-code-foreground, var(--jp-content-font-color1, black)));\n",
              "  --sklearn-color-icon: #696969;\n",
              "\n",
              "  @media (prefers-color-scheme: dark) {\n",
              "    /* Redefinition of color scheme for dark theme */\n",
              "    --sklearn-color-text-on-default-background: var(--sg-text-color, var(--theme-code-foreground, var(--jp-content-font-color1, white)));\n",
              "    --sklearn-color-background: var(--sg-background-color, var(--theme-background, var(--jp-layout-color0, #111)));\n",
              "    --sklearn-color-border-box: var(--sg-text-color, var(--theme-code-foreground, var(--jp-content-font-color1, white)));\n",
              "    --sklearn-color-icon: #878787;\n",
              "  }\n",
              "}\n",
              "\n",
              "#sk-container-id-2 {\n",
              "  color: var(--sklearn-color-text);\n",
              "}\n",
              "\n",
              "#sk-container-id-2 pre {\n",
              "  padding: 0;\n",
              "}\n",
              "\n",
              "#sk-container-id-2 input.sk-hidden--visually {\n",
              "  border: 0;\n",
              "  clip: rect(1px 1px 1px 1px);\n",
              "  clip: rect(1px, 1px, 1px, 1px);\n",
              "  height: 1px;\n",
              "  margin: -1px;\n",
              "  overflow: hidden;\n",
              "  padding: 0;\n",
              "  position: absolute;\n",
              "  width: 1px;\n",
              "}\n",
              "\n",
              "#sk-container-id-2 div.sk-dashed-wrapped {\n",
              "  border: 1px dashed var(--sklearn-color-line);\n",
              "  margin: 0 0.4em 0.5em 0.4em;\n",
              "  box-sizing: border-box;\n",
              "  padding-bottom: 0.4em;\n",
              "  background-color: var(--sklearn-color-background);\n",
              "}\n",
              "\n",
              "#sk-container-id-2 div.sk-container {\n",
              "  /* jupyter's `normalize.less` sets `[hidden] { display: none; }`\n",
              "     but bootstrap.min.css set `[hidden] { display: none !important; }`\n",
              "     so we also need the `!important` here to be able to override the\n",
              "     default hidden behavior on the sphinx rendered scikit-learn.org.\n",
              "     See: https://github.com/scikit-learn/scikit-learn/issues/21755 */\n",
              "  display: inline-block !important;\n",
              "  position: relative;\n",
              "}\n",
              "\n",
              "#sk-container-id-2 div.sk-text-repr-fallback {\n",
              "  display: none;\n",
              "}\n",
              "\n",
              "div.sk-parallel-item,\n",
              "div.sk-serial,\n",
              "div.sk-item {\n",
              "  /* draw centered vertical line to link estimators */\n",
              "  background-image: linear-gradient(var(--sklearn-color-text-on-default-background), var(--sklearn-color-text-on-default-background));\n",
              "  background-size: 2px 100%;\n",
              "  background-repeat: no-repeat;\n",
              "  background-position: center center;\n",
              "}\n",
              "\n",
              "/* Parallel-specific style estimator block */\n",
              "\n",
              "#sk-container-id-2 div.sk-parallel-item::after {\n",
              "  content: \"\";\n",
              "  width: 100%;\n",
              "  border-bottom: 2px solid var(--sklearn-color-text-on-default-background);\n",
              "  flex-grow: 1;\n",
              "}\n",
              "\n",
              "#sk-container-id-2 div.sk-parallel {\n",
              "  display: flex;\n",
              "  align-items: stretch;\n",
              "  justify-content: center;\n",
              "  background-color: var(--sklearn-color-background);\n",
              "  position: relative;\n",
              "}\n",
              "\n",
              "#sk-container-id-2 div.sk-parallel-item {\n",
              "  display: flex;\n",
              "  flex-direction: column;\n",
              "}\n",
              "\n",
              "#sk-container-id-2 div.sk-parallel-item:first-child::after {\n",
              "  align-self: flex-end;\n",
              "  width: 50%;\n",
              "}\n",
              "\n",
              "#sk-container-id-2 div.sk-parallel-item:last-child::after {\n",
              "  align-self: flex-start;\n",
              "  width: 50%;\n",
              "}\n",
              "\n",
              "#sk-container-id-2 div.sk-parallel-item:only-child::after {\n",
              "  width: 0;\n",
              "}\n",
              "\n",
              "/* Serial-specific style estimator block */\n",
              "\n",
              "#sk-container-id-2 div.sk-serial {\n",
              "  display: flex;\n",
              "  flex-direction: column;\n",
              "  align-items: center;\n",
              "  background-color: var(--sklearn-color-background);\n",
              "  padding-right: 1em;\n",
              "  padding-left: 1em;\n",
              "}\n",
              "\n",
              "\n",
              "/* Toggleable style: style used for estimator/Pipeline/ColumnTransformer box that is\n",
              "clickable and can be expanded/collapsed.\n",
              "- Pipeline and ColumnTransformer use this feature and define the default style\n",
              "- Estimators will overwrite some part of the style using the `sk-estimator` class\n",
              "*/\n",
              "\n",
              "/* Pipeline and ColumnTransformer style (default) */\n",
              "\n",
              "#sk-container-id-2 div.sk-toggleable {\n",
              "  /* Default theme specific background. It is overwritten whether we have a\n",
              "  specific estimator or a Pipeline/ColumnTransformer */\n",
              "  background-color: var(--sklearn-color-background);\n",
              "}\n",
              "\n",
              "/* Toggleable label */\n",
              "#sk-container-id-2 label.sk-toggleable__label {\n",
              "  cursor: pointer;\n",
              "  display: block;\n",
              "  width: 100%;\n",
              "  margin-bottom: 0;\n",
              "  padding: 0.5em;\n",
              "  box-sizing: border-box;\n",
              "  text-align: center;\n",
              "}\n",
              "\n",
              "#sk-container-id-2 label.sk-toggleable__label-arrow:before {\n",
              "  /* Arrow on the left of the label */\n",
              "  content: \"▸\";\n",
              "  float: left;\n",
              "  margin-right: 0.25em;\n",
              "  color: var(--sklearn-color-icon);\n",
              "}\n",
              "\n",
              "#sk-container-id-2 label.sk-toggleable__label-arrow:hover:before {\n",
              "  color: var(--sklearn-color-text);\n",
              "}\n",
              "\n",
              "/* Toggleable content - dropdown */\n",
              "\n",
              "#sk-container-id-2 div.sk-toggleable__content {\n",
              "  max-height: 0;\n",
              "  max-width: 0;\n",
              "  overflow: hidden;\n",
              "  text-align: left;\n",
              "  /* unfitted */\n",
              "  background-color: var(--sklearn-color-unfitted-level-0);\n",
              "}\n",
              "\n",
              "#sk-container-id-2 div.sk-toggleable__content.fitted {\n",
              "  /* fitted */\n",
              "  background-color: var(--sklearn-color-fitted-level-0);\n",
              "}\n",
              "\n",
              "#sk-container-id-2 div.sk-toggleable__content pre {\n",
              "  margin: 0.2em;\n",
              "  border-radius: 0.25em;\n",
              "  color: var(--sklearn-color-text);\n",
              "  /* unfitted */\n",
              "  background-color: var(--sklearn-color-unfitted-level-0);\n",
              "}\n",
              "\n",
              "#sk-container-id-2 div.sk-toggleable__content.fitted pre {\n",
              "  /* unfitted */\n",
              "  background-color: var(--sklearn-color-fitted-level-0);\n",
              "}\n",
              "\n",
              "#sk-container-id-2 input.sk-toggleable__control:checked~div.sk-toggleable__content {\n",
              "  /* Expand drop-down */\n",
              "  max-height: 200px;\n",
              "  max-width: 100%;\n",
              "  overflow: auto;\n",
              "}\n",
              "\n",
              "#sk-container-id-2 input.sk-toggleable__control:checked~label.sk-toggleable__label-arrow:before {\n",
              "  content: \"▾\";\n",
              "}\n",
              "\n",
              "/* Pipeline/ColumnTransformer-specific style */\n",
              "\n",
              "#sk-container-id-2 div.sk-label input.sk-toggleable__control:checked~label.sk-toggleable__label {\n",
              "  color: var(--sklearn-color-text);\n",
              "  background-color: var(--sklearn-color-unfitted-level-2);\n",
              "}\n",
              "\n",
              "#sk-container-id-2 div.sk-label.fitted input.sk-toggleable__control:checked~label.sk-toggleable__label {\n",
              "  background-color: var(--sklearn-color-fitted-level-2);\n",
              "}\n",
              "\n",
              "/* Estimator-specific style */\n",
              "\n",
              "/* Colorize estimator box */\n",
              "#sk-container-id-2 div.sk-estimator input.sk-toggleable__control:checked~label.sk-toggleable__label {\n",
              "  /* unfitted */\n",
              "  background-color: var(--sklearn-color-unfitted-level-2);\n",
              "}\n",
              "\n",
              "#sk-container-id-2 div.sk-estimator.fitted input.sk-toggleable__control:checked~label.sk-toggleable__label {\n",
              "  /* fitted */\n",
              "  background-color: var(--sklearn-color-fitted-level-2);\n",
              "}\n",
              "\n",
              "#sk-container-id-2 div.sk-label label.sk-toggleable__label,\n",
              "#sk-container-id-2 div.sk-label label {\n",
              "  /* The background is the default theme color */\n",
              "  color: var(--sklearn-color-text-on-default-background);\n",
              "}\n",
              "\n",
              "/* On hover, darken the color of the background */\n",
              "#sk-container-id-2 div.sk-label:hover label.sk-toggleable__label {\n",
              "  color: var(--sklearn-color-text);\n",
              "  background-color: var(--sklearn-color-unfitted-level-2);\n",
              "}\n",
              "\n",
              "/* Label box, darken color on hover, fitted */\n",
              "#sk-container-id-2 div.sk-label.fitted:hover label.sk-toggleable__label.fitted {\n",
              "  color: var(--sklearn-color-text);\n",
              "  background-color: var(--sklearn-color-fitted-level-2);\n",
              "}\n",
              "\n",
              "/* Estimator label */\n",
              "\n",
              "#sk-container-id-2 div.sk-label label {\n",
              "  font-family: monospace;\n",
              "  font-weight: bold;\n",
              "  display: inline-block;\n",
              "  line-height: 1.2em;\n",
              "}\n",
              "\n",
              "#sk-container-id-2 div.sk-label-container {\n",
              "  text-align: center;\n",
              "}\n",
              "\n",
              "/* Estimator-specific */\n",
              "#sk-container-id-2 div.sk-estimator {\n",
              "  font-family: monospace;\n",
              "  border: 1px dotted var(--sklearn-color-border-box);\n",
              "  border-radius: 0.25em;\n",
              "  box-sizing: border-box;\n",
              "  margin-bottom: 0.5em;\n",
              "  /* unfitted */\n",
              "  background-color: var(--sklearn-color-unfitted-level-0);\n",
              "}\n",
              "\n",
              "#sk-container-id-2 div.sk-estimator.fitted {\n",
              "  /* fitted */\n",
              "  background-color: var(--sklearn-color-fitted-level-0);\n",
              "}\n",
              "\n",
              "/* on hover */\n",
              "#sk-container-id-2 div.sk-estimator:hover {\n",
              "  /* unfitted */\n",
              "  background-color: var(--sklearn-color-unfitted-level-2);\n",
              "}\n",
              "\n",
              "#sk-container-id-2 div.sk-estimator.fitted:hover {\n",
              "  /* fitted */\n",
              "  background-color: var(--sklearn-color-fitted-level-2);\n",
              "}\n",
              "\n",
              "/* Specification for estimator info (e.g. \"i\" and \"?\") */\n",
              "\n",
              "/* Common style for \"i\" and \"?\" */\n",
              "\n",
              ".sk-estimator-doc-link,\n",
              "a:link.sk-estimator-doc-link,\n",
              "a:visited.sk-estimator-doc-link {\n",
              "  float: right;\n",
              "  font-size: smaller;\n",
              "  line-height: 1em;\n",
              "  font-family: monospace;\n",
              "  background-color: var(--sklearn-color-background);\n",
              "  border-radius: 1em;\n",
              "  height: 1em;\n",
              "  width: 1em;\n",
              "  text-decoration: none !important;\n",
              "  margin-left: 1ex;\n",
              "  /* unfitted */\n",
              "  border: var(--sklearn-color-unfitted-level-1) 1pt solid;\n",
              "  color: var(--sklearn-color-unfitted-level-1);\n",
              "}\n",
              "\n",
              ".sk-estimator-doc-link.fitted,\n",
              "a:link.sk-estimator-doc-link.fitted,\n",
              "a:visited.sk-estimator-doc-link.fitted {\n",
              "  /* fitted */\n",
              "  border: var(--sklearn-color-fitted-level-1) 1pt solid;\n",
              "  color: var(--sklearn-color-fitted-level-1);\n",
              "}\n",
              "\n",
              "/* On hover */\n",
              "div.sk-estimator:hover .sk-estimator-doc-link:hover,\n",
              ".sk-estimator-doc-link:hover,\n",
              "div.sk-label-container:hover .sk-estimator-doc-link:hover,\n",
              ".sk-estimator-doc-link:hover {\n",
              "  /* unfitted */\n",
              "  background-color: var(--sklearn-color-unfitted-level-3);\n",
              "  color: var(--sklearn-color-background);\n",
              "  text-decoration: none;\n",
              "}\n",
              "\n",
              "div.sk-estimator.fitted:hover .sk-estimator-doc-link.fitted:hover,\n",
              ".sk-estimator-doc-link.fitted:hover,\n",
              "div.sk-label-container:hover .sk-estimator-doc-link.fitted:hover,\n",
              ".sk-estimator-doc-link.fitted:hover {\n",
              "  /* fitted */\n",
              "  background-color: var(--sklearn-color-fitted-level-3);\n",
              "  color: var(--sklearn-color-background);\n",
              "  text-decoration: none;\n",
              "}\n",
              "\n",
              "/* Span, style for the box shown on hovering the info icon */\n",
              ".sk-estimator-doc-link span {\n",
              "  display: none;\n",
              "  z-index: 9999;\n",
              "  position: relative;\n",
              "  font-weight: normal;\n",
              "  right: .2ex;\n",
              "  padding: .5ex;\n",
              "  margin: .5ex;\n",
              "  width: min-content;\n",
              "  min-width: 20ex;\n",
              "  max-width: 50ex;\n",
              "  color: var(--sklearn-color-text);\n",
              "  box-shadow: 2pt 2pt 4pt #999;\n",
              "  /* unfitted */\n",
              "  background: var(--sklearn-color-unfitted-level-0);\n",
              "  border: .5pt solid var(--sklearn-color-unfitted-level-3);\n",
              "}\n",
              "\n",
              ".sk-estimator-doc-link.fitted span {\n",
              "  /* fitted */\n",
              "  background: var(--sklearn-color-fitted-level-0);\n",
              "  border: var(--sklearn-color-fitted-level-3);\n",
              "}\n",
              "\n",
              ".sk-estimator-doc-link:hover span {\n",
              "  display: block;\n",
              "}\n",
              "\n",
              "/* \"?\"-specific style due to the `<a>` HTML tag */\n",
              "\n",
              "#sk-container-id-2 a.estimator_doc_link {\n",
              "  float: right;\n",
              "  font-size: 1rem;\n",
              "  line-height: 1em;\n",
              "  font-family: monospace;\n",
              "  background-color: var(--sklearn-color-background);\n",
              "  border-radius: 1rem;\n",
              "  height: 1rem;\n",
              "  width: 1rem;\n",
              "  text-decoration: none;\n",
              "  /* unfitted */\n",
              "  color: var(--sklearn-color-unfitted-level-1);\n",
              "  border: var(--sklearn-color-unfitted-level-1) 1pt solid;\n",
              "}\n",
              "\n",
              "#sk-container-id-2 a.estimator_doc_link.fitted {\n",
              "  /* fitted */\n",
              "  border: var(--sklearn-color-fitted-level-1) 1pt solid;\n",
              "  color: var(--sklearn-color-fitted-level-1);\n",
              "}\n",
              "\n",
              "/* On hover */\n",
              "#sk-container-id-2 a.estimator_doc_link:hover {\n",
              "  /* unfitted */\n",
              "  background-color: var(--sklearn-color-unfitted-level-3);\n",
              "  color: var(--sklearn-color-background);\n",
              "  text-decoration: none;\n",
              "}\n",
              "\n",
              "#sk-container-id-2 a.estimator_doc_link.fitted:hover {\n",
              "  /* fitted */\n",
              "  background-color: var(--sklearn-color-fitted-level-3);\n",
              "}\n",
              "</style><div id=\"sk-container-id-2\" class=\"sk-top-container\"><div class=\"sk-text-repr-fallback\"><pre>RandomForestRegressor(oob_score=True, random_state=104, verbose=False)</pre><b>In a Jupyter environment, please rerun this cell to show the HTML representation or trust the notebook. <br />On GitHub, the HTML representation is unable to render, please try loading this page with nbviewer.org.</b></div><div class=\"sk-container\" hidden><div class=\"sk-item\"><div class=\"sk-estimator fitted sk-toggleable\"><input class=\"sk-toggleable__control sk-hidden--visually\" id=\"sk-estimator-id-2\" type=\"checkbox\" checked><label for=\"sk-estimator-id-2\" class=\"sk-toggleable__label fitted sk-toggleable__label-arrow fitted\">&nbsp;&nbsp;RandomForestRegressor<a class=\"sk-estimator-doc-link fitted\" rel=\"noreferrer\" target=\"_blank\" href=\"https://scikit-learn.org/1.5/modules/generated/sklearn.ensemble.RandomForestRegressor.html\">?<span>Documentation for RandomForestRegressor</span></a><span class=\"sk-estimator-doc-link fitted\">i<span>Fitted</span></span></label><div class=\"sk-toggleable__content fitted\"><pre>RandomForestRegressor(oob_score=True, random_state=104, verbose=False)</pre></div> </div></div></div></div>"
            ],
            "text/plain": [
              "RandomForestRegressor(oob_score=True, random_state=104, verbose=False)"
            ]
          },
          "execution_count": 52,
          "metadata": {},
          "output_type": "execute_result"
        }
      ],
      "source": [
        "from sklearn.ensemble import RandomForestRegressor\n",
        "\n",
        "# Training model random forest\n",
        "rf = RandomForestRegressor(random_state=104 , verbose=False, oob_score=True )\n",
        "rf.fit(xtrain, ytrain)"
      ]
    },
    {
      "cell_type": "code",
      "execution_count": 53,
      "id": "xYqDfQVWF7vs",
      "metadata": {
        "id": "xYqDfQVWF7vs"
      },
      "outputs": [
        {
          "name": "stdout",
          "output_type": "stream",
          "text": [
            "OOB R² score: 0.9784051387181605\n"
          ]
        }
      ],
      "source": [
        "# Predict\n",
        "ytrain_pred = rf.predict(xtrain)\n",
        "ytest_pred = rf.predict(xtest)\n",
        "print(\"OOB R² score:\", rf.oob_score_)"
      ]
    },
    {
      "cell_type": "code",
      "execution_count": 55,
      "id": "0d605503",
      "metadata": {},
      "outputs": [
        {
          "data": {
            "image/png": "[encoded data removed]",
            "text/plain": [
              "<Figure size 800x600 with 1 Axes>"
            ]
          },
          "metadata": {},
          "output_type": "display_data"
        }
      ],
      "source": [
        "import numpy as np\n",
        "import matplotlib.pyplot as plt\n",
        "from sklearn.metrics import r2_score, mean_absolute_error\n",
        "from sklearn.model_selection import learning_curve\n",
        "\n",
        "# Function to plot learning curves for R² and MAE\n",
        "def plot_learning_curves(model, X_train, y_train, X_test, y_test, metric, metric_name):\n",
        "    train_sizes = np.linspace(0.1, 1.0, 10)\n",
        "    train_scores = []\n",
        "    test_scores = []\n",
        "\n",
        "    for train_size in train_sizes:\n",
        "        # Determine the size of the training subset\n",
        "        subset_size = int(train_size * len(X_train))\n",
        "        X_train_subset = X_train[:subset_size]\n",
        "        y_train_subset = y_train[:subset_size]\n",
        "\n",
        "        # Fit the model on the training subset\n",
        "        model.fit(X_train_subset, y_train_subset)\n",
        "\n",
        "        # Predict on the training and testing sets\n",
        "        y_train_pred = model.predict(X_train_subset)\n",
        "        y_test_pred = model.predict(X_test)\n",
        "\n",
        "        # Calculate the metric for training and testing sets\n",
        "        train_scores.append(metric(y_train_subset, y_train_pred))\n",
        "        test_scores.append(metric(y_test, y_test_pred))\n",
        "\n",
        "    # Plot the learning curve\n",
        "    plt.figure(figsize=(8, 6))\n",
        "    plt.plot(train_sizes, train_scores, label=\"Training Score\", marker=\"o\")\n",
        "    plt.plot(train_sizes, test_scores, label=\"Testing Score\", marker=\"o\")\n",
        "    plt.title(f\"Learning Curve: {metric_name}\")\n",
        "    plt.xlabel(\"Fraction of Training Data\")\n",
        "    plt.ylabel(metric_name)\n",
        "    plt.legend()\n",
        "    plt.grid()\n",
        "    plt.show()\n",
        "\n",
        "# Plot learning curves for R²\n",
        "plot_learning_curves(rf, xtrain.values, ytrain.values, xtest.values, ytest.values, r2_score, \"R²\")\n",
        "\n",
        "# Plot learning curves for MAE\n",
        "\n"
      ]
    },
    {
      "cell_type": "code",
      "execution_count": null,
      "id": "11b85469-63f8-4bfe-bb2f-1579483e5aac",
      "metadata": {
        "colab": {
          "base_uri": "https://localhost:8080/"
        },
        "id": "11b85469-63f8-4bfe-bb2f-1579483e5aac",
        "outputId": "44d33715-11e9-4577-9ade-3a8402247eb7"
      },
      "outputs": [
        {
          "name": "stdout",
          "output_type": "stream",
          "text": [
            "MAE train:  449.6073978331787\n",
            "MAE test:  727.2899869361071\n",
            "RMSE train:  812.5779461070385\n",
            "RMSE test:  1539.2754999836332\n",
            "R2 score train:  0.9925833625325698\n",
            "R2 score test:  0.9734045609883184\n"
          ]
        }
      ],
      "source": [
        "def evaluasi(model, ytrain_pred, ytest_pred, xtrain, xtest, ytrain,  ytest):\n",
        "    print(\"MAE train: \" , mean_absolute_error(ytrain, ytrain_pred))\n",
        "    print(\"MAE test: \" , mean_absolute_error(ytest, ytest_pred))\n",
        "    print(\"RMSE train: \" , mean_squared_error(ytrain, ytrain_pred, squared=False))\n",
        "    print(\"RMSE test: \" , mean_squared_error(ytest, ytest_pred, squared=False))\n",
        "    print('R2 score train: ', r2_score(ytrain, ytrain_pred))\n",
        "    print('R2 score test: ', r2_score(ytest, ytest_pred))\n",
        "\n",
        "evaluasi(rf, ytrain_pred, ytest_pred, xtrain, xtest, ytrain, ytest)"
      ]
    },
    {
      "cell_type": "markdown",
      "id": "ZwRRxZ7dIGpx",
      "metadata": {
        "id": "ZwRRxZ7dIGpx"
      },
      "source": [
        "### XGBoost"
      ]
    },
    {
      "cell_type": "code",
      "execution_count": 61,
      "id": "LyBZX4YMD4en",
      "metadata": {
        "colab": {
          "base_uri": "https://localhost:8080/",
          "height": 248
        },
        "id": "LyBZX4YMD4en",
        "outputId": "8105c274-2efa-4aae-ff1e-3fb67f3b3455"
      },
      "outputs": [
        {
          "name": "stdout",
          "output_type": "stream",
          "text": [
            "MAE Train: 963.5506179021025\n",
            "MAE Test: 1001.0647312288829\n",
            "RMSE Train: 1531.2200346239206\n",
            "RMSE Test: 1793.0604828871494\n",
            "R2 Train: 0.973663866519928\n",
            "R2 Test: 0.9639118909835815\n"
          ]
        }
      ],
      "source": [
        "from sklearn.ensemble import AdaBoostRegressor\n",
        "from xgboost import XGBRegressor\n",
        "\n",
        "# Create the base estimator\n",
        "xgb_base = XGBRegressor()\n",
        "\n",
        "# Wrap it with AdaBoost\n",
        "adaboost_model = AdaBoostRegressor(estimator=xgb_base, n_estimators=200, learning_rate=0.01)\n",
        "\n",
        "# Train the AdaBoost model\n",
        "adaboost_model.fit(xtrain, ytrain)\n",
        "\n",
        "# Evaluate the model\n",
        "from sklearn.metrics import mean_absolute_error, mean_squared_error, r2_score\n",
        "\n",
        "# Predictions\n",
        "y_train_pred = adaboost_model.predict(xtrain)\n",
        "y_test_pred = adaboost_model.predict(xtest)\n",
        "\n",
        "# Metrics\n",
        "mae_train = mean_absolute_error(ytrain, y_train_pred)\n",
        "mae_test = mean_absolute_error(ytest, y_test_pred)\n",
        "rmse_train = mean_squared_error(ytrain, y_train_pred, squared=False)\n",
        "rmse_test = mean_squared_error(ytest, y_test_pred, squared=False)\n",
        "r2_train = r2_score(ytrain, y_train_pred)\n",
        "r2_test = r2_score(ytest, y_test_pred)\n",
        "\n",
        "print(f\"MAE Train: {mae_train}\")\n",
        "print(f\"MAE Test: {mae_test}\")\n",
        "print(f\"RMSE Train: {rmse_train}\")\n",
        "print(f\"RMSE Test: {rmse_test}\")\n",
        "print(f\"R2 Train: {r2_train}\")\n",
        "print(f\"R2 Test: {r2_test}\")\n"
      ]
    },
    {
      "cell_type": "code",
      "execution_count": 62,
      "id": "1fd1e364",
      "metadata": {},
      "outputs": [
        {
          "data": {
            "image/png": "[encoded data removed]",
            "text/plain": [
              "<Figure size 800x600 with 1 Axes>"
            ]
          },
          "metadata": {},
          "output_type": "display_data"
        }
      ],
      "source": [
        "plot_learning_curves(adaboost_model, xtrain.values, ytrain.values, xtest.values, ytest.values, r2_score, \"R²\")"
      ]
    },
    {
      "cell_type": "code",
      "execution_count": 63,
      "id": "e47de540",
      "metadata": {},
      "outputs": [
        {
          "data": {
            "image/png": "[encoded data removed]",
            "text/plain": [
              "<Figure size 800x600 with 1 Axes>"
            ]
          },
          "metadata": {},
          "output_type": "display_data"
        }
      ],
      "source": [
        "plot_learning_curves(adaboost_model, xtrain.values, ytrain.values, xtest.values, ytest.values, mean_absolute_error, \"Mean Absolute Error\")"
      ]
    },
    {
      "cell_type": "markdown",
      "id": "aUdB3tmzJrco",
      "metadata": {
        "id": "aUdB3tmzJrco"
      },
      "source": [
        "The best model is the **Random Forest** model because it has the highest R2 score and the smallest MAE and RMSE among the other models."
      ]
    },
    {
      "cell_type": "markdown",
      "id": "e180d81b",
      "metadata": {},
      "source": [
        "# Learning curve for the models"
      ]
    },
    {
      "cell_type": "code",
      "execution_count": null,
      "id": "fd34a928",
      "metadata": {},
      "outputs": [],
      "source": [
        "# Save the model, scaler, and encoders\n",
        "import joblib\n",
        "\n",
        "# Save the Random Forest model\n",
        "joblib.dump(rf, 'random_forest_model.pkl')\n",
        "joblib.dump(xtrain.columns, 'feature_names.pkl')\n",
        "\n",
        "# Save the scaler\n",
        "joblib.dump(scaler, 'scaler.pkl')\n",
        "\n",
        "# Save the encoders\n",
        "joblib.dump(encoder, 'target_encoder.pkl')\n",
        "joblib.dump(ohe, 'one_hot_encoder.pkl')\n",
        "\n",
        "# Save count encoding mappings\n",
        "joblib.dump(color_counts, 'color_counts.pkl')\n",
        "joblib.dump(interior_counts, 'interior_counts.pkl')\n",
        "feature_names = joblib.load('feature_names.pkl') \n"
      ]
    },
    {
      "cell_type": "code",
      "execution_count": null,
      "id": "84253a1f",
      "metadata": {},
      "outputs": [],
      "source": [
        "import requests\n",
        "\n",
        "# Test the endpoint with all required features\n",
        "url = \"http://127.0.0.1:8000/predict\"\n",
        "sample_input = {\n",
        "    \"year\": 2014,\n",
        "    \"condition\": 3,\n",
        "    \"odometer\": 45000,\n",
        "    \"model\": \"corolla\",\n",
        "    \"trim\": \"le\",\n",
        "    \"body\": \"sedan\",\n",
        "    \"state\": \"ca\",\n",
        "    \"color\": \"white\",\n",
        "    \"interior\": \"gray\",\n",
        "    \"make\": \"toyota\"\n",
        "}\n",
        "\n",
        "\n",
        "response = requests.post(url, json=sample_input)\n",
        "\n",
        "print(response.json())\n"
      ]
    },
    {
      "cell_type": "code",
      "execution_count": null,
      "id": "605e07b9",
      "metadata": {},
      "outputs": [
        {
          "name": "stdout",
          "output_type": "stream",
          "text": [
            "{'detail': 'Not Found'}\n"
          ]
        }
      ],
      "source": [
        "import requests\n",
        "\n",
        "url = \"http://127.0.0.1:8000/predict\"\n",
        "sample_input = {\n",
        "    \"year\": 2015,\n",
        "    \"make\": \"kia\",\n",
        "    \"model\": \"Sorento\",\n",
        "    \"trim\": \"LX\",\n",
        "    \"body\": \"suv\",\n",
        "    \"state\": \"CA\",\n",
        "    \"condition\": 5,\n",
        "    \"odometer\": 16639,\n",
        "    \"color\": \"white\",\n",
        "    \"interior\": \"black\"\n",
        "}\n",
        "\n",
        "response = requests.post(url, json=sample_input)\n",
        "print(response.json())\n"
      ]
    },
    {
      "cell_type": "code",
      "execution_count": null,
      "id": "4d584920",
      "metadata": {},
      "outputs": [
        {
          "name": "stdout",
          "output_type": "stream",
          "text": [
            "Prediction: 4193.00\n",
            "Standard Deviation (Uncertainty): 549.24\n",
            "95% Prediction Interval: [3116.49, 5269.51]\n"
          ]
        }
      ],
      "source": [
        "import numpy as np\n",
        "\n",
        "data_point = xtest.iloc[3]  \n",
        "\n",
        "# Get predictions from all trees in the forest for the selected data point\n",
        "tree_predictions = np.array([tree.predict(data_point.values.reshape(1, -1))[0] for tree in rf.estimators_])\n",
        "\n",
        "# Calculate the mean and standard deviation of the predictions\n",
        "mean_prediction = np.mean(tree_predictions)\n",
        "std_prediction = np.std(tree_predictions)\n",
        "\n",
        "print(f\"Prediction: {mean_prediction:.2f}\")\n",
        "print(f\"Standard Deviation (Uncertainty): {std_prediction:.2f}\")\n",
        "\n",
        "# 95% Prediction Interval\n",
        "lower_bound = mean_prediction - 1.96 * std_prediction\n",
        "upper_bound = mean_prediction + 1.96 * std_prediction\n",
        "print(f\"95% Prediction Interval: [{lower_bound:.2f}, {upper_bound:.2f}]\")\n"
      ]
    }
  ],
  "metadata": {
    "colab": {
      "provenance": []
    },
    "kernelspec": {
      "display_name": "Python 3 (ipykernel)",
      "language": "python",
      "name": "python3"
    },
    "language_info": {
      "codemirror_mode": {
        "name": "ipython",
        "version": 3
      },
      "file_extension": ".py",
      "mimetype": "text/x-python",
      "name": "python",
      "nbconvert_exporter": "python",
      "pygments_lexer": "ipython3",
      "version": "3.12.8"
    },
    "toc-autonumbering": true
  },
  "nbformat": 4,
  "nbformat_minor": 5
}
