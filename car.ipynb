{
 "cells": [
  {
   "cell_type": "markdown",
   "metadata": {},
   "source": [
    "# **Auction Car Price Prediction** 🚗🚘"
   ]
  },
  {
   "cell_type": "code",
   "execution_count": 60,
   "metadata": {},
   "outputs": [
    {
     "name": "stdout",
     "output_type": "stream",
     "text": [
      "All libraries imported successfully!\n"
     ]
    }
   ],
   "source": [
    "import pandas as pd\n",
    "import numpy as np\n",
    "import matplotlib.pyplot as plt\n",
    "import seaborn as sns\n",
    "import warnings\n",
    "import plotly.express as px\n",
    "import plotly.graph_objects as go\n",
    "import plotly.offline as pyo\n",
    "import plotly.io as pio\n",
    "warnings.filterwarnings('ignore')\n",
    "%matplotlib inline\n",
    "print(\"All libraries imported successfully!\")\n"
   ]
  },
  {
   "cell_type": "markdown",
   "metadata": {},
   "source": [
    "# Data Loading and Data Exploration"
   ]
  },
  {
   "cell_type": "markdown",
   "metadata": {},
   "source": [
    "---------"
   ]
  },
  {
   "cell_type": "markdown",
   "metadata": {},
   "source": [
    "## Load Data"
   ]
  },
  {
   "cell_type": "code",
   "execution_count": 61,
   "metadata": {},
   "outputs": [
    {
     "data": {
      "text/html": [
       "<div>\n",
       "<style scoped>\n",
       "    .dataframe tbody tr th:only-of-type {\n",
       "        vertical-align: middle;\n",
       "    }\n",
       "\n",
       "    .dataframe tbody tr th {\n",
       "        vertical-align: top;\n",
       "    }\n",
       "\n",
       "    .dataframe thead th {\n",
       "        text-align: right;\n",
       "    }\n",
       "</style>\n",
       "<table border=\"1\" class=\"dataframe\">\n",
       "  <thead>\n",
       "    <tr style=\"text-align: right;\">\n",
       "      <th></th>\n",
       "      <th>year</th>\n",
       "      <th>make</th>\n",
       "      <th>model</th>\n",
       "      <th>trim</th>\n",
       "      <th>body</th>\n",
       "      <th>transmission</th>\n",
       "      <th>vin</th>\n",
       "      <th>state</th>\n",
       "      <th>condition</th>\n",
       "      <th>odometer</th>\n",
       "      <th>color</th>\n",
       "      <th>interior</th>\n",
       "      <th>seller</th>\n",
       "      <th>mmr</th>\n",
       "      <th>sellingprice</th>\n",
       "      <th>saledate</th>\n",
       "    </tr>\n",
       "  </thead>\n",
       "  <tbody>\n",
       "    <tr>\n",
       "      <th>0</th>\n",
       "      <td>2015</td>\n",
       "      <td>Kia</td>\n",
       "      <td>Sorento</td>\n",
       "      <td>LX</td>\n",
       "      <td>SUV</td>\n",
       "      <td>automatic</td>\n",
       "      <td>5xyktca69fg566472</td>\n",
       "      <td>ca</td>\n",
       "      <td>5.000</td>\n",
       "      <td>16639.000</td>\n",
       "      <td>white</td>\n",
       "      <td>black</td>\n",
       "      <td>kia motors america, inc</td>\n",
       "      <td>20500</td>\n",
       "      <td>21500</td>\n",
       "      <td>Tue Dec 16 2014 12:30:00 GMT-0800 (PST)</td>\n",
       "    </tr>\n",
       "    <tr>\n",
       "      <th>1</th>\n",
       "      <td>2015</td>\n",
       "      <td>Kia</td>\n",
       "      <td>Sorento</td>\n",
       "      <td>LX</td>\n",
       "      <td>SUV</td>\n",
       "      <td>automatic</td>\n",
       "      <td>5xyktca69fg561319</td>\n",
       "      <td>ca</td>\n",
       "      <td>5.000</td>\n",
       "      <td>9393.000</td>\n",
       "      <td>white</td>\n",
       "      <td>beige</td>\n",
       "      <td>kia motors america, inc</td>\n",
       "      <td>20800</td>\n",
       "      <td>21500</td>\n",
       "      <td>Tue Dec 16 2014 12:30:00 GMT-0800 (PST)</td>\n",
       "    </tr>\n",
       "    <tr>\n",
       "      <th>2</th>\n",
       "      <td>2014</td>\n",
       "      <td>BMW</td>\n",
       "      <td>3 Series</td>\n",
       "      <td>328i SULEV</td>\n",
       "      <td>Sedan</td>\n",
       "      <td>automatic</td>\n",
       "      <td>wba3c1c51ek116351</td>\n",
       "      <td>ca</td>\n",
       "      <td>4.500</td>\n",
       "      <td>1331.000</td>\n",
       "      <td>gray</td>\n",
       "      <td>black</td>\n",
       "      <td>financial services remarketing (lease)</td>\n",
       "      <td>31900</td>\n",
       "      <td>30000</td>\n",
       "      <td>Thu Jan 15 2015 04:30:00 GMT-0800 (PST)</td>\n",
       "    </tr>\n",
       "    <tr>\n",
       "      <th>3</th>\n",
       "      <td>2015</td>\n",
       "      <td>Volvo</td>\n",
       "      <td>S60</td>\n",
       "      <td>T5</td>\n",
       "      <td>Sedan</td>\n",
       "      <td>automatic</td>\n",
       "      <td>yv1612tb4f1310987</td>\n",
       "      <td>ca</td>\n",
       "      <td>4.100</td>\n",
       "      <td>14282.000</td>\n",
       "      <td>white</td>\n",
       "      <td>black</td>\n",
       "      <td>volvo na rep/world omni</td>\n",
       "      <td>27500</td>\n",
       "      <td>27750</td>\n",
       "      <td>Thu Jan 29 2015 04:30:00 GMT-0800 (PST)</td>\n",
       "    </tr>\n",
       "    <tr>\n",
       "      <th>4</th>\n",
       "      <td>2014</td>\n",
       "      <td>BMW</td>\n",
       "      <td>6 Series Gran Coupe</td>\n",
       "      <td>650i</td>\n",
       "      <td>Sedan</td>\n",
       "      <td>automatic</td>\n",
       "      <td>wba6b2c57ed129731</td>\n",
       "      <td>ca</td>\n",
       "      <td>4.300</td>\n",
       "      <td>2641.000</td>\n",
       "      <td>gray</td>\n",
       "      <td>black</td>\n",
       "      <td>financial services remarketing (lease)</td>\n",
       "      <td>66000</td>\n",
       "      <td>67000</td>\n",
       "      <td>Thu Dec 18 2014 12:30:00 GMT-0800 (PST)</td>\n",
       "    </tr>\n",
       "  </tbody>\n",
       "</table>\n",
       "</div>"
      ],
      "text/plain": [
       "   year   make                model        trim   body transmission  \\\n",
       "0  2015    Kia              Sorento          LX    SUV    automatic   \n",
       "1  2015    Kia              Sorento          LX    SUV    automatic   \n",
       "2  2014    BMW             3 Series  328i SULEV  Sedan    automatic   \n",
       "3  2015  Volvo                  S60          T5  Sedan    automatic   \n",
       "4  2014    BMW  6 Series Gran Coupe        650i  Sedan    automatic   \n",
       "\n",
       "                 vin state  condition  odometer  color interior  \\\n",
       "0  5xyktca69fg566472    ca      5.000 16639.000  white    black   \n",
       "1  5xyktca69fg561319    ca      5.000  9393.000  white    beige   \n",
       "2  wba3c1c51ek116351    ca      4.500  1331.000   gray    black   \n",
       "3  yv1612tb4f1310987    ca      4.100 14282.000  white    black   \n",
       "4  wba6b2c57ed129731    ca      4.300  2641.000   gray    black   \n",
       "\n",
       "                                   seller    mmr  sellingprice  \\\n",
       "0                 kia motors america, inc  20500         21500   \n",
       "1                 kia motors america, inc  20800         21500   \n",
       "2  financial services remarketing (lease)  31900         30000   \n",
       "3                 volvo na rep/world omni  27500         27750   \n",
       "4  financial services remarketing (lease)  66000         67000   \n",
       "\n",
       "                                  saledate  \n",
       "0  Tue Dec 16 2014 12:30:00 GMT-0800 (PST)  \n",
       "1  Tue Dec 16 2014 12:30:00 GMT-0800 (PST)  \n",
       "2  Thu Jan 15 2015 04:30:00 GMT-0800 (PST)  \n",
       "3  Thu Jan 29 2015 04:30:00 GMT-0800 (PST)  \n",
       "4  Thu Dec 18 2014 12:30:00 GMT-0800 (PST)  "
      ]
     },
     "execution_count": 61,
     "metadata": {},
     "output_type": "execute_result"
    }
   ],
   "source": [
    "dfcar = pd.read_csv('car_prices.csv', on_bad_lines=\"skip\")\n",
    "dfcar.head(5)"
   ]
  },
  {
   "cell_type": "markdown",
   "metadata": {},
   "source": [
    "**Data Dictionary**  \n",
    "1. Date : The year of production of the cars.  \n",
    "2. Make : The brand of the car.  \n",
    "3. Model : The edition of the car of a specific brand.  \n",
    "4. Trim : The trim levels for a car are just different versions of the model.  \n",
    "5. Body : The body style of a vehicle refers to the shape and model of a particular car make.  \n",
    "6. Transmission : The mechanism that moves the power from the engine to the wheels.  \n",
    "7. VIN : Vehichel identification number.  \n",
    "8. State : The state in which the car is auctioned.  \n",
    "9. Condition : The condition of the cars being at the time of auction.  \n",
    "10. Odometer : The distance the car has travelled since manufactured.  \n",
    "11. Color : Exterior color of the car.  \n",
    "12. Interior : Interior color of the car.  \n",
    "13. Seller : The seller of the car, car dealers.  \n",
    "14. **mmr : Manhiem Market Report, the market estimated price of the cars. (Target)**\n",
    "15. sellingprice : The price a car was sold at auctions.  \n",
    "16. saledate : The date on which the car has been sold.  "
   ]
  },
  {
   "cell_type": "markdown",
   "metadata": {},
   "source": [
    "## Data Exploration"
   ]
  },
  {
   "cell_type": "code",
   "execution_count": 62,
   "metadata": {},
   "outputs": [
    {
     "name": "stdout",
     "output_type": "stream",
     "text": [
      "<class 'pandas.core.frame.DataFrame'>\n",
      "RangeIndex: 558811 entries, 0 to 558810\n",
      "Data columns (total 16 columns):\n",
      " #   Column        Non-Null Count   Dtype  \n",
      "---  ------        --------------   -----  \n",
      " 0   year          558811 non-null  int64  \n",
      " 1   make          548510 non-null  object \n",
      " 2   model         548412 non-null  object \n",
      " 3   trim          548160 non-null  object \n",
      " 4   body          545616 non-null  object \n",
      " 5   transmission  493458 non-null  object \n",
      " 6   vin           558811 non-null  object \n",
      " 7   state         558811 non-null  object \n",
      " 8   condition     547017 non-null  float64\n",
      " 9   odometer      558717 non-null  float64\n",
      " 10  color         558062 non-null  object \n",
      " 11  interior      558062 non-null  object \n",
      " 12  seller        558811 non-null  object \n",
      " 13  mmr           558811 non-null  int64  \n",
      " 14  sellingprice  558811 non-null  int64  \n",
      " 15  saledate      558811 non-null  object \n",
      "dtypes: float64(2), int64(3), object(11)\n",
      "memory usage: 68.2+ MB\n"
     ]
    }
   ],
   "source": [
    "dfcar.info()"
   ]
  },
  {
   "cell_type": "code",
   "execution_count": 63,
   "metadata": {},
   "outputs": [
    {
     "data": {
      "text/plain": [
       "year                0\n",
       "make            10301\n",
       "model           10399\n",
       "trim            10651\n",
       "body            13195\n",
       "transmission    65353\n",
       "vin                 0\n",
       "state               0\n",
       "condition       11794\n",
       "odometer           94\n",
       "color             749\n",
       "interior          749\n",
       "seller              0\n",
       "mmr                 0\n",
       "sellingprice        0\n",
       "saledate            0\n",
       "dtype: int64"
      ]
     },
     "execution_count": 63,
     "metadata": {},
     "output_type": "execute_result"
    }
   ],
   "source": [
    "\n",
    "dfcar.isnull().sum()"
   ]
  },
  {
   "cell_type": "markdown",
   "metadata": {},
   "source": [
    "1. In total, there are 558,811 entries.\n",
    "2. The data types are int, float and object, and appear to be in accordance with the columns\n",
    "3. the data has a few amount of null values comparing to the whole entries 2.4%nulls might consider droping them"
   ]
  },
  {
   "cell_type": "code",
   "execution_count": 64,
   "metadata": {},
   "outputs": [
    {
     "data": {
      "text/html": [
       "<div>\n",
       "<style scoped>\n",
       "    .dataframe tbody tr th:only-of-type {\n",
       "        vertical-align: middle;\n",
       "    }\n",
       "\n",
       "    .dataframe tbody tr th {\n",
       "        vertical-align: top;\n",
       "    }\n",
       "\n",
       "    .dataframe thead th {\n",
       "        text-align: right;\n",
       "    }\n",
       "</style>\n",
       "<table border=\"1\" class=\"dataframe\">\n",
       "  <thead>\n",
       "    <tr style=\"text-align: right;\">\n",
       "      <th></th>\n",
       "      <th>year</th>\n",
       "      <th>condition</th>\n",
       "      <th>odometer</th>\n",
       "      <th>mmr</th>\n",
       "      <th>sellingprice</th>\n",
       "    </tr>\n",
       "  </thead>\n",
       "  <tbody>\n",
       "    <tr>\n",
       "      <th>count</th>\n",
       "      <td>558811.000</td>\n",
       "      <td>547017.000</td>\n",
       "      <td>558717.000</td>\n",
       "      <td>558811.000</td>\n",
       "      <td>558811.000</td>\n",
       "    </tr>\n",
       "    <tr>\n",
       "      <th>mean</th>\n",
       "      <td>2010.039</td>\n",
       "      <td>3.425</td>\n",
       "      <td>68323.196</td>\n",
       "      <td>13769.325</td>\n",
       "      <td>13611.262</td>\n",
       "    </tr>\n",
       "    <tr>\n",
       "      <th>std</th>\n",
       "      <td>3.967</td>\n",
       "      <td>0.949</td>\n",
       "      <td>53397.753</td>\n",
       "      <td>9679.875</td>\n",
       "      <td>9749.657</td>\n",
       "    </tr>\n",
       "    <tr>\n",
       "      <th>min</th>\n",
       "      <td>1982.000</td>\n",
       "      <td>1.000</td>\n",
       "      <td>1.000</td>\n",
       "      <td>25.000</td>\n",
       "      <td>1.000</td>\n",
       "    </tr>\n",
       "    <tr>\n",
       "      <th>25%</th>\n",
       "      <td>2007.000</td>\n",
       "      <td>2.700</td>\n",
       "      <td>28374.000</td>\n",
       "      <td>7100.000</td>\n",
       "      <td>6900.000</td>\n",
       "    </tr>\n",
       "    <tr>\n",
       "      <th>50%</th>\n",
       "      <td>2012.000</td>\n",
       "      <td>3.600</td>\n",
       "      <td>52256.000</td>\n",
       "      <td>12250.000</td>\n",
       "      <td>12100.000</td>\n",
       "    </tr>\n",
       "    <tr>\n",
       "      <th>75%</th>\n",
       "      <td>2013.000</td>\n",
       "      <td>4.200</td>\n",
       "      <td>99112.000</td>\n",
       "      <td>18300.000</td>\n",
       "      <td>18200.000</td>\n",
       "    </tr>\n",
       "    <tr>\n",
       "      <th>max</th>\n",
       "      <td>2015.000</td>\n",
       "      <td>5.000</td>\n",
       "      <td>999999.000</td>\n",
       "      <td>182000.000</td>\n",
       "      <td>230000.000</td>\n",
       "    </tr>\n",
       "  </tbody>\n",
       "</table>\n",
       "</div>"
      ],
      "text/plain": [
       "            year  condition   odometer        mmr  sellingprice\n",
       "count 558811.000 547017.000 558717.000 558811.000    558811.000\n",
       "mean    2010.039      3.425  68323.196  13769.325     13611.262\n",
       "std        3.967      0.949  53397.753   9679.875      9749.657\n",
       "min     1982.000      1.000      1.000     25.000         1.000\n",
       "25%     2007.000      2.700  28374.000   7100.000      6900.000\n",
       "50%     2012.000      3.600  52256.000  12250.000     12100.000\n",
       "75%     2013.000      4.200  99112.000  18300.000     18200.000\n",
       "max     2015.000      5.000 999999.000 182000.000    230000.000"
      ]
     },
     "execution_count": 64,
     "metadata": {},
     "output_type": "execute_result"
    }
   ],
   "source": [
    "# Categorize the features\n",
    "num = ['year', 'condition', 'odometer', 'mmr', 'sellingprice']\n",
    "cat = ['make', 'model', 'trim', 'body', 'transmission', 'vin', 'state', 'color', 'interior', 'seller', 'saledate']\n",
    "\n",
    "# Set display float format\n",
    "pd.set_option('display.float_format', lambda x: '%.3f' % x)\n",
    "\n",
    "dfcar[num].describe()"
   ]
  },
  {
   "cell_type": "markdown",
   "metadata": {},
   "source": [
    "1. condition has a categorical value between 1-5.\n",
    "2. The value of the odometer appears to have a large gap between min and max and a gap between mean and median\n",
    "3. Overall, the mmr and sellingprice values are not very different. However, the min-max and mean-median values are very different."
   ]
  },
  {
   "cell_type": "code",
   "execution_count": 65,
   "metadata": {},
   "outputs": [
    {
     "data": {
      "text/html": [
       "<div>\n",
       "<style scoped>\n",
       "    .dataframe tbody tr th:only-of-type {\n",
       "        vertical-align: middle;\n",
       "    }\n",
       "\n",
       "    .dataframe tbody tr th {\n",
       "        vertical-align: top;\n",
       "    }\n",
       "\n",
       "    .dataframe thead th {\n",
       "        text-align: right;\n",
       "    }\n",
       "</style>\n",
       "<table border=\"1\" class=\"dataframe\">\n",
       "  <thead>\n",
       "    <tr style=\"text-align: right;\">\n",
       "      <th></th>\n",
       "      <th>make</th>\n",
       "      <th>model</th>\n",
       "      <th>trim</th>\n",
       "      <th>body</th>\n",
       "      <th>transmission</th>\n",
       "      <th>vin</th>\n",
       "      <th>state</th>\n",
       "      <th>color</th>\n",
       "      <th>interior</th>\n",
       "      <th>seller</th>\n",
       "      <th>saledate</th>\n",
       "    </tr>\n",
       "  </thead>\n",
       "  <tbody>\n",
       "    <tr>\n",
       "      <th>count</th>\n",
       "      <td>548510</td>\n",
       "      <td>548412</td>\n",
       "      <td>548160</td>\n",
       "      <td>545616</td>\n",
       "      <td>493458</td>\n",
       "      <td>558811</td>\n",
       "      <td>558811</td>\n",
       "      <td>558062</td>\n",
       "      <td>558062</td>\n",
       "      <td>558811</td>\n",
       "      <td>558811</td>\n",
       "    </tr>\n",
       "    <tr>\n",
       "      <th>unique</th>\n",
       "      <td>96</td>\n",
       "      <td>973</td>\n",
       "      <td>1975</td>\n",
       "      <td>86</td>\n",
       "      <td>2</td>\n",
       "      <td>550296</td>\n",
       "      <td>38</td>\n",
       "      <td>20</td>\n",
       "      <td>17</td>\n",
       "      <td>14264</td>\n",
       "      <td>3745</td>\n",
       "    </tr>\n",
       "    <tr>\n",
       "      <th>top</th>\n",
       "      <td>Ford</td>\n",
       "      <td>Altima</td>\n",
       "      <td>Base</td>\n",
       "      <td>Sedan</td>\n",
       "      <td>automatic</td>\n",
       "      <td>wbanv13588cz57827</td>\n",
       "      <td>fl</td>\n",
       "      <td>black</td>\n",
       "      <td>black</td>\n",
       "      <td>nissan-infiniti lt</td>\n",
       "      <td>Tue Feb 10 2015 01:30:00 GMT-0800 (PST)</td>\n",
       "    </tr>\n",
       "    <tr>\n",
       "      <th>freq</th>\n",
       "      <td>93554</td>\n",
       "      <td>19349</td>\n",
       "      <td>55817</td>\n",
       "      <td>199437</td>\n",
       "      <td>475914</td>\n",
       "      <td>5</td>\n",
       "      <td>82945</td>\n",
       "      <td>110970</td>\n",
       "      <td>244325</td>\n",
       "      <td>19693</td>\n",
       "      <td>5334</td>\n",
       "    </tr>\n",
       "  </tbody>\n",
       "</table>\n",
       "</div>"
      ],
      "text/plain": [
       "          make   model    trim    body transmission                vin  \\\n",
       "count   548510  548412  548160  545616       493458             558811   \n",
       "unique      96     973    1975      86            2             550296   \n",
       "top       Ford  Altima    Base   Sedan    automatic  wbanv13588cz57827   \n",
       "freq     93554   19349   55817  199437       475914                  5   \n",
       "\n",
       "         state   color interior              seller  \\\n",
       "count   558811  558062   558062              558811   \n",
       "unique      38      20       17               14264   \n",
       "top         fl   black    black  nissan-infiniti lt   \n",
       "freq     82945  110970   244325               19693   \n",
       "\n",
       "                                       saledate  \n",
       "count                                    558811  \n",
       "unique                                     3745  \n",
       "top     Tue Feb 10 2015 01:30:00 GMT-0800 (PST)  \n",
       "freq                                       5334  "
      ]
     },
     "execution_count": 65,
     "metadata": {},
     "output_type": "execute_result"
    }
   ],
   "source": [
    "dfcar[cat].describe()"
   ]
  },
  {
   "cell_type": "markdown",
   "metadata": {},
   "source": [
    "1. From the data above, we can see at a glance what values are the top ones, appear frequently, and how many unique values each feature has.\n",
    "2. For example, Ford is the most popular brand among a total of 96 other brands. Apart from that, the sedan body is also one of the most favorite.\n",
    "3. Automatic transmission is more sought after by customers than manual by more than 90%.\n",
    "4. Black dominates both the exterior and interior colors."
   ]
  },
  {
   "cell_type": "markdown",
   "metadata": {},
   "source": [
    "----------"
   ]
  },
  {
   "cell_type": "markdown",
   "metadata": {},
   "source": [
    "# EDA (Exploratory Data Analysis)"
   ]
  },
  {
   "cell_type": "markdown",
   "metadata": {},
   "source": [
    "-------"
   ]
  },
  {
   "cell_type": "markdown",
   "metadata": {},
   "source": [
    "## UNIVARIATE ANALYSIS"
   ]
  },
  {
   "cell_type": "markdown",
   "metadata": {},
   "source": [
    "### Unique Value From Some Features"
   ]
  },
  {
   "cell_type": "code",
   "execution_count": 66,
   "metadata": {},
   "outputs": [
    {
     "data": {
      "text/plain": [
       "array([2015, 2014, 2013, 2012, 2011, 2010, 2009, 2008, 2007, 2006, 2005,\n",
       "       2004, 2003, 2002, 2001, 2000, 1999, 1998, 1995, 1996, 1997, 1987,\n",
       "       1994, 1993, 1992, 1989, 1991, 1990, 1986, 1985, 1988, 1984, 1982,\n",
       "       1983], dtype=int64)"
      ]
     },
     "execution_count": 66,
     "metadata": {},
     "output_type": "execute_result"
    }
   ],
   "source": [
    "# Check unique value 'year'\n",
    "dfcar['year'].unique()"
   ]
  },
  {
   "cell_type": "markdown",
   "metadata": {},
   "source": [
    "All values are appropriate in the form of numbers starting from 1982 to 2015."
   ]
  },
  {
   "cell_type": "code",
   "execution_count": 67,
   "metadata": {},
   "outputs": [
    {
     "data": {
      "text/plain": [
       "array(['Kia', 'BMW', 'Volvo', 'Nissan', 'Chevrolet', 'Audi', 'Ford',\n",
       "       'Hyundai', 'Buick', 'Cadillac', 'Acura', 'Lexus', 'Infiniti',\n",
       "       'Jeep', 'Mercedes-Benz', 'Mitsubishi', 'Mazda', 'MINI',\n",
       "       'Land Rover', 'Lincoln', 'lincoln', 'Jaguar', 'Volkswagen',\n",
       "       'Toyota', 'Subaru', 'Scion', 'Porsche', nan, 'bmw', 'Dodge',\n",
       "       'FIAT', 'Chrysler', 'ford', 'Ferrari', 'Honda', 'GMC',\n",
       "       'mitsubishi', 'Ram', 'smart', 'chevrolet', 'Bentley', 'chrysler',\n",
       "       'pontiac', 'Pontiac', 'Saturn', 'Maserati', 'Mercury', 'HUMMER',\n",
       "       'landrover', 'cadillac', 'land rover', 'mercedes', 'mazda',\n",
       "       'toyota', 'lexus', 'gmc truck', 'honda', 'nissan', 'porsche',\n",
       "       'Saab', 'Suzuki', 'dodge', 'subaru', 'Oldsmobile', 'oldsmobile',\n",
       "       'hyundai', 'jeep', 'Isuzu', 'dodge tk', 'Geo', 'acura',\n",
       "       'volkswagen', 'suzuki', 'kia', 'audi', 'Rolls-Royce', 'gmc',\n",
       "       'maserati', 'mazda tk', 'mercury', 'buick', 'hyundai tk',\n",
       "       'mercedes-b', 'vw', 'Daewoo', 'chev truck', 'ford tk', 'plymouth',\n",
       "       'Plymouth', 'ford truck', 'Tesla', 'airstream', 'dot',\n",
       "       'Aston Martin', 'Fisker', 'Lamborghini', 'Lotus'], dtype=object)"
      ]
     },
     "execution_count": 67,
     "metadata": {},
     "output_type": "execute_result"
    }
   ],
   "source": [
    "# Check unique value 'make'\n",
    "dfcar['make'].unique()"
   ]
  },
  {
   "cell_type": "markdown",
   "metadata": {},
   "source": [
    "there are words with capital letters, all upper case, and all lower case. Therefore, we will change the values to all lowercase in the next stage. The same thing might also happen to other object type features."
   ]
  },
  {
   "cell_type": "code",
   "execution_count": 68,
   "metadata": {},
   "outputs": [
    {
     "data": {
      "text/plain": [
       "array(['LX', '328i SULEV', 'T5', ..., 'pure', 'EWB', 'Power Wagon'],\n",
       "      dtype=object)"
      ]
     },
     "execution_count": 68,
     "metadata": {},
     "output_type": "execute_result"
    }
   ],
   "source": [
    "# Check unique value 'trim'\n",
    "dfcar['trim'].unique()"
   ]
  },
  {
   "cell_type": "markdown",
   "metadata": {},
   "source": [
    "### Outliers (year, condition, odometer, MMR, sellingprice)"
   ]
  },
  {
   "cell_type": "code",
   "execution_count": 69,
   "metadata": {},
   "outputs": [
    {
     "data": {
      "image/png": "[encoded data removed]",
      "text/plain": [
       "<Figure size 600x300 with 5 Axes>"
      ]
     },
     "metadata": {},
     "output_type": "display_data"
    }
   ],
   "source": [
    "# Outliers\n",
    "\n",
    "plt.figure(figsize=(6, 3))\n",
    "for i in range(0, len(num)):\n",
    "    plt.subplot(1, len(num), i+1)\n",
    "    sns.boxplot(dfcar[num[i]], color='red', orient='v')\n",
    "    plt.title(num[i])\n",
    "    plt.tight_layout()"
   ]
  },
  {
   "cell_type": "markdown",
   "metadata": {},
   "source": [
    "It can be seen that `mmr` and `sellingprice` have the most outliers, as do the `odometer` and `year` columns. The quartiles and median also seem far away. This can happen because there is a lot of car data (500k++) so the MMR, selling price and odometer values also vary greatly. The column that looks the most normal is the `condition` column."
   ]
  },
  {
   "cell_type": "markdown",
   "metadata": {},
   "source": [
    "### Data Distribution (year, condition, odometer, MMR, sellingprice)"
   ]
  },
  {
   "cell_type": "code",
   "execution_count": 70,
   "metadata": {},
   "outputs": [
    {
     "data": {
      "image/png": "[encoded data removed]",
      "text/plain": [
       "<Figure size 2100x700 with 6 Axes>"
      ]
     },
     "metadata": {},
     "output_type": "display_data"
    }
   ],
   "source": [
    "def generate_distribution_plot(train_df, continuous_features):\n",
    "    # create copy of dataframe\n",
    "    data = train_df[continuous_features].copy()\n",
    "    # Create subplots\n",
    "    fig, axes = plt.subplots(nrows=len(data.columns)//2, ncols=3,figsize=(21,7))\n",
    "    fig.subplots_adjust(hspace=0.7)\n",
    "\n",
    "    # set fontdict\n",
    "    font = {'family': 'serif',\n",
    "        'color':  'darkred',\n",
    "        'weight': 'normal',\n",
    "        'size': 16,\n",
    "        }\n",
    "\n",
    "    # Generate distplot\n",
    "    for ax, feature in zip(axes.flatten(), data.columns):\n",
    "        feature_mean = data[feature].mean()\n",
    "        feature_median = data[feature].median()\n",
    "        feature_mode = data[feature].mode().values[0]\n",
    "        sns.distplot(data[feature],ax=ax)\n",
    "        ax.set_title(f'Analysis of {feature}', fontdict=font)\n",
    "        ax.axvline(feature_mean, color='r', linestyle='--', label=\"Mean\")\n",
    "        ax.axvline(feature_median, color='g', linestyle='--', label=\"Median\")\n",
    "        ax.axvline(feature_mode, color='b', linestyle='--', label=\"Mode\")\n",
    "        ax.legend()\n",
    "    plt.show()\n",
    "\n",
    "generate_distribution_plot(dfcar, num)"
   ]
  },
  {
   "cell_type": "markdown",
   "metadata": {},
   "source": [
    "From the graph above we can conclude:\n",
    "1. From the `year` column we can see that sales tend to increase every year and peak sales were between 2010 and 2015. We can also see that the `year` column is left-skewed.\n",
    "2. In the `condition` column, the condition of the car that is in the range of number 2 is the majority of the other conditions. This shows that the condition of the used car isn't good. However, there are quite a few cars in the condition that are rated 3 or above to 4.\n",
    "3. For the 'odometer', it can be seen that the majority are in the numbers 0 to 0.2, which means the odometer ranges from 0 to 200k. Meanwhile, using cars over 200k is relatively rare.\n",
    "4. The `mmr` and `sellingprice` columns look similar.\n",
    "5. The `odometer`, `mmr`, and `sellingprice` columns are right-skewed."
   ]
  },
  {
   "cell_type": "markdown",
   "metadata": {},
   "source": [
    "### Checking Abnormal Values"
   ]
  },
  {
   "cell_type": "markdown",
   "metadata": {},
   "source": [
    "Like the previous analysis where we found min and max values that seemed unreasonable, we will further check the data containing these values.\n",
    "\n",
    "The columns are `odometer`, `mmr`, and `sellingprice`."
   ]
  },
  {
   "cell_type": "markdown",
   "metadata": {},
   "source": [
    "**1. Min and Max From Odometer**"
   ]
  },
  {
   "cell_type": "code",
   "execution_count": 71,
   "metadata": {},
   "outputs": [
    {
     "data": {
      "text/html": [
       "<div>\n",
       "<style scoped>\n",
       "    .dataframe tbody tr th:only-of-type {\n",
       "        vertical-align: middle;\n",
       "    }\n",
       "\n",
       "    .dataframe tbody tr th {\n",
       "        vertical-align: top;\n",
       "    }\n",
       "\n",
       "    .dataframe thead th {\n",
       "        text-align: right;\n",
       "    }\n",
       "</style>\n",
       "<table border=\"1\" class=\"dataframe\">\n",
       "  <thead>\n",
       "    <tr style=\"text-align: right;\">\n",
       "      <th></th>\n",
       "      <th>year</th>\n",
       "      <th>make</th>\n",
       "      <th>model</th>\n",
       "      <th>trim</th>\n",
       "      <th>body</th>\n",
       "      <th>transmission</th>\n",
       "      <th>vin</th>\n",
       "      <th>state</th>\n",
       "      <th>condition</th>\n",
       "      <th>odometer</th>\n",
       "      <th>color</th>\n",
       "      <th>interior</th>\n",
       "      <th>seller</th>\n",
       "      <th>mmr</th>\n",
       "      <th>sellingprice</th>\n",
       "      <th>saledate</th>\n",
       "    </tr>\n",
       "  </thead>\n",
       "  <tbody>\n",
       "    <tr>\n",
       "      <th>131494</th>\n",
       "      <td>1995</td>\n",
       "      <td>Lexus</td>\n",
       "      <td>ES 300</td>\n",
       "      <td>Base</td>\n",
       "      <td>Sedan</td>\n",
       "      <td>automatic</td>\n",
       "      <td>jt8gk13t3s0083977</td>\n",
       "      <td>md</td>\n",
       "      <td>2.000</td>\n",
       "      <td>1.000</td>\n",
       "      <td>gold</td>\n",
       "      <td>tan</td>\n",
       "      <td>purple heart services inc</td>\n",
       "      <td>2000</td>\n",
       "      <td>300</td>\n",
       "      <td>Tue Jan 27 2015 04:00:00 GMT-0800 (PST)</td>\n",
       "    </tr>\n",
       "    <tr>\n",
       "      <th>46490</th>\n",
       "      <td>2007</td>\n",
       "      <td>Toyota</td>\n",
       "      <td>RAV4</td>\n",
       "      <td>Base</td>\n",
       "      <td>SUV</td>\n",
       "      <td>automatic</td>\n",
       "      <td>jtmzd33v975061199</td>\n",
       "      <td>tx</td>\n",
       "      <td>2.000</td>\n",
       "      <td>1.000</td>\n",
       "      <td>silver</td>\n",
       "      <td>gray</td>\n",
       "      <td>startech</td>\n",
       "      <td>6725</td>\n",
       "      <td>1200</td>\n",
       "      <td>Tue May 26 2015 02:15:00 GMT-0700 (PDT)</td>\n",
       "    </tr>\n",
       "    <tr>\n",
       "      <th>493550</th>\n",
       "      <td>2004</td>\n",
       "      <td>Nissan</td>\n",
       "      <td>Quest</td>\n",
       "      <td>3.5 S</td>\n",
       "      <td>minivan</td>\n",
       "      <td>automatic</td>\n",
       "      <td>5n1bv28u54n366764</td>\n",
       "      <td>sc</td>\n",
       "      <td>1.900</td>\n",
       "      <td>1.000</td>\n",
       "      <td>green</td>\n",
       "      <td>gray</td>\n",
       "      <td>hendrick toyota scion north charleston</td>\n",
       "      <td>3750</td>\n",
       "      <td>1000</td>\n",
       "      <td>Tue Jun 02 2015 03:00:00 GMT-0700 (PDT)</td>\n",
       "    </tr>\n",
       "  </tbody>\n",
       "</table>\n",
       "</div>"
      ],
      "text/plain": [
       "        year    make   model   trim     body transmission                vin  \\\n",
       "131494  1995   Lexus  ES 300   Base    Sedan    automatic  jt8gk13t3s0083977   \n",
       "46490   2007  Toyota    RAV4   Base      SUV    automatic  jtmzd33v975061199   \n",
       "493550  2004  Nissan   Quest  3.5 S  minivan    automatic  5n1bv28u54n366764   \n",
       "\n",
       "       state  condition  odometer   color interior  \\\n",
       "131494    md      2.000     1.000    gold      tan   \n",
       "46490     tx      2.000     1.000  silver     gray   \n",
       "493550    sc      1.900     1.000   green     gray   \n",
       "\n",
       "                                        seller   mmr  sellingprice  \\\n",
       "131494               purple heart services inc  2000           300   \n",
       "46490                                 startech  6725          1200   \n",
       "493550  hendrick toyota scion north charleston  3750          1000   \n",
       "\n",
       "                                       saledate  \n",
       "131494  Tue Jan 27 2015 04:00:00 GMT-0800 (PST)  \n",
       "46490   Tue May 26 2015 02:15:00 GMT-0700 (PDT)  \n",
       "493550  Tue Jun 02 2015 03:00:00 GMT-0700 (PDT)  "
      ]
     },
     "execution_count": 71,
     "metadata": {},
     "output_type": "execute_result"
    }
   ],
   "source": [
    "# Rows with 'odometer' = 1 (min)\n",
    "min_odo = dfcar[dfcar['odometer'] == 1.000]\n",
    "min_odo.sample(3)"
   ]
  },
  {
   "cell_type": "code",
   "execution_count": 72,
   "metadata": {},
   "outputs": [
    {
     "data": {
      "text/html": [
       "<div>\n",
       "<style scoped>\n",
       "    .dataframe tbody tr th:only-of-type {\n",
       "        vertical-align: middle;\n",
       "    }\n",
       "\n",
       "    .dataframe tbody tr th {\n",
       "        vertical-align: top;\n",
       "    }\n",
       "\n",
       "    .dataframe thead th {\n",
       "        text-align: right;\n",
       "    }\n",
       "</style>\n",
       "<table border=\"1\" class=\"dataframe\">\n",
       "  <thead>\n",
       "    <tr style=\"text-align: right;\">\n",
       "      <th></th>\n",
       "      <th>year</th>\n",
       "      <th>make</th>\n",
       "      <th>model</th>\n",
       "      <th>trim</th>\n",
       "      <th>body</th>\n",
       "      <th>transmission</th>\n",
       "      <th>vin</th>\n",
       "      <th>state</th>\n",
       "      <th>condition</th>\n",
       "      <th>odometer</th>\n",
       "      <th>color</th>\n",
       "      <th>interior</th>\n",
       "      <th>seller</th>\n",
       "      <th>mmr</th>\n",
       "      <th>sellingprice</th>\n",
       "      <th>saledate</th>\n",
       "    </tr>\n",
       "  </thead>\n",
       "  <tbody>\n",
       "    <tr>\n",
       "      <th>166054</th>\n",
       "      <td>2004</td>\n",
       "      <td>Chevrolet</td>\n",
       "      <td>Tahoe</td>\n",
       "      <td>LS</td>\n",
       "      <td>SUV</td>\n",
       "      <td>automatic</td>\n",
       "      <td>1gnec13t64r186032</td>\n",
       "      <td>ca</td>\n",
       "      <td>1.900</td>\n",
       "      <td>999999.000</td>\n",
       "      <td>burgundy</td>\n",
       "      <td>gray</td>\n",
       "      <td>800 loan mart</td>\n",
       "      <td>3725</td>\n",
       "      <td>1700</td>\n",
       "      <td>Thu Jan 22 2015 04:00:00 GMT-0800 (PST)</td>\n",
       "    </tr>\n",
       "    <tr>\n",
       "      <th>240950</th>\n",
       "      <td>2003</td>\n",
       "      <td>Ford</td>\n",
       "      <td>Expedition</td>\n",
       "      <td>XLT Value</td>\n",
       "      <td>SUV</td>\n",
       "      <td>automatic</td>\n",
       "      <td>1fmru15w03lc00745</td>\n",
       "      <td>ca</td>\n",
       "      <td>2.000</td>\n",
       "      <td>999999.000</td>\n",
       "      <td>white</td>\n",
       "      <td>gray</td>\n",
       "      <td>800 loan mart</td>\n",
       "      <td>700</td>\n",
       "      <td>900</td>\n",
       "      <td>Tue Feb 03 2015 05:00:00 GMT-0800 (PST)</td>\n",
       "    </tr>\n",
       "    <tr>\n",
       "      <th>452007</th>\n",
       "      <td>2007</td>\n",
       "      <td>NaN</td>\n",
       "      <td>NaN</td>\n",
       "      <td>NaN</td>\n",
       "      <td>NaN</td>\n",
       "      <td>manual</td>\n",
       "      <td>jm1fe173870213192</td>\n",
       "      <td>tx</td>\n",
       "      <td>2.300</td>\n",
       "      <td>999999.000</td>\n",
       "      <td>red</td>\n",
       "      <td>tan</td>\n",
       "      <td>wells fargo dealer services</td>\n",
       "      <td>3575</td>\n",
       "      <td>1200</td>\n",
       "      <td>Wed May 27 2015 05:30:00 GMT-0700 (PDT)</td>\n",
       "    </tr>\n",
       "  </tbody>\n",
       "</table>\n",
       "</div>"
      ],
      "text/plain": [
       "        year       make       model       trim body transmission  \\\n",
       "166054  2004  Chevrolet       Tahoe         LS  SUV    automatic   \n",
       "240950  2003       Ford  Expedition  XLT Value  SUV    automatic   \n",
       "452007  2007        NaN         NaN        NaN  NaN       manual   \n",
       "\n",
       "                      vin state  condition   odometer     color interior  \\\n",
       "166054  1gnec13t64r186032    ca      1.900 999999.000  burgundy     gray   \n",
       "240950  1fmru15w03lc00745    ca      2.000 999999.000     white     gray   \n",
       "452007  jm1fe173870213192    tx      2.300 999999.000       red      tan   \n",
       "\n",
       "                             seller   mmr  sellingprice  \\\n",
       "166054                800 loan mart  3725          1700   \n",
       "240950                800 loan mart   700           900   \n",
       "452007  wells fargo dealer services  3575          1200   \n",
       "\n",
       "                                       saledate  \n",
       "166054  Thu Jan 22 2015 04:00:00 GMT-0800 (PST)  \n",
       "240950  Tue Feb 03 2015 05:00:00 GMT-0800 (PST)  \n",
       "452007  Wed May 27 2015 05:30:00 GMT-0700 (PDT)  "
      ]
     },
     "execution_count": 72,
     "metadata": {},
     "output_type": "execute_result"
    }
   ],
   "source": [
    "# Rows with 'odometer' = 999999 (max)\n",
    "max_odo = dfcar[dfcar['odometer'] == 999999.000]\n",
    "max_odo.sample(3)"
   ]
  },
  {
   "cell_type": "markdown",
   "metadata": {},
   "source": [
    "From the min and max of the `odometer` column above, it can be seen that the data not only contains min and max values that are far away but other columns are also abnormal. This can be seen from the sample above where the min and max rows also contain many null values, low mmr and selling price values, and poor conditions."
   ]
  },
  {
   "cell_type": "markdown",
   "metadata": {},
   "source": [
    "**2. Min from Selling Price**"
   ]
  },
  {
   "cell_type": "code",
   "execution_count": 73,
   "metadata": {},
   "outputs": [
    {
     "data": {
      "text/html": [
       "<div>\n",
       "<style scoped>\n",
       "    .dataframe tbody tr th:only-of-type {\n",
       "        vertical-align: middle;\n",
       "    }\n",
       "\n",
       "    .dataframe tbody tr th {\n",
       "        vertical-align: top;\n",
       "    }\n",
       "\n",
       "    .dataframe thead th {\n",
       "        text-align: right;\n",
       "    }\n",
       "</style>\n",
       "<table border=\"1\" class=\"dataframe\">\n",
       "  <thead>\n",
       "    <tr style=\"text-align: right;\">\n",
       "      <th></th>\n",
       "      <th>year</th>\n",
       "      <th>make</th>\n",
       "      <th>model</th>\n",
       "      <th>trim</th>\n",
       "      <th>body</th>\n",
       "      <th>transmission</th>\n",
       "      <th>vin</th>\n",
       "      <th>state</th>\n",
       "      <th>condition</th>\n",
       "      <th>odometer</th>\n",
       "      <th>color</th>\n",
       "      <th>interior</th>\n",
       "      <th>seller</th>\n",
       "      <th>mmr</th>\n",
       "      <th>sellingprice</th>\n",
       "      <th>saledate</th>\n",
       "    </tr>\n",
       "  </thead>\n",
       "  <tbody>\n",
       "    <tr>\n",
       "      <th>7566</th>\n",
       "      <td>2002</td>\n",
       "      <td>Ford</td>\n",
       "      <td>F-350 Super Duty</td>\n",
       "      <td>XLT</td>\n",
       "      <td>Crew Cab</td>\n",
       "      <td>NaN</td>\n",
       "      <td>1ftsw31f52ed16477</td>\n",
       "      <td>ca</td>\n",
       "      <td>2.000</td>\n",
       "      <td>NaN</td>\n",
       "      <td>white</td>\n",
       "      <td>gray</td>\n",
       "      <td>laa leasing</td>\n",
       "      <td>7850</td>\n",
       "      <td>1</td>\n",
       "      <td>Thu Feb 05 2015 04:00:00 GMT-0800 (PST)</td>\n",
       "    </tr>\n",
       "    <tr>\n",
       "      <th>48453</th>\n",
       "      <td>2003</td>\n",
       "      <td>Mercedes-Benz</td>\n",
       "      <td>E-Class</td>\n",
       "      <td>E500</td>\n",
       "      <td>Sedan</td>\n",
       "      <td>automatic</td>\n",
       "      <td>wdbuf70j73a269529</td>\n",
       "      <td>ga</td>\n",
       "      <td>2.100</td>\n",
       "      <td>1.000</td>\n",
       "      <td>black</td>\n",
       "      <td>black</td>\n",
       "      <td>peoples credit company inc</td>\n",
       "      <td>7325</td>\n",
       "      <td>1</td>\n",
       "      <td>Tue Jan 06 2015 09:30:00 GMT-0800 (PST)</td>\n",
       "    </tr>\n",
       "    <tr>\n",
       "      <th>293223</th>\n",
       "      <td>2014</td>\n",
       "      <td>Ford</td>\n",
       "      <td>E-Series Van</td>\n",
       "      <td>E-250</td>\n",
       "      <td>E-Series Van</td>\n",
       "      <td>automatic</td>\n",
       "      <td>1ftne2ew6eda13643</td>\n",
       "      <td>tx</td>\n",
       "      <td>4.100</td>\n",
       "      <td>31886.000</td>\n",
       "      <td>white</td>\n",
       "      <td>gray</td>\n",
       "      <td>u-haul</td>\n",
       "      <td>20800</td>\n",
       "      <td>1</td>\n",
       "      <td>Thu Feb 12 2015 03:00:00 GMT-0800 (PST)</td>\n",
       "    </tr>\n",
       "    <tr>\n",
       "      <th>348252</th>\n",
       "      <td>1995</td>\n",
       "      <td>Isuzu</td>\n",
       "      <td>Rodeo</td>\n",
       "      <td>LS</td>\n",
       "      <td>SUV</td>\n",
       "      <td>NaN</td>\n",
       "      <td>4s2cm58v9s4375559</td>\n",
       "      <td>va</td>\n",
       "      <td>1.000</td>\n",
       "      <td>254132.000</td>\n",
       "      <td>red</td>\n",
       "      <td>gray</td>\n",
       "      <td>automotive remarketing inc</td>\n",
       "      <td>375</td>\n",
       "      <td>1</td>\n",
       "      <td>Wed Mar 04 2015 01:05:00 GMT-0800 (PST)</td>\n",
       "    </tr>\n",
       "  </tbody>\n",
       "</table>\n",
       "</div>"
      ],
      "text/plain": [
       "        year           make             model   trim          body  \\\n",
       "7566    2002           Ford  F-350 Super Duty    XLT      Crew Cab   \n",
       "48453   2003  Mercedes-Benz           E-Class   E500         Sedan   \n",
       "293223  2014           Ford      E-Series Van  E-250  E-Series Van   \n",
       "348252  1995          Isuzu             Rodeo     LS           SUV   \n",
       "\n",
       "       transmission                vin state  condition   odometer  color  \\\n",
       "7566            NaN  1ftsw31f52ed16477    ca      2.000        NaN  white   \n",
       "48453     automatic  wdbuf70j73a269529    ga      2.100      1.000  black   \n",
       "293223    automatic  1ftne2ew6eda13643    tx      4.100  31886.000  white   \n",
       "348252          NaN  4s2cm58v9s4375559    va      1.000 254132.000    red   \n",
       "\n",
       "       interior                      seller    mmr  sellingprice  \\\n",
       "7566       gray                 laa leasing   7850             1   \n",
       "48453     black  peoples credit company inc   7325             1   \n",
       "293223     gray                      u-haul  20800             1   \n",
       "348252     gray  automotive remarketing inc    375             1   \n",
       "\n",
       "                                       saledate  \n",
       "7566    Thu Feb 05 2015 04:00:00 GMT-0800 (PST)  \n",
       "48453   Tue Jan 06 2015 09:30:00 GMT-0800 (PST)  \n",
       "293223  Thu Feb 12 2015 03:00:00 GMT-0800 (PST)  \n",
       "348252  Wed Mar 04 2015 01:05:00 GMT-0800 (PST)  "
      ]
     },
     "execution_count": 73,
     "metadata": {},
     "output_type": "execute_result"
    }
   ],
   "source": [
    "# Rows with 'sellingprice' = 1 (min)\n",
    "min_price = dfcar[dfcar['sellingprice'] == 1.000]\n",
    "min_price"
   ]
  },
  {
   "cell_type": "markdown",
   "metadata": {},
   "source": [
    "**3. Min from MMR**"
   ]
  },
  {
   "cell_type": "code",
   "execution_count": 74,
   "metadata": {},
   "outputs": [
    {
     "data": {
      "text/html": [
       "<div>\n",
       "<style scoped>\n",
       "    .dataframe tbody tr th:only-of-type {\n",
       "        vertical-align: middle;\n",
       "    }\n",
       "\n",
       "    .dataframe tbody tr th {\n",
       "        vertical-align: top;\n",
       "    }\n",
       "\n",
       "    .dataframe thead th {\n",
       "        text-align: right;\n",
       "    }\n",
       "</style>\n",
       "<table border=\"1\" class=\"dataframe\">\n",
       "  <thead>\n",
       "    <tr style=\"text-align: right;\">\n",
       "      <th></th>\n",
       "      <th>year</th>\n",
       "      <th>make</th>\n",
       "      <th>model</th>\n",
       "      <th>trim</th>\n",
       "      <th>body</th>\n",
       "      <th>transmission</th>\n",
       "      <th>vin</th>\n",
       "      <th>state</th>\n",
       "      <th>condition</th>\n",
       "      <th>odometer</th>\n",
       "      <th>color</th>\n",
       "      <th>interior</th>\n",
       "      <th>seller</th>\n",
       "      <th>mmr</th>\n",
       "      <th>sellingprice</th>\n",
       "      <th>saledate</th>\n",
       "    </tr>\n",
       "  </thead>\n",
       "  <tbody>\n",
       "    <tr>\n",
       "      <th>530824</th>\n",
       "      <td>1996</td>\n",
       "      <td>Oldsmobile</td>\n",
       "      <td>Cutlass Supreme</td>\n",
       "      <td>SL</td>\n",
       "      <td>sedan</td>\n",
       "      <td>automatic</td>\n",
       "      <td>1g3wh52m8tf336917</td>\n",
       "      <td>oh</td>\n",
       "      <td>1.000</td>\n",
       "      <td>267734.000</td>\n",
       "      <td>white</td>\n",
       "      <td>gray</td>\n",
       "      <td>select remarketing group llc/loan max title</td>\n",
       "      <td>25</td>\n",
       "      <td>325</td>\n",
       "      <td>Tue Jun 16 2015 05:00:00 GMT-0700 (PDT)</td>\n",
       "    </tr>\n",
       "    <tr>\n",
       "      <th>68002</th>\n",
       "      <td>2001</td>\n",
       "      <td>Kia</td>\n",
       "      <td>Optima</td>\n",
       "      <td>SE</td>\n",
       "      <td>Sedan</td>\n",
       "      <td>automatic</td>\n",
       "      <td>knagd126315041248</td>\n",
       "      <td>ga</td>\n",
       "      <td>2.200</td>\n",
       "      <td>255003.000</td>\n",
       "      <td>gray</td>\n",
       "      <td>gray</td>\n",
       "      <td>nalley honda</td>\n",
       "      <td>25</td>\n",
       "      <td>700</td>\n",
       "      <td>Tue Dec 30 2014 13:00:00 GMT-0800 (PST)</td>\n",
       "    </tr>\n",
       "    <tr>\n",
       "      <th>7446</th>\n",
       "      <td>2003</td>\n",
       "      <td>Chevrolet</td>\n",
       "      <td>Astro Cargo</td>\n",
       "      <td>Base</td>\n",
       "      <td>Minivan</td>\n",
       "      <td>automatic</td>\n",
       "      <td>1gcdm19x23b104848</td>\n",
       "      <td>ca</td>\n",
       "      <td>NaN</td>\n",
       "      <td>254730.000</td>\n",
       "      <td>white</td>\n",
       "      <td>—</td>\n",
       "      <td>executive enterprises auto wholesale inc</td>\n",
       "      <td>25</td>\n",
       "      <td>1400</td>\n",
       "      <td>Wed Dec 17 2014 11:30:00 GMT-0800 (PST)</td>\n",
       "    </tr>\n",
       "  </tbody>\n",
       "</table>\n",
       "</div>"
      ],
      "text/plain": [
       "        year        make            model  trim     body transmission  \\\n",
       "530824  1996  Oldsmobile  Cutlass Supreme    SL    sedan    automatic   \n",
       "68002   2001         Kia           Optima    SE    Sedan    automatic   \n",
       "7446    2003   Chevrolet      Astro Cargo  Base  Minivan    automatic   \n",
       "\n",
       "                      vin state  condition   odometer  color interior  \\\n",
       "530824  1g3wh52m8tf336917    oh      1.000 267734.000  white     gray   \n",
       "68002   knagd126315041248    ga      2.200 255003.000   gray     gray   \n",
       "7446    1gcdm19x23b104848    ca        NaN 254730.000  white        —   \n",
       "\n",
       "                                             seller  mmr  sellingprice  \\\n",
       "530824  select remarketing group llc/loan max title   25           325   \n",
       "68002                                  nalley honda   25           700   \n",
       "7446       executive enterprises auto wholesale inc   25          1400   \n",
       "\n",
       "                                       saledate  \n",
       "530824  Tue Jun 16 2015 05:00:00 GMT-0700 (PDT)  \n",
       "68002   Tue Dec 30 2014 13:00:00 GMT-0800 (PST)  \n",
       "7446    Wed Dec 17 2014 11:30:00 GMT-0800 (PST)  "
      ]
     },
     "execution_count": 74,
     "metadata": {},
     "output_type": "execute_result"
    }
   ],
   "source": [
    "# Rows with 'mmr' = 25 (min)\n",
    "min_mmr = dfcar[dfcar['mmr'] == 25.000]\n",
    "min_mmr.sample(3)"
   ]
  },
  {
   "cell_type": "markdown",
   "metadata": {},
   "source": [
    "## MULTIVARIATE ANALYSIS"
   ]
  },
  {
   "cell_type": "markdown",
   "metadata": {},
   "source": [
    "### Correlation Heatmap"
   ]
  },
  {
   "cell_type": "code",
   "execution_count": 75,
   "metadata": {},
   "outputs": [
    {
     "data": {
      "image/png": "[encoded data removed]",
      "text/plain": [
       "<Figure size 700x400 with 2 Axes>"
      ]
     },
     "metadata": {},
     "output_type": "display_data"
    }
   ],
   "source": [
    "\n",
    "\n",
    "# Calculate the correlation matrix for numerical columns\n",
    "corr_matrix = dfcar.select_dtypes(include=['number']).corr()\n",
    "\n",
    "# Plot the heatmap\n",
    "plt.figure(figsize=(7, 4))\n",
    "sns.heatmap(corr_matrix, annot=True, cmap='coolwarm', center=0)\n",
    "plt.title('Correlation Heatmap')\n",
    "plt.show()\n"
   ]
  },
  {
   "cell_type": "markdown",
   "metadata": {},
   "source": [
    "1. The correlation between `year` and `sellingprice` is positive, indicating that the newer the car, the higher the selling price.\n",
    "2. The `condition` column has a positive correlation with `sellingprice`, which means the better the condition of the car, the higher the selling price.\n",
    "3. The `odometer` column has a negative correlation with `sellingprice`, indicating that the less mileage, the higher the selling price.\n",
    "4. The `mmr` column has a fairly strong positive correlation with `sellingprice`, indicating that the selling price predicted by MMR has a good correlation with the actual selling price.\n",
    "5. The 'Year' and 'Odometer' columns also show a fairly high negative correlation, meaning that the latest cars have odometers that tend to be small"
   ]
  },
  {
   "cell_type": "markdown",
   "metadata": {},
   "source": [
    "----------"
   ]
  },
  {
   "cell_type": "code",
   "execution_count": 76,
   "metadata": {},
   "outputs": [
    {
     "name": "stdout",
     "output_type": "stream",
     "text": [
      "<class 'pandas.core.frame.DataFrame'>\n",
      "RangeIndex: 558811 entries, 0 to 558810\n",
      "Data columns (total 16 columns):\n",
      " #   Column        Non-Null Count   Dtype  \n",
      "---  ------        --------------   -----  \n",
      " 0   year          558811 non-null  int64  \n",
      " 1   make          548510 non-null  object \n",
      " 2   model         548412 non-null  object \n",
      " 3   trim          548160 non-null  object \n",
      " 4   body          545616 non-null  object \n",
      " 5   transmission  493458 non-null  object \n",
      " 6   vin           558811 non-null  object \n",
      " 7   state         558811 non-null  object \n",
      " 8   condition     547017 non-null  float64\n",
      " 9   odometer      558717 non-null  float64\n",
      " 10  color         558062 non-null  object \n",
      " 11  interior      558062 non-null  object \n",
      " 12  seller        558811 non-null  object \n",
      " 13  mmr           558811 non-null  int64  \n",
      " 14  sellingprice  558811 non-null  int64  \n",
      " 15  saledate      558811 non-null  object \n",
      "dtypes: float64(2), int64(3), object(11)\n",
      "memory usage: 68.2+ MB\n"
     ]
    }
   ],
   "source": [
    "dfcar.info()"
   ]
  },
  {
   "cell_type": "code",
   "execution_count": 77,
   "metadata": {},
   "outputs": [
    {
     "data": {
      "text/plain": [
       "year                0\n",
       "make            10301\n",
       "model           10399\n",
       "trim            10651\n",
       "body            13195\n",
       "transmission    65353\n",
       "vin                 0\n",
       "state               0\n",
       "condition       11794\n",
       "odometer           94\n",
       "color             749\n",
       "interior          749\n",
       "seller              0\n",
       "mmr                 0\n",
       "sellingprice        0\n",
       "saledate            0\n",
       "dtype: int64"
      ]
     },
     "execution_count": 77,
     "metadata": {},
     "output_type": "execute_result"
    }
   ],
   "source": [
    "\n",
    "dfcar.isnull().sum()"
   ]
  },
  {
   "cell_type": "markdown",
   "metadata": {},
   "source": [
    "1. In total, there are 558,811 entries.\n",
    "2. The data types are int, float and object, and appear to be in accordance with the columns\n",
    "3. the data has a few amount of null values comparing to the whole entries 2.4%nulls might consider droping them"
   ]
  },
  {
   "cell_type": "code",
   "execution_count": 78,
   "metadata": {},
   "outputs": [
    {
     "data": {
      "text/html": [
       "<div>\n",
       "<style scoped>\n",
       "    .dataframe tbody tr th:only-of-type {\n",
       "        vertical-align: middle;\n",
       "    }\n",
       "\n",
       "    .dataframe tbody tr th {\n",
       "        vertical-align: top;\n",
       "    }\n",
       "\n",
       "    .dataframe thead th {\n",
       "        text-align: right;\n",
       "    }\n",
       "</style>\n",
       "<table border=\"1\" class=\"dataframe\">\n",
       "  <thead>\n",
       "    <tr style=\"text-align: right;\">\n",
       "      <th></th>\n",
       "      <th>year</th>\n",
       "      <th>condition</th>\n",
       "      <th>odometer</th>\n",
       "      <th>mmr</th>\n",
       "      <th>sellingprice</th>\n",
       "    </tr>\n",
       "  </thead>\n",
       "  <tbody>\n",
       "    <tr>\n",
       "      <th>count</th>\n",
       "      <td>558811.000</td>\n",
       "      <td>547017.000</td>\n",
       "      <td>558717.000</td>\n",
       "      <td>558811.000</td>\n",
       "      <td>558811.000</td>\n",
       "    </tr>\n",
       "    <tr>\n",
       "      <th>mean</th>\n",
       "      <td>2010.039</td>\n",
       "      <td>3.425</td>\n",
       "      <td>68323.196</td>\n",
       "      <td>13769.325</td>\n",
       "      <td>13611.262</td>\n",
       "    </tr>\n",
       "    <tr>\n",
       "      <th>std</th>\n",
       "      <td>3.967</td>\n",
       "      <td>0.949</td>\n",
       "      <td>53397.753</td>\n",
       "      <td>9679.875</td>\n",
       "      <td>9749.657</td>\n",
       "    </tr>\n",
       "    <tr>\n",
       "      <th>min</th>\n",
       "      <td>1982.000</td>\n",
       "      <td>1.000</td>\n",
       "      <td>1.000</td>\n",
       "      <td>25.000</td>\n",
       "      <td>1.000</td>\n",
       "    </tr>\n",
       "    <tr>\n",
       "      <th>25%</th>\n",
       "      <td>2007.000</td>\n",
       "      <td>2.700</td>\n",
       "      <td>28374.000</td>\n",
       "      <td>7100.000</td>\n",
       "      <td>6900.000</td>\n",
       "    </tr>\n",
       "    <tr>\n",
       "      <th>50%</th>\n",
       "      <td>2012.000</td>\n",
       "      <td>3.600</td>\n",
       "      <td>52256.000</td>\n",
       "      <td>12250.000</td>\n",
       "      <td>12100.000</td>\n",
       "    </tr>\n",
       "    <tr>\n",
       "      <th>75%</th>\n",
       "      <td>2013.000</td>\n",
       "      <td>4.200</td>\n",
       "      <td>99112.000</td>\n",
       "      <td>18300.000</td>\n",
       "      <td>18200.000</td>\n",
       "    </tr>\n",
       "    <tr>\n",
       "      <th>max</th>\n",
       "      <td>2015.000</td>\n",
       "      <td>5.000</td>\n",
       "      <td>999999.000</td>\n",
       "      <td>182000.000</td>\n",
       "      <td>230000.000</td>\n",
       "    </tr>\n",
       "  </tbody>\n",
       "</table>\n",
       "</div>"
      ],
      "text/plain": [
       "            year  condition   odometer        mmr  sellingprice\n",
       "count 558811.000 547017.000 558717.000 558811.000    558811.000\n",
       "mean    2010.039      3.425  68323.196  13769.325     13611.262\n",
       "std        3.967      0.949  53397.753   9679.875      9749.657\n",
       "min     1982.000      1.000      1.000     25.000         1.000\n",
       "25%     2007.000      2.700  28374.000   7100.000      6900.000\n",
       "50%     2012.000      3.600  52256.000  12250.000     12100.000\n",
       "75%     2013.000      4.200  99112.000  18300.000     18200.000\n",
       "max     2015.000      5.000 999999.000 182000.000    230000.000"
      ]
     },
     "execution_count": 78,
     "metadata": {},
     "output_type": "execute_result"
    }
   ],
   "source": [
    "# Categorize the features\n",
    "num = ['year', 'condition', 'odometer', 'mmr', 'sellingprice']\n",
    "cat = ['make', 'model', 'trim', 'body', 'transmission', 'vin', 'state', 'color', 'interior', 'seller', 'saledate']\n",
    "\n",
    "# Set display float format\n",
    "pd.set_option('display.float_format', lambda x: '%.3f' % x)\n",
    "\n",
    "dfcar[num].describe()"
   ]
  },
  {
   "cell_type": "markdown",
   "metadata": {},
   "source": [
    "1. condition has a categorical value between 1-5.\n",
    "2. The value of the odometer appears to have a large gap between min and max and a gap between mean and median\n",
    "3. Overall, the mmr and sellingprice values are not very different. However, the min-max and mean-median values are very different."
   ]
  },
  {
   "cell_type": "code",
   "execution_count": 79,
   "metadata": {},
   "outputs": [
    {
     "data": {
      "text/html": [
       "<div>\n",
       "<style scoped>\n",
       "    .dataframe tbody tr th:only-of-type {\n",
       "        vertical-align: middle;\n",
       "    }\n",
       "\n",
       "    .dataframe tbody tr th {\n",
       "        vertical-align: top;\n",
       "    }\n",
       "\n",
       "    .dataframe thead th {\n",
       "        text-align: right;\n",
       "    }\n",
       "</style>\n",
       "<table border=\"1\" class=\"dataframe\">\n",
       "  <thead>\n",
       "    <tr style=\"text-align: right;\">\n",
       "      <th></th>\n",
       "      <th>make</th>\n",
       "      <th>model</th>\n",
       "      <th>trim</th>\n",
       "      <th>body</th>\n",
       "      <th>transmission</th>\n",
       "      <th>vin</th>\n",
       "      <th>state</th>\n",
       "      <th>color</th>\n",
       "      <th>interior</th>\n",
       "      <th>seller</th>\n",
       "      <th>saledate</th>\n",
       "    </tr>\n",
       "  </thead>\n",
       "  <tbody>\n",
       "    <tr>\n",
       "      <th>count</th>\n",
       "      <td>548510</td>\n",
       "      <td>548412</td>\n",
       "      <td>548160</td>\n",
       "      <td>545616</td>\n",
       "      <td>493458</td>\n",
       "      <td>558811</td>\n",
       "      <td>558811</td>\n",
       "      <td>558062</td>\n",
       "      <td>558062</td>\n",
       "      <td>558811</td>\n",
       "      <td>558811</td>\n",
       "    </tr>\n",
       "    <tr>\n",
       "      <th>unique</th>\n",
       "      <td>96</td>\n",
       "      <td>973</td>\n",
       "      <td>1975</td>\n",
       "      <td>86</td>\n",
       "      <td>2</td>\n",
       "      <td>550296</td>\n",
       "      <td>38</td>\n",
       "      <td>20</td>\n",
       "      <td>17</td>\n",
       "      <td>14264</td>\n",
       "      <td>3745</td>\n",
       "    </tr>\n",
       "    <tr>\n",
       "      <th>top</th>\n",
       "      <td>Ford</td>\n",
       "      <td>Altima</td>\n",
       "      <td>Base</td>\n",
       "      <td>Sedan</td>\n",
       "      <td>automatic</td>\n",
       "      <td>wbanv13588cz57827</td>\n",
       "      <td>fl</td>\n",
       "      <td>black</td>\n",
       "      <td>black</td>\n",
       "      <td>nissan-infiniti lt</td>\n",
       "      <td>Tue Feb 10 2015 01:30:00 GMT-0800 (PST)</td>\n",
       "    </tr>\n",
       "    <tr>\n",
       "      <th>freq</th>\n",
       "      <td>93554</td>\n",
       "      <td>19349</td>\n",
       "      <td>55817</td>\n",
       "      <td>199437</td>\n",
       "      <td>475914</td>\n",
       "      <td>5</td>\n",
       "      <td>82945</td>\n",
       "      <td>110970</td>\n",
       "      <td>244325</td>\n",
       "      <td>19693</td>\n",
       "      <td>5334</td>\n",
       "    </tr>\n",
       "  </tbody>\n",
       "</table>\n",
       "</div>"
      ],
      "text/plain": [
       "          make   model    trim    body transmission                vin  \\\n",
       "count   548510  548412  548160  545616       493458             558811   \n",
       "unique      96     973    1975      86            2             550296   \n",
       "top       Ford  Altima    Base   Sedan    automatic  wbanv13588cz57827   \n",
       "freq     93554   19349   55817  199437       475914                  5   \n",
       "\n",
       "         state   color interior              seller  \\\n",
       "count   558811  558062   558062              558811   \n",
       "unique      38      20       17               14264   \n",
       "top         fl   black    black  nissan-infiniti lt   \n",
       "freq     82945  110970   244325               19693   \n",
       "\n",
       "                                       saledate  \n",
       "count                                    558811  \n",
       "unique                                     3745  \n",
       "top     Tue Feb 10 2015 01:30:00 GMT-0800 (PST)  \n",
       "freq                                       5334  "
      ]
     },
     "execution_count": 79,
     "metadata": {},
     "output_type": "execute_result"
    }
   ],
   "source": [
    "dfcar[cat].describe()"
   ]
  },
  {
   "cell_type": "markdown",
   "metadata": {},
   "source": [
    "# Data Preparation"
   ]
  },
  {
   "cell_type": "markdown",
   "metadata": {},
   "source": [
    "----"
   ]
  },
  {
   "cell_type": "markdown",
   "metadata": {},
   "source": [
    "## Data Cleansing"
   ]
  },
  {
   "cell_type": "markdown",
   "metadata": {},
   "source": [
    "### Dropping"
   ]
  },
  {
   "cell_type": "markdown",
   "metadata": {},
   "source": [
    "**Rows with Abnormal Values**"
   ]
  },
  {
   "cell_type": "code",
   "execution_count": 80,
   "metadata": {},
   "outputs": [],
   "source": [
    "dfcar2 = dfcar.copy()"
   ]
  },
  {
   "cell_type": "code",
   "execution_count": 81,
   "metadata": {},
   "outputs": [],
   "source": [
    "# Drop nilai min odo\n",
    "i_min_odo = dfcar2[((dfcar2.odometer == 1.000))].index\n",
    "dfcar2 = dfcar2.drop(i_min_odo)"
   ]
  },
  {
   "cell_type": "code",
   "execution_count": 82,
   "metadata": {},
   "outputs": [],
   "source": [
    "# Drop nilai max odo\n",
    "i_max_odo = dfcar2[((dfcar2.odometer == 999999.000))].index\n",
    "dfcar2 = dfcar2.drop(i_max_odo)"
   ]
  },
  {
   "cell_type": "code",
   "execution_count": 83,
   "metadata": {},
   "outputs": [],
   "source": [
    "# Drop nilai min sellingprice\n",
    "i_min_price = dfcar2[((dfcar2.sellingprice == 1.000))].index\n",
    "dfcar2 = dfcar2.drop(i_min_price)"
   ]
  },
  {
   "cell_type": "code",
   "execution_count": 84,
   "metadata": {},
   "outputs": [],
   "source": [
    "# Drop nilai min mmr\n",
    "i_min_mmr = dfcar2[((dfcar2.mmr == 25.000))].index\n",
    "dfcar2 = dfcar2.drop(i_min_mmr)"
   ]
  },
  {
   "cell_type": "code",
   "execution_count": 85,
   "metadata": {},
   "outputs": [
    {
     "data": {
      "text/plain": [
       "(557391, 16)"
      ]
     },
     "execution_count": 85,
     "metadata": {},
     "output_type": "execute_result"
    }
   ],
   "source": [
    "dfcar2.shape"
   ]
  },
  {
   "cell_type": "markdown",
   "metadata": {},
   "source": [
    "**Irrelevant Features**"
   ]
  },
  {
   "cell_type": "markdown",
   "metadata": {},
   "source": [
    "Some features seem less relevant and their unique value is too broad, as we have analyzed previously. So it is assumed that these features do not have a particular pattern. These features are `vin`, `sellingprice`, and `saledate` which will be removed. The reasons are:  \n",
    "a. `vin` is not a feature that determines the price of a car because it's juts the identification number for the car.  \n",
    "b. `sellingprice` has a high correlation (0.98) with `mmr` (target feature).  \n",
    "c. `saledate` does not show a significant factor because the time is too broad and uncertain so there is no special pattern that influences the selling price of a car."
   ]
  },
  {
   "cell_type": "code",
   "execution_count": 86,
   "metadata": {},
   "outputs": [
    {
     "data": {
      "text/html": [
       "<div>\n",
       "<style scoped>\n",
       "    .dataframe tbody tr th:only-of-type {\n",
       "        vertical-align: middle;\n",
       "    }\n",
       "\n",
       "    .dataframe tbody tr th {\n",
       "        vertical-align: top;\n",
       "    }\n",
       "\n",
       "    .dataframe thead th {\n",
       "        text-align: right;\n",
       "    }\n",
       "</style>\n",
       "<table border=\"1\" class=\"dataframe\">\n",
       "  <thead>\n",
       "    <tr style=\"text-align: right;\">\n",
       "      <th></th>\n",
       "      <th>year</th>\n",
       "      <th>make</th>\n",
       "      <th>model</th>\n",
       "      <th>trim</th>\n",
       "      <th>body</th>\n",
       "      <th>transmission</th>\n",
       "      <th>state</th>\n",
       "      <th>condition</th>\n",
       "      <th>odometer</th>\n",
       "      <th>color</th>\n",
       "      <th>interior</th>\n",
       "      <th>seller</th>\n",
       "      <th>mmr</th>\n",
       "    </tr>\n",
       "  </thead>\n",
       "  <tbody>\n",
       "    <tr>\n",
       "      <th>0</th>\n",
       "      <td>2015</td>\n",
       "      <td>Kia</td>\n",
       "      <td>Sorento</td>\n",
       "      <td>LX</td>\n",
       "      <td>SUV</td>\n",
       "      <td>automatic</td>\n",
       "      <td>ca</td>\n",
       "      <td>5.000</td>\n",
       "      <td>16639.000</td>\n",
       "      <td>white</td>\n",
       "      <td>black</td>\n",
       "      <td>kia motors america, inc</td>\n",
       "      <td>20500</td>\n",
       "    </tr>\n",
       "    <tr>\n",
       "      <th>1</th>\n",
       "      <td>2015</td>\n",
       "      <td>Kia</td>\n",
       "      <td>Sorento</td>\n",
       "      <td>LX</td>\n",
       "      <td>SUV</td>\n",
       "      <td>automatic</td>\n",
       "      <td>ca</td>\n",
       "      <td>5.000</td>\n",
       "      <td>9393.000</td>\n",
       "      <td>white</td>\n",
       "      <td>beige</td>\n",
       "      <td>kia motors america, inc</td>\n",
       "      <td>20800</td>\n",
       "    </tr>\n",
       "    <tr>\n",
       "      <th>2</th>\n",
       "      <td>2014</td>\n",
       "      <td>BMW</td>\n",
       "      <td>3 Series</td>\n",
       "      <td>328i SULEV</td>\n",
       "      <td>Sedan</td>\n",
       "      <td>automatic</td>\n",
       "      <td>ca</td>\n",
       "      <td>4.500</td>\n",
       "      <td>1331.000</td>\n",
       "      <td>gray</td>\n",
       "      <td>black</td>\n",
       "      <td>financial services remarketing (lease)</td>\n",
       "      <td>31900</td>\n",
       "    </tr>\n",
       "  </tbody>\n",
       "</table>\n",
       "</div>"
      ],
      "text/plain": [
       "   year make     model        trim   body transmission state  condition  \\\n",
       "0  2015  Kia   Sorento          LX    SUV    automatic    ca      5.000   \n",
       "1  2015  Kia   Sorento          LX    SUV    automatic    ca      5.000   \n",
       "2  2014  BMW  3 Series  328i SULEV  Sedan    automatic    ca      4.500   \n",
       "\n",
       "   odometer  color interior                                  seller    mmr  \n",
       "0 16639.000  white    black                 kia motors america, inc  20500  \n",
       "1  9393.000  white    beige                 kia motors america, inc  20800  \n",
       "2  1331.000   gray    black  financial services remarketing (lease)  31900  "
      ]
     },
     "execution_count": 86,
     "metadata": {},
     "output_type": "execute_result"
    }
   ],
   "source": [
    "# Delete the irrelevant features\n",
    "dfcar2 = dfcar2.drop(['vin','sellingprice','saledate'], axis=1)\n",
    "dfcar2.head(3)"
   ]
  },
  {
   "cell_type": "markdown",
   "metadata": {},
   "source": [
    "### Handle Unique Values"
   ]
  },
  {
   "cell_type": "markdown",
   "metadata": {},
   "source": [
    "In some features there are many unique values as previously explored. We will handle unique values into:  \n",
    "1. All categorical data except saledate will be changed to lower case to get the same unique value.  \n",
    "2. The \" — \" value in the `color` and `interior` features will be replaced with the na value to be dropped later"
   ]
  },
  {
   "cell_type": "code",
   "execution_count": 87,
   "metadata": {},
   "outputs": [],
   "source": [
    "def content_consistent(df):\n",
    "    cols = df.select_dtypes(object).columns.difference(['saledate'])\n",
    "    df[cols] = df[cols].apply(lambda x: x.str.lower())\n",
    "    return df\n",
    "\n",
    "dfcar2 = content_consistent(dfcar2)"
   ]
  },
  {
   "cell_type": "code",
   "execution_count": 88,
   "metadata": {},
   "outputs": [],
   "source": [
    "import re\n",
    "\n",
    "# Replace color and interior\n",
    "dfcar2['color'].replace('—',np.nan,inplace=True)\n",
    "dfcar2['interior'].replace('—',np.nan,inplace=True)\n",
    "\n",
    "# Replace model dan trim by remove special characters\n",
    "dfcar2['model'].replace(to_replace='[^A-Za-z0-9 ]+', value='', regex=True, inplace=True)\n",
    "dfcar2['trim'].replace(to_replace='[^A-Za-z0-9 ]+', value='', regex=True, inplace=True)\n",
    "dfcar2['seller'].replace(to_replace='[^A-Za-z0-9 ]+', value='', regex=True, inplace=True)\n",
    "\n",
    "# Replace same meaning of value\n",
    "dfcar2['make'].replace('landrover','land rover',inplace=True)\n",
    "dfcar2['make'].replace('mercedes-b','mercedes-benz',inplace=True)\n",
    "dfcar2['make'].replace('mercedes','mercedes-benz',inplace=True)\n",
    "dfcar2['make'].replace('vw','volkswagen',inplace=True)\n",
    "dfcar2['make'].replace('ford tk','ford truck',inplace=True)\n",
    "dfcar2['body'].replace('koup','coupe',inplace=True)\n",
    "dfcar2['body'].replace('regular-cab','regular cab',inplace=True)\n",
    "dfcar2['body'].replace('xtracab','extended cab',inplace=True)"
   ]
  },
  {
   "cell_type": "code",
   "execution_count": 89,
   "metadata": {},
   "outputs": [
    {
     "data": {
      "text/html": [
       "<div>\n",
       "<style scoped>\n",
       "    .dataframe tbody tr th:only-of-type {\n",
       "        vertical-align: middle;\n",
       "    }\n",
       "\n",
       "    .dataframe tbody tr th {\n",
       "        vertical-align: top;\n",
       "    }\n",
       "\n",
       "    .dataframe thead th {\n",
       "        text-align: right;\n",
       "    }\n",
       "</style>\n",
       "<table border=\"1\" class=\"dataframe\">\n",
       "  <thead>\n",
       "    <tr style=\"text-align: right;\">\n",
       "      <th></th>\n",
       "      <th>make</th>\n",
       "      <th>model</th>\n",
       "      <th>trim</th>\n",
       "      <th>body</th>\n",
       "      <th>color</th>\n",
       "      <th>interior</th>\n",
       "      <th>state</th>\n",
       "      <th>seller</th>\n",
       "    </tr>\n",
       "  </thead>\n",
       "  <tbody>\n",
       "    <tr>\n",
       "      <th>count</th>\n",
       "      <td>547162</td>\n",
       "      <td>547064</td>\n",
       "      <td>546817</td>\n",
       "      <td>544286</td>\n",
       "      <td>531988</td>\n",
       "      <td>539767</td>\n",
       "      <td>557391</td>\n",
       "      <td>557391</td>\n",
       "    </tr>\n",
       "    <tr>\n",
       "      <th>unique</th>\n",
       "      <td>61</td>\n",
       "      <td>841</td>\n",
       "      <td>1883</td>\n",
       "      <td>42</td>\n",
       "      <td>19</td>\n",
       "      <td>16</td>\n",
       "      <td>38</td>\n",
       "      <td>14152</td>\n",
       "    </tr>\n",
       "    <tr>\n",
       "      <th>top</th>\n",
       "      <td>ford</td>\n",
       "      <td>altima</td>\n",
       "      <td>base</td>\n",
       "      <td>sedan</td>\n",
       "      <td>black</td>\n",
       "      <td>black</td>\n",
       "      <td>fl</td>\n",
       "      <td>nissaninfiniti lt</td>\n",
       "    </tr>\n",
       "    <tr>\n",
       "      <th>freq</th>\n",
       "      <td>93834</td>\n",
       "      <td>19322</td>\n",
       "      <td>55641</td>\n",
       "      <td>240696</td>\n",
       "      <td>110725</td>\n",
       "      <td>244000</td>\n",
       "      <td>82780</td>\n",
       "      <td>19691</td>\n",
       "    </tr>\n",
       "  </tbody>\n",
       "</table>\n",
       "</div>"
      ],
      "text/plain": [
       "          make   model    trim    body   color interior   state  \\\n",
       "count   547162  547064  546817  544286  531988   539767  557391   \n",
       "unique      61     841    1883      42      19       16      38   \n",
       "top       ford  altima    base   sedan   black    black      fl   \n",
       "freq     93834   19322   55641  240696  110725   244000   82780   \n",
       "\n",
       "                   seller  \n",
       "count              557391  \n",
       "unique              14152  \n",
       "top     nissaninfiniti lt  \n",
       "freq                19691  "
      ]
     },
     "execution_count": 89,
     "metadata": {},
     "output_type": "execute_result"
    }
   ],
   "source": [
    "# View the results of handling value and column inconsistencies\n",
    "c = ['make', 'model', 'trim', 'body', 'color', 'interior', 'state', 'seller']\n",
    "\n",
    "dfcar2[c].describe()"
   ]
  },
  {
   "cell_type": "markdown",
   "metadata": {},
   "source": [
    "After cleaning the data by generalizing the string writing, the results are visible:  \n",
    "a. `make` which was originally 96 now only has 61 unique values  \n",
    "b. `model` which was originally 973 now only has 841 unique values  \n",
    "c. `trim` which was originally 1975 now only has 1883 unique values  \n",
    "d. `body` which was originally 86 now only has 42 unique values  \n",
    "e. `seller` which was originally 14264 now only has 14152 unique values  \n",
    "f. `color` and `interior` are reduced by 1 value from the previous unique value because they have been replaced by the mode value (-).  \n",
    "g. `state` is the only one that still has the same value."
   ]
  },
  {
   "cell_type": "markdown",
   "metadata": {},
   "source": [
    "### Handle Missing Values"
   ]
  },
  {
   "cell_type": "markdown",
   "metadata": {},
   "source": [
    "There are 9 features that have Null values, they are `make`, `model`, `trim`, `body`, `transmission`, `condition`, `odometer`, `color`, `interior`.  \n",
    "\n",
    "1. All missing data will be dropped.  "
   ]
  },
  {
   "cell_type": "code",
   "execution_count": 90,
   "metadata": {},
   "outputs": [],
   "source": [
    "# Existing columns that had null values\n",
    "cols = ['make', 'model', 'trim', 'body', 'transmission', 'color', 'interior']\n",
    "\n",
    "# Drop all rows containing null in the specified columns\n",
    "dfcar2.dropna(subset=cols, inplace=True)\n"
   ]
  },
  {
   "cell_type": "code",
   "execution_count": 91,
   "metadata": {},
   "outputs": [],
   "source": [
    "# Imputation of null values dropping nulls \n",
    "dfcar2.dropna(subset=['condition'], inplace=True)"
   ]
  },
  {
   "cell_type": "code",
   "execution_count": 92,
   "metadata": {},
   "outputs": [
    {
     "data": {
      "text/plain": [
       "year            0\n",
       "make            0\n",
       "model           0\n",
       "trim            0\n",
       "body            0\n",
       "transmission    0\n",
       "state           0\n",
       "condition       0\n",
       "odometer        0\n",
       "color           0\n",
       "interior        0\n",
       "seller          0\n",
       "mmr             0\n",
       "dtype: int64"
      ]
     },
     "execution_count": 92,
     "metadata": {},
     "output_type": "execute_result"
    }
   ],
   "source": [
    "# Removes remaining null values\n",
    "dfcar2.dropna(axis=0, inplace=True)\n",
    "dfcar2.isnull().sum()"
   ]
  },
  {
   "cell_type": "code",
   "execution_count": 93,
   "metadata": {},
   "outputs": [],
   "source": [
    "df_clean = dfcar2.copy()"
   ]
  },
  {
   "cell_type": "markdown",
   "metadata": {},
   "source": [
    "## Feature Engineering"
   ]
  },
  {
   "cell_type": "markdown",
   "metadata": {},
   "source": [
    "### Feature Extraction"
   ]
  },
  {
   "cell_type": "markdown",
   "metadata": {},
   "source": [
    "Because the dataset contains many categorical features, we need to convert them first into numbers. But before that, we need to carry out feature extraction to see patterns that can simplify the feature encoding."
   ]
  },
  {
   "cell_type": "markdown",
   "metadata": {},
   "source": [
    "#### 1. Overall\n",
    "Overall rating of the car, grouped by the mean of MMR from `condition` and `odometer`."
   ]
  },
  {
   "cell_type": "code",
   "execution_count": 94,
   "metadata": {},
   "outputs": [
    {
     "data": {
      "text/html": [
       "<div>\n",
       "<style scoped>\n",
       "    .dataframe tbody tr th:only-of-type {\n",
       "        vertical-align: middle;\n",
       "    }\n",
       "\n",
       "    .dataframe tbody tr th {\n",
       "        vertical-align: top;\n",
       "    }\n",
       "\n",
       "    .dataframe thead tr th {\n",
       "        text-align: left;\n",
       "    }\n",
       "</style>\n",
       "<table border=\"1\" class=\"dataframe\">\n",
       "  <thead>\n",
       "    <tr>\n",
       "      <th></th>\n",
       "      <th colspan=\"2\" halign=\"left\">mmr</th>\n",
       "    </tr>\n",
       "    <tr>\n",
       "      <th></th>\n",
       "      <th>mean</th>\n",
       "      <th>median</th>\n",
       "    </tr>\n",
       "  </thead>\n",
       "  <tbody>\n",
       "    <tr>\n",
       "      <th>count</th>\n",
       "      <td>407335.000</td>\n",
       "      <td>407335.000</td>\n",
       "    </tr>\n",
       "    <tr>\n",
       "      <th>mean</th>\n",
       "      <td>13480.496</td>\n",
       "      <td>13474.128</td>\n",
       "    </tr>\n",
       "    <tr>\n",
       "      <th>std</th>\n",
       "      <td>9260.965</td>\n",
       "      <td>9258.341</td>\n",
       "    </tr>\n",
       "    <tr>\n",
       "      <th>min</th>\n",
       "      <td>50.000</td>\n",
       "      <td>50.000</td>\n",
       "    </tr>\n",
       "    <tr>\n",
       "      <th>25%</th>\n",
       "      <td>7075.000</td>\n",
       "      <td>7075.000</td>\n",
       "    </tr>\n",
       "    <tr>\n",
       "      <th>50%</th>\n",
       "      <td>12100.000</td>\n",
       "      <td>12100.000</td>\n",
       "    </tr>\n",
       "    <tr>\n",
       "      <th>75%</th>\n",
       "      <td>17900.000</td>\n",
       "      <td>17875.000</td>\n",
       "    </tr>\n",
       "    <tr>\n",
       "      <th>max</th>\n",
       "      <td>182000.000</td>\n",
       "      <td>182000.000</td>\n",
       "    </tr>\n",
       "  </tbody>\n",
       "</table>\n",
       "</div>"
      ],
      "text/plain": [
       "             mmr           \n",
       "            mean     median\n",
       "count 407335.000 407335.000\n",
       "mean   13480.496  13474.128\n",
       "std     9260.965   9258.341\n",
       "min       50.000     50.000\n",
       "25%     7075.000   7075.000\n",
       "50%    12100.000  12100.000\n",
       "75%    17900.000  17875.000\n",
       "max   182000.000 182000.000"
      ]
     },
     "execution_count": 94,
     "metadata": {},
     "output_type": "execute_result"
    }
   ],
   "source": [
    "df_yearcond = df_clean.groupby(['condition', 'odometer']).agg({'mmr' : ['mean','median']})\n",
    "df_yearcond.describe()"
   ]
  },
  {
   "cell_type": "code",
   "execution_count": 95,
   "metadata": {},
   "outputs": [],
   "source": [
    "def segment(x):\n",
    "    if x['odometer'] <= 7200:\n",
    "        segment = 'Poor'\n",
    "    elif x['odometer'] > 7200 and x['odometer'] <= 12150:\n",
    "        segment = 'Fair'\n",
    "    elif x['odometer'] > 12150 and x['odometer'] <= 17600:\n",
    "        segment = 'Good'\n",
    "    else:\n",
    "        segment = 'Very Good'\n",
    "    return segment\n",
    "\n",
    "df_clean['Overall'] = df_clean.apply(lambda x: segment(x), axis=1)"
   ]
  },
  {
   "cell_type": "markdown",
   "metadata": {},
   "source": [
    "#### 2. Made In\n",
    "\n",
    "Simplify the value in the `make` feature by categorizing car brands according to the country of origin."
   ]
  },
  {
   "cell_type": "code",
   "execution_count": 96,
   "metadata": {},
   "outputs": [],
   "source": [
    "# Car brand groups based on country of origin\n",
    "us_made = ['chevrolet', 'ford', 'buick', 'cadillac', 'jeep', 'dodge', 'chrysler', 'ram', 'scion', 'pontiac', 'saturn', 'mercury', 'hummer', 'gmc', 'gmc truck',\n",
    "           'oldsmobile', 'ford truck', 'lincoln', 'plymouth', 'airstream']\n",
    "germany_made = ['bmw', 'audi', 'mercedes-benz', 'porsche', 'smart', 'chev truck', 'volkswagen']\n",
    "japan_made = ['nissan', 'acura', 'lexus', 'infiniti', 'mitsubishi', 'mazda', 'toyota', 'subaru', 'honda', 'suzuki', 'isuzu', 'mazda tk']\n",
    "uk_made = ['mini', 'land rover', 'jaguar']\n",
    "italy_made = ['fiat', 'maserati']\n",
    "korea_made = ['kia', 'hyundai', 'hyundai tk', 'daewoo']\n",
    "swedia_made = ['volvo', 'saab']\n",
    "\n",
    "made_in = []\n",
    "\n",
    "for maker in df_clean['make']:\n",
    "    if maker in us_made:\n",
    "        country = 'US'\n",
    "    elif maker in germany_made:\n",
    "        country = 'DEU'\n",
    "    elif maker in japan_made:\n",
    "        country = 'JPN'\n",
    "    elif maker in uk_made:\n",
    "        country = 'UK'\n",
    "    elif maker in italy_made:\n",
    "        country = 'ITA'\n",
    "    elif maker in korea_made:\n",
    "        country = 'KOR'\n",
    "    else:\n",
    "        country = 'SWE'\n",
    "\n",
    "    made_in.append(country)\n",
    "\n",
    "df_clean['made_in'] = made_in"
   ]
  },
  {
   "cell_type": "markdown",
   "metadata": {},
   "source": [
    "#### 3. Top Make\n",
    "Brand segmentation based on 11 top brands. The rest of them will be labelled as 'Other'."
   ]
  },
  {
   "cell_type": "code",
   "execution_count": 97,
   "metadata": {},
   "outputs": [
    {
     "data": {
      "text/html": [
       "<div>\n",
       "<style scoped>\n",
       "    .dataframe tbody tr th:only-of-type {\n",
       "        vertical-align: middle;\n",
       "    }\n",
       "\n",
       "    .dataframe tbody tr th {\n",
       "        vertical-align: top;\n",
       "    }\n",
       "\n",
       "    .dataframe thead th {\n",
       "        text-align: right;\n",
       "    }\n",
       "</style>\n",
       "<table border=\"1\" class=\"dataframe\">\n",
       "  <thead>\n",
       "    <tr style=\"text-align: right;\">\n",
       "      <th></th>\n",
       "      <th>make</th>\n",
       "      <th>top_make</th>\n",
       "    </tr>\n",
       "  </thead>\n",
       "  <tbody>\n",
       "    <tr>\n",
       "      <th>14</th>\n",
       "      <td>ford</td>\n",
       "      <td>ford</td>\n",
       "    </tr>\n",
       "    <tr>\n",
       "      <th>7</th>\n",
       "      <td>chevrolet</td>\n",
       "      <td>chevrolet</td>\n",
       "    </tr>\n",
       "    <tr>\n",
       "      <th>36</th>\n",
       "      <td>nissan</td>\n",
       "      <td>nissan</td>\n",
       "    </tr>\n",
       "    <tr>\n",
       "      <th>50</th>\n",
       "      <td>toyota</td>\n",
       "      <td>toyota</td>\n",
       "    </tr>\n",
       "    <tr>\n",
       "      <th>10</th>\n",
       "      <td>dodge</td>\n",
       "      <td>dodge</td>\n",
       "    </tr>\n",
       "    <tr>\n",
       "      <th>17</th>\n",
       "      <td>honda</td>\n",
       "      <td>honda</td>\n",
       "    </tr>\n",
       "    <tr>\n",
       "      <th>19</th>\n",
       "      <td>hyundai</td>\n",
       "      <td>hyundai</td>\n",
       "    </tr>\n",
       "    <tr>\n",
       "      <th>4</th>\n",
       "      <td>bmw</td>\n",
       "      <td>bmw</td>\n",
       "    </tr>\n",
       "    <tr>\n",
       "      <th>24</th>\n",
       "      <td>kia</td>\n",
       "      <td>kia</td>\n",
       "    </tr>\n",
       "    <tr>\n",
       "      <th>8</th>\n",
       "      <td>chrysler</td>\n",
       "      <td>chrysler</td>\n",
       "    </tr>\n",
       "    <tr>\n",
       "      <th>20</th>\n",
       "      <td>infiniti</td>\n",
       "      <td>infiniti</td>\n",
       "    </tr>\n",
       "  </tbody>\n",
       "</table>\n",
       "</div>"
      ],
      "text/plain": [
       "         make   top_make\n",
       "14       ford       ford\n",
       "7   chevrolet  chevrolet\n",
       "36     nissan     nissan\n",
       "50     toyota     toyota\n",
       "10      dodge      dodge\n",
       "17      honda      honda\n",
       "19    hyundai    hyundai\n",
       "4         bmw        bmw\n",
       "24        kia        kia\n",
       "8    chrysler   chrysler\n",
       "20   infiniti   infiniti"
      ]
     },
     "execution_count": 97,
     "metadata": {},
     "output_type": "execute_result"
    }
   ],
   "source": [
    "# Top Brand based on Year of making\n",
    "top_make = df_clean.groupby('make')['year'].count().reset_index().sort_values('year', ascending=False)\n",
    "top_make = top_make.iloc[:11]\n",
    "top_make.drop('year', axis=1, inplace=True)\n",
    "top_make['top_make'] = top_make['make']\n",
    "top_make"
   ]
  },
  {
   "cell_type": "code",
   "execution_count": 98,
   "metadata": {},
   "outputs": [
    {
     "data": {
      "text/plain": [
       "array(['kia', 'bmw', 'Other', 'nissan', 'chevrolet', 'ford', 'hyundai',\n",
       "       'infiniti', 'toyota', 'dodge', 'chrysler', 'honda'], dtype=object)"
      ]
     },
     "execution_count": 98,
     "metadata": {},
     "output_type": "execute_result"
    }
   ],
   "source": [
    "df_clean = df_clean.merge(top_make, how='left', on='make')\n",
    "df_clean['top_make'].fillna('Other', inplace=True)\n",
    "df_clean['top_make'].unique()"
   ]
  },
  {
   "cell_type": "markdown",
   "metadata": {},
   "source": [
    "### Feature Selection"
   ]
  },
  {
   "cell_type": "code",
   "execution_count": 99,
   "metadata": {},
   "outputs": [
    {
     "data": {
      "text/html": [
       "<div>\n",
       "<style scoped>\n",
       "    .dataframe tbody tr th:only-of-type {\n",
       "        vertical-align: middle;\n",
       "    }\n",
       "\n",
       "    .dataframe tbody tr th {\n",
       "        vertical-align: top;\n",
       "    }\n",
       "\n",
       "    .dataframe thead th {\n",
       "        text-align: right;\n",
       "    }\n",
       "</style>\n",
       "<table border=\"1\" class=\"dataframe\">\n",
       "  <thead>\n",
       "    <tr style=\"text-align: right;\">\n",
       "      <th></th>\n",
       "      <th>year</th>\n",
       "      <th>model</th>\n",
       "      <th>trim</th>\n",
       "      <th>body</th>\n",
       "      <th>state</th>\n",
       "      <th>condition</th>\n",
       "      <th>odometer</th>\n",
       "      <th>color</th>\n",
       "      <th>interior</th>\n",
       "      <th>mmr</th>\n",
       "      <th>Overall</th>\n",
       "      <th>made_in</th>\n",
       "      <th>top_make</th>\n",
       "    </tr>\n",
       "  </thead>\n",
       "  <tbody>\n",
       "    <tr>\n",
       "      <th>0</th>\n",
       "      <td>2015</td>\n",
       "      <td>sorento</td>\n",
       "      <td>lx</td>\n",
       "      <td>suv</td>\n",
       "      <td>ca</td>\n",
       "      <td>5.000</td>\n",
       "      <td>16639.000</td>\n",
       "      <td>white</td>\n",
       "      <td>black</td>\n",
       "      <td>20500</td>\n",
       "      <td>Good</td>\n",
       "      <td>KOR</td>\n",
       "      <td>kia</td>\n",
       "    </tr>\n",
       "    <tr>\n",
       "      <th>1</th>\n",
       "      <td>2015</td>\n",
       "      <td>sorento</td>\n",
       "      <td>lx</td>\n",
       "      <td>suv</td>\n",
       "      <td>ca</td>\n",
       "      <td>5.000</td>\n",
       "      <td>9393.000</td>\n",
       "      <td>white</td>\n",
       "      <td>beige</td>\n",
       "      <td>20800</td>\n",
       "      <td>Fair</td>\n",
       "      <td>KOR</td>\n",
       "      <td>kia</td>\n",
       "    </tr>\n",
       "    <tr>\n",
       "      <th>2</th>\n",
       "      <td>2014</td>\n",
       "      <td>3 series</td>\n",
       "      <td>328i sulev</td>\n",
       "      <td>sedan</td>\n",
       "      <td>ca</td>\n",
       "      <td>4.500</td>\n",
       "      <td>1331.000</td>\n",
       "      <td>gray</td>\n",
       "      <td>black</td>\n",
       "      <td>31900</td>\n",
       "      <td>Poor</td>\n",
       "      <td>DEU</td>\n",
       "      <td>bmw</td>\n",
       "    </tr>\n",
       "  </tbody>\n",
       "</table>\n",
       "</div>"
      ],
      "text/plain": [
       "   year     model        trim   body state  condition  odometer  color  \\\n",
       "0  2015   sorento          lx    suv    ca      5.000 16639.000  white   \n",
       "1  2015   sorento          lx    suv    ca      5.000  9393.000  white   \n",
       "2  2014  3 series  328i sulev  sedan    ca      4.500  1331.000   gray   \n",
       "\n",
       "  interior    mmr Overall made_in top_make  \n",
       "0    black  20500    Good     KOR      kia  \n",
       "1    beige  20800    Fair     KOR      kia  \n",
       "2    black  31900    Poor     DEU      bmw  "
      ]
     },
     "execution_count": 99,
     "metadata": {},
     "output_type": "execute_result"
    }
   ],
   "source": [
    "# Select the features\n",
    "df_clean = df_clean.drop(['make', 'transmission','seller'], axis=1)\n",
    "df_clean.head(3)"
   ]
  },
  {
   "cell_type": "markdown",
   "metadata": {},
   "source": [
    "## Train-Test Split"
   ]
  },
  {
   "cell_type": "code",
   "execution_count": 100,
   "metadata": {},
   "outputs": [],
   "source": [
    "df_new = df_clean.copy()"
   ]
  },
  {
   "cell_type": "code",
   "execution_count": 101,
   "metadata": {},
   "outputs": [
    {
     "name": "stdout",
     "output_type": "stream",
     "text": [
      "Feature: year\n",
      "Number of unique values: 26\n",
      "Unique values: [2015 2014 2013 2012 2011 2010 2009 2008 2007 2006 2005 2004 2003 2002\n",
      " 2001 2000 1999 1998 1996 1995 1997 1994 1993 1992 1991 1990]\n",
      "--------------------------------------------------\n",
      "Feature: model\n",
      "Number of unique values: 759\n",
      "Unique values: ['sorento' '3 series' 's60' '6 series gran coupe' 'altima' 'm5' 'cruze'\n",
      " 'a4' 'camaro' 'a6' 'optima' 'fusion' 'q5' '6 series' 'impala' '5 series'\n",
      " 'a3' 'xc70' 'sq5' 's5' 'suburban' 'elr' 'v60' 'x6' 'ilx' 'k900' 'malibu'\n",
      " 'rx 350' 'versa' 'elantra' 'versa note' 'a8' 'x1' 'enclave' 'tts'\n",
      " '4 series' 'mdx' 'silverado 1500' 'srx' 'x5' 'g coupe' 'g sedan' 'fx'\n",
      " 'santa fe' 'genesis' 'equus' 'sonata' 'sonata hybrid' 'accent' 'veloster'\n",
      " 'elantra coupe' 'azera' 'tucson' 'genesis coupe' 'wrangler' 'sclass'\n",
      " 'gs 350' 'outlander' 'mazda2' 'rio' 'cclass' '370z' 'soul'\n",
      " 'outlander sport' 'es 350' 'eclass' 'mazda3' 'cooper clubman' 'cx9'\n",
      " 'forte' 'compass' 'jx' 'lr4' 'mazda5' 'm' 'cooper' 'range rover evoque'\n",
      " 'ls 460' 'glkclass' 'sportage' 'grand cherokee' 'mkx' 'xf' 'glclass'\n",
      " 'mclass' 'cooper countryman' 'lancer' 'range rover sport' 'passat'\n",
      " 'corolla' 'xc60' 'sienna' 'juke' 'yaris' 'nv' 'cc' 'camry' 'tacoma'\n",
      " 'jetta' 'impreza wrx']\n",
      "--------------------------------------------------\n",
      "Feature: trim\n",
      "Number of unique values: 1471\n",
      "Unique values: ['lx' '328i sulev' 't5' '650i' '25 s' 'base' '1lt'\n",
      " '20t premium plus quattro' 'lt' '30t prestige quattro' 'se' 'ls' 'ltz'\n",
      " '528i' '18 tfsi premium' 't6' '30t premium plus quattro'\n",
      " 'premium plus quattro' 'xdrive35i' '2lt' 'technology package' 'luxury'\n",
      " '16 sl' '16 sv' 'l 30t quattro' 'sdrive28i' 'leather group' 'quattro'\n",
      " '428i sulev' 'advance and entertainment packages' '535d' 'g37 sport'\n",
      " 'g37 journey' 'fx37' 'limited' '50 rspec' 'signature' 'gls' 'sport'\n",
      " 'sport 20t' 'turbo' 'gs' 'ultimate' '38' '38 track' 'unlimited rubicon'\n",
      " 'ex hybrid' '25' 's550' 'sx' 'unlimited sahara' 'c250 sport' 'touring' ''\n",
      " 'le' 'e350 sport' 'i sv' 'latitude' 'i touring' 'jx35' 'g37x' 'hse lux'\n",
      " 'ex' 'i sport' 'm37' 'pure plus' 'c250' 'l' 'glk350' 'unlimited sport'\n",
      " 'gl450 4matic' 'ml350' 'pure premium' 'ralliart'\n",
      " 'supercharged limited edition' 'e350' 'es' 'se pzev' '32'\n",
      " 'le 7passenger mobility auto access' 's' '1500 s' 'rline pzev' 'xle'\n",
      " 'prerunner' '35 sl' '25l pzev' 'wolfsburg edition pzev' 'tdi' '35 sv'\n",
      " 'carrera s' '16 s plus' 'sr' 'two' 'sv' '18 sl' 's pzev' 'fe s' 'sr5'\n",
      " '25i premium pzev']\n",
      "--------------------------------------------------\n",
      "Feature: body\n",
      "Number of unique values: 41\n",
      "Unique values: ['suv' 'sedan' 'convertible' 'coupe' 'wagon' 'hatchback' 'crew cab'\n",
      " 'g coupe' 'g sedan' 'elantra coupe' 'genesis coupe' 'minivan' 'van'\n",
      " 'double cab' 'king cab' 'cts coupe' 'supercrew' 'e-series van'\n",
      " 'extended cab' 'supercab' 'g convertible' 'regular cab' 'quad cab'\n",
      " 'crewmax cab' 'cts-v coupe' 'g37 convertible' 'access cab' 'club cab'\n",
      " 'q60 convertible' 'cts wagon' 'g37 coupe' 'mega cab' 'cab plus 4'\n",
      " 'q60 coupe' 'tsx sport wagon' 'promaster cargo van' 'cab plus'\n",
      " 'beetle convertible' 'granturismo convertible' 'cts-v wagon'\n",
      " 'transit van']\n",
      "--------------------------------------------------\n",
      "Feature: state\n",
      "Number of unique values: 34\n",
      "Unique values: ['ca' 'tx' 'mn' 'az' 'wi' 'tn' 'md' 'pa' 'ne' 'oh' 'fl' 'mi' 'nj' 'va'\n",
      " 'sc' 'in' 'il' 'co' 'mo' 'ga' 'ut' 'nv' 'ma' 'pr' 'nc' 'ny' 'or' 'wa'\n",
      " 'la' 'hi' 'ok' 'ms' 'al' 'nm']\n",
      "--------------------------------------------------\n",
      "Feature: condition\n",
      "Number of unique values: 41\n",
      "Unique values: [5.  4.5 4.1 4.3 1.  3.4 2.  4.2 3.  4.8 4.9 1.7 1.9 2.9 3.8 4.4 4.7 3.2\n",
      " 4.  2.5 3.7 3.9 3.1 2.8 4.6 3.5 2.6 2.1 3.6 2.2 2.7 2.4 3.3 2.3 1.6 1.8\n",
      " 1.2 1.4 1.1 1.3 1.5]\n",
      "--------------------------------------------------\n",
      "Feature: odometer\n",
      "Number of unique values: 157690\n",
      "Unique values: [1.6639e+04 9.3930e+03 1.3310e+03 1.4282e+04 2.6410e+03 5.5540e+03\n",
      " 1.4943e+04 2.8617e+04 9.5570e+03 4.8090e+03 1.4414e+04 2.0340e+03\n",
      " 5.5590e+03 1.4634e+04 1.1398e+04 7.9830e+03 1.3441e+04 8.8190e+03\n",
      " 1.4538e+04 2.5969e+04 5.8260e+03 1.0736e+04 1.6506e+04 1.2725e+04\n",
      " 1.1874e+04 3.7888e+04 9.6060e+03 1.3757e+04 5.8750e+03 1.2862e+04\n",
      " 1.1426e+04 1.6360e+04 9.0270e+03 4.4360e+03 1.3205e+04 1.1846e+04\n",
      " 3.7900e+02 1.2242e+04 4.0661e+04 9.0510e+03 1.3878e+04 1.0906e+04\n",
      " 7.3050e+03 4.3140e+03 5.3040e+03 1.0357e+04 6.1050e+03 7.7700e+03\n",
      " 5.2140e+03 7.7660e+03 9.6840e+03 3.1000e+01 1.6080e+03 9.9140e+03\n",
      " 7.8790e+03 1.4176e+04 1.7594e+04 1.9060e+03 8.0370e+03 5.7730e+03\n",
      " 3.2918e+04 1.9689e+04 2.0595e+04 1.3623e+04 1.3606e+04 3.7752e+04\n",
      " 9.1610e+03 1.1001e+04 1.4599e+04 1.3386e+04 1.5161e+04 3.9960e+03\n",
      " 1.0551e+04 1.8152e+04 1.3452e+04 3.7938e+04 3.9623e+04 1.6348e+04\n",
      " 3.3670e+03 2.1523e+04 4.2050e+03 8.8910e+03 8.1540e+03 6.7260e+03\n",
      " 3.6771e+04 9.5520e+03 1.0673e+04 1.4806e+04 7.9240e+03 1.2752e+04\n",
      " 6.7590e+03 1.2292e+04 1.5727e+04 1.3711e+04 8.6830e+03 4.5030e+03\n",
      " 7.8000e+03 9.6850e+03 1.0615e+04 1.3031e+04]\n",
      "--------------------------------------------------\n",
      "Feature: color\n",
      "Number of unique values: 19\n",
      "Unique values: ['white' 'gray' 'black' 'red' 'silver' 'brown' 'beige' 'blue' 'purple'\n",
      " 'burgundy' 'gold' 'yellow' 'green' 'charcoal' 'orange' 'off-white'\n",
      " 'turquoise' 'pink' 'lime']\n",
      "--------------------------------------------------\n",
      "Feature: interior\n",
      "Number of unique values: 16\n",
      "Unique values: ['black' 'beige' 'tan' 'brown' 'gray' 'burgundy' 'white' 'silver'\n",
      " 'off-white' 'red' 'yellow' 'green' 'purple' 'blue' 'orange' 'gold']\n",
      "--------------------------------------------------\n",
      "Feature: mmr\n",
      "Number of unique values: 1097\n",
      "Unique values: [20500 20800 31900 27500 66000 15350 69000 11900 32100 26300 47300 15150\n",
      " 20600 14750 37100 17750 68000 24300 34200 24000 67000 32300 22200 11600\n",
      " 48600 46500 20700 57300 65000 30200 49400 31300 54800 31200 13050 22700\n",
      " 31500 15500 39500 16600 41200 19400 71000 41000 24200 10900 22500 13800\n",
      " 21500 24100 12050 62000 23700 28400 21400 31000 41400 13850 12950 13350\n",
      " 13900 14700 14150 26900 13000 30700 17850 14600 46300 33500 57500 31700\n",
      " 19950 12800 25900 25700 22800 27200 25100 23300 30800 28300 27100 10250\n",
      " 28500 11250 25200 11400 22400 26800 10950 13450 12150 19650 18000 19500\n",
      " 23000 22300 23400 12650]\n",
      "--------------------------------------------------\n",
      "Feature: Overall\n",
      "Number of unique values: 4\n",
      "Unique values: ['Good' 'Fair' 'Poor' 'Very Good']\n",
      "--------------------------------------------------\n",
      "Feature: made_in\n",
      "Number of unique values: 7\n",
      "Unique values: ['KOR' 'DEU' 'SWE' 'JPN' 'US' 'UK' 'ITA']\n",
      "--------------------------------------------------\n",
      "Feature: top_make\n",
      "Number of unique values: 12\n",
      "Unique values: ['kia' 'bmw' 'Other' 'nissan' 'chevrolet' 'ford' 'hyundai' 'infiniti'\n",
      " 'toyota' 'dodge' 'chrysler' 'honda']\n",
      "--------------------------------------------------\n"
     ]
    }
   ],
   "source": [
    "\n",
    "\n",
    "# Display unique values for each column\n",
    "for column in df_new.columns:\n",
    "    unique_values = df_new[column].unique()\n",
    "    print(f\"Feature: {column}\")\n",
    "    print(f\"Number of unique values: {len(unique_values)}\")\n",
    "    print(f\"Unique values: {unique_values[:100]}\")  # Show first 10 unique values\n",
    "    print(\"-\" * 50)\n"
   ]
  },
  {
   "cell_type": "code",
   "execution_count": 102,
   "metadata": {},
   "outputs": [
    {
     "data": {
      "text/html": [
       "<div>\n",
       "<style scoped>\n",
       "    .dataframe tbody tr th:only-of-type {\n",
       "        vertical-align: middle;\n",
       "    }\n",
       "\n",
       "    .dataframe tbody tr th {\n",
       "        vertical-align: top;\n",
       "    }\n",
       "\n",
       "    .dataframe thead th {\n",
       "        text-align: right;\n",
       "    }\n",
       "</style>\n",
       "<table border=\"1\" class=\"dataframe\">\n",
       "  <thead>\n",
       "    <tr style=\"text-align: right;\">\n",
       "      <th></th>\n",
       "      <th>year</th>\n",
       "      <th>condition</th>\n",
       "      <th>odometer</th>\n",
       "      <th>mmr</th>\n",
       "    </tr>\n",
       "  </thead>\n",
       "  <tbody>\n",
       "    <tr>\n",
       "      <th>count</th>\n",
       "      <td>439433.000</td>\n",
       "      <td>439433.000</td>\n",
       "      <td>439433.000</td>\n",
       "      <td>439433.000</td>\n",
       "    </tr>\n",
       "    <tr>\n",
       "      <th>mean</th>\n",
       "      <td>2010.148</td>\n",
       "      <td>3.414</td>\n",
       "      <td>67678.007</td>\n",
       "      <td>13660.393</td>\n",
       "    </tr>\n",
       "    <tr>\n",
       "      <th>std</th>\n",
       "      <td>3.824</td>\n",
       "      <td>0.940</td>\n",
       "      <td>50965.824</td>\n",
       "      <td>9436.111</td>\n",
       "    </tr>\n",
       "    <tr>\n",
       "      <th>min</th>\n",
       "      <td>1990.000</td>\n",
       "      <td>1.000</td>\n",
       "      <td>2.000</td>\n",
       "      <td>50.000</td>\n",
       "    </tr>\n",
       "    <tr>\n",
       "      <th>25%</th>\n",
       "      <td>2008.000</td>\n",
       "      <td>2.700</td>\n",
       "      <td>28936.000</td>\n",
       "      <td>7275.000</td>\n",
       "    </tr>\n",
       "    <tr>\n",
       "      <th>50%</th>\n",
       "      <td>2012.000</td>\n",
       "      <td>3.600</td>\n",
       "      <td>52596.000</td>\n",
       "      <td>12200.000</td>\n",
       "    </tr>\n",
       "    <tr>\n",
       "      <th>75%</th>\n",
       "      <td>2013.000</td>\n",
       "      <td>4.200</td>\n",
       "      <td>97978.000</td>\n",
       "      <td>18050.000</td>\n",
       "    </tr>\n",
       "    <tr>\n",
       "      <th>max</th>\n",
       "      <td>2015.000</td>\n",
       "      <td>5.000</td>\n",
       "      <td>980113.000</td>\n",
       "      <td>182000.000</td>\n",
       "    </tr>\n",
       "  </tbody>\n",
       "</table>\n",
       "</div>"
      ],
      "text/plain": [
       "            year  condition   odometer        mmr\n",
       "count 439433.000 439433.000 439433.000 439433.000\n",
       "mean    2010.148      3.414  67678.007  13660.393\n",
       "std        3.824      0.940  50965.824   9436.111\n",
       "min     1990.000      1.000      2.000     50.000\n",
       "25%     2008.000      2.700  28936.000   7275.000\n",
       "50%     2012.000      3.600  52596.000  12200.000\n",
       "75%     2013.000      4.200  97978.000  18050.000\n",
       "max     2015.000      5.000 980113.000 182000.000"
      ]
     },
     "execution_count": 102,
     "metadata": {},
     "output_type": "execute_result"
    }
   ],
   "source": [
    "df_new.describe()"
   ]
  },
  {
   "cell_type": "code",
   "execution_count": 103,
   "metadata": {},
   "outputs": [],
   "source": [
    "from sklearn.model_selection import train_test_split\n",
    "\n",
    "# Split the data\n",
    "features = df_clean.select_dtypes([\"float64\", \"int64\", \"boolean\", \"uint8\",'string','object']).columns\n",
    "x = df_clean[features].drop('mmr', axis=1)\n",
    "y = df_clean.mmr\n",
    "xtrain, xtest, ytrain, ytest = train_test_split(x, y, test_size=0.2, random_state=42)"
   ]
  },
  {
   "cell_type": "markdown",
   "metadata": {},
   "source": [
    "#### Target Encoding\n",
    "Target encoding is performed on several features to maintain important information contained in category features, especially in the context of target predictions."
   ]
  },
  {
   "cell_type": "code",
   "execution_count": 104,
   "metadata": {},
   "outputs": [
    {
     "name": "stdout",
     "output_type": "stream",
     "text": [
      "397357    21000\n",
      "162737     8850\n",
      "130917    21900\n",
      "124181     9600\n",
      "182791    21100\n",
      "Name: mmr, dtype: int64\n",
      "mmr\n"
     ]
    }
   ],
   "source": [
    "print(ytrain.head())  # Check the target variable\n",
    "print(ytrain.name)    # Check its name (it should be 'mmr')\n"
   ]
  },
  {
   "cell_type": "code",
   "execution_count": 105,
   "metadata": {},
   "outputs": [],
   "source": [
    "ytrain.name = 'mmr'\n"
   ]
  },
  {
   "cell_type": "code",
   "execution_count": 106,
   "metadata": {},
   "outputs": [
    {
     "name": "stdout",
     "output_type": "stream",
     "text": [
      "Index(['year', 'model', 'trim', 'body', 'state', 'condition', 'odometer',\n",
      "       'color', 'interior', 'Overall', 'made_in', 'top_make'],\n",
      "      dtype='object')\n"
     ]
    }
   ],
   "source": [
    "print(xtrain.columns)  # Check available columns\n"
   ]
  },
  {
   "cell_type": "code",
   "execution_count": 107,
   "metadata": {},
   "outputs": [],
   "source": [
    "cols = ['model', 'trim', 'body', 'state']  # Columns to target encode\n",
    "\n",
    "# Initialize a dictionary to store mappings for each column\n",
    "target_encodings = {}\n",
    "\n",
    "for col in cols:\n",
    "    if col in xtrain.columns:  # Check if the column exists in xtrain\n",
    "        # Calculate the mean of ytrain grouped by the column\n",
    "        means = xtrain.groupby(col).apply(lambda g: ytrain.loc[g.index].mean())\n",
    "        \n",
    "        # Store the mapping for future use\n",
    "        target_encodings[col] = means\n",
    "        \n",
    "        # Replace categories in xtrain with the corresponding mean\n",
    "        xtrain[col] = xtrain[col].map(means)\n",
    "        \n",
    "        # Replace categories in xtest with the same mapping\n",
    "        xtest[col] = xtest[col].map(means).fillna(0)  # Replace unknown categories in xtest with 0\n",
    "    else:\n",
    "        print(f\"Warning: Column '{col}' not found in xtrain.\")\n"
   ]
  },
  {
   "cell_type": "code",
   "execution_count": 108,
   "metadata": {},
   "outputs": [
    {
     "name": "stdout",
     "output_type": "stream",
     "text": [
      "Columns in xtrain: Index(['year', 'model', 'trim', 'body', 'state', 'condition', 'odometer',\n",
      "       'color', 'interior', 'Overall', 'made_in', 'top_make'],\n",
      "      dtype='object')\n",
      "Target variable: mmr\n"
     ]
    }
   ],
   "source": [
    "print(f\"Columns in xtrain: {xtrain.columns}\")\n",
    "print(f\"Target variable: {ytrain.name}\")\n"
   ]
  },
  {
   "cell_type": "code",
   "execution_count": 109,
   "metadata": {},
   "outputs": [
    {
     "name": "stdout",
     "output_type": "stream",
     "text": [
      "True\n"
     ]
    }
   ],
   "source": [
    "print(xtrain.index.equals(ytrain.index))  # Should return True\n"
   ]
  },
  {
   "cell_type": "code",
   "execution_count": null,
   "metadata": {},
   "outputs": [],
   "source": []
  },
  {
   "cell_type": "markdown",
   "metadata": {},
   "source": [
    "#### Count Encoding\n",
    "This method is used for categorical features where each category is replaced by its frequency of occurrence."
   ]
  },
  {
   "cell_type": "code",
   "execution_count": 110,
   "metadata": {},
   "outputs": [],
   "source": [
    "\n",
    "# Count encoding for 'color'\n",
    "color_counts = xtrain['color'].value_counts().to_dict()\n",
    "xtrain['color'] = xtrain['color'].map(color_counts)\n",
    "xtest['color'] = xtest['color'].map(color_counts).fillna(0)\n",
    "\n",
    "# Count encoding for 'interior'\n",
    "interior_counts = xtrain['interior'].value_counts().to_dict()\n",
    "xtrain['interior'] = xtrain['interior'].map(interior_counts)\n",
    "xtest['interior'] = xtest['interior'].map(interior_counts).fillna(0)\n"
   ]
  },
  {
   "cell_type": "markdown",
   "metadata": {},
   "source": [
    "#### One-Hot Encoding  "
   ]
  },
  {
   "cell_type": "code",
   "execution_count": 111,
   "metadata": {},
   "outputs": [],
   "source": [
    "from sklearn.preprocessing import OneHotEncoder\n",
    "ohe = OneHotEncoder(handle_unknown='ignore',sparse_output=False )\n",
    "ohe_cols = ['Overall', 'made_in', 'top_make']\n",
    "\n",
    "# Fit on the training data, then transform xtrain\n",
    "ohe.fit(xtrain[ohe_cols])\n",
    "xtrain_ohe = ohe.transform(xtrain[ohe_cols])\n",
    "ohe_feature_names = ohe.get_feature_names_out(ohe_cols)\n",
    "\n",
    "# Convert to DataFrame\n",
    "xtrain_ohe_df = pd.DataFrame(xtrain_ohe, columns=ohe_feature_names, index=xtrain.index)\n",
    "# Drop the original columns and concatenate\n",
    "xtrain.drop(columns=ohe_cols, inplace=True)\n",
    "xtrain = pd.concat([xtrain, xtrain_ohe_df], axis=1)\n",
    "\n",
    "# Transform xtest similarly\n",
    "xtest_ohe = ohe.transform(xtest[ohe_cols])\n",
    "xtest_ohe_df = pd.DataFrame(xtest_ohe, columns=ohe_feature_names, index=xtest.index)\n",
    "xtest.drop(columns=ohe_cols, inplace=True)\n",
    "xtest = pd.concat([xtest, xtest_ohe_df], axis=1)"
   ]
  },
  {
   "cell_type": "markdown",
   "metadata": {},
   "source": [
    "### Pre-Processing"
   ]
  },
  {
   "cell_type": "code",
   "execution_count": 112,
   "metadata": {},
   "outputs": [],
   "source": [
    "from sklearn.preprocessing import StandardScaler\n",
    "\n",
    "# Scaling\n",
    "scaler    = StandardScaler()\n",
    "n = ['year', 'odometer', 'condition']\n",
    "xtrain[n] = scaler.fit_transform(xtrain[n])\n",
    "xtest[n] = scaler.transform(xtest[n])"
   ]
  },
  {
   "cell_type": "markdown",
   "metadata": {},
   "source": [
    "1. From the data above, we can see at a glance what values are the top ones, appear frequently, and how many unique values each feature has.\n",
    "2. For example, Ford is the most popular brand among a total of 96 other brands. Apart from that, the sedan body is also one of the most favorite.\n",
    "3. Automatic transmission is more sought after by customers than manual by more than 90%.\n",
    "4. Black dominates both the exterior and interior colors."
   ]
  },
  {
   "cell_type": "markdown",
   "metadata": {},
   "source": [
    "----------"
   ]
  },
  {
   "cell_type": "code",
   "execution_count": 113,
   "metadata": {},
   "outputs": [],
   "source": [
    "df_clean.to_csv('cleaned_data.csv', index=False)\n"
   ]
  },
  {
   "cell_type": "markdown",
   "metadata": {},
   "source": [
    "# Modelling and Evaluation"
   ]
  },
  {
   "cell_type": "markdown",
   "metadata": {},
   "source": [
    "## Modelling"
   ]
  },
  {
   "cell_type": "code",
   "execution_count": 114,
   "metadata": {},
   "outputs": [],
   "source": [
    "from sklearn.metrics import mean_squared_error, mean_absolute_error, r2_score\n",
    "from sklearn.linear_model import LinearRegression\n",
    "from sklearn.ensemble import RandomForestRegressor, AdaBoostRegressor\n",
    "from xgboost import XGBRegressor\n",
    "import numpy as np\n",
    "import matplotlib.pyplot as plt\n",
    "\n",
    "# Evaluation function for regression models\n",
    "def eval_regression(model, y_pred, xtrain, xtest, ytrain, ytest):\n",
    "    print(\"MAE: \", mean_absolute_error(ytest, y_pred))\n",
    "    \n",
    "    # Calculate RMSE manually\n",
    "    rmse = mean_squared_error(ytest, y_pred) ** 0.5\n",
    "    print(\"RMSE: \", rmse)\n",
    "    \n",
    "    print(\"R2 score: \", r2_score(ytest, y_pred))\n",
    "    print(\"Coefficients: \", model.coef_ if hasattr(model, 'coef_') else \"Not available\")\n",
    "    print(\"Intercept: \", model.intercept_ if hasattr(model, 'intercept_') else \"Not available\")\n"
   ]
  },
  {
   "cell_type": "markdown",
   "metadata": {},
   "source": [
    "### Linear Regression"
   ]
  },
  {
   "cell_type": "code",
   "execution_count": 115,
   "metadata": {},
   "outputs": [
    {
     "name": "stdout",
     "output_type": "stream",
     "text": [
      "Linear Regression Results:\n",
      "MAE:  2754.188507203393\n",
      "RMSE:  4168.388601491562\n",
      "R2 score:  0.804965765971933\n",
      "Coefficients:  [ 2.15178680e+03  5.71135619e-01  4.06494475e-01  3.35589916e-01\n",
      "  6.56035343e-02  3.63671411e+02 -2.30303330e+03  3.95246856e-03\n",
      " -2.62362494e-03  2.57077673e+02  9.56109522e+01  1.11025806e+03\n",
      " -1.46294668e+03 -7.30401575e+01 -3.47760795e+03  4.62997740e+02\n",
      "  7.09241428e+02  2.72395114e+03 -2.15089209e+02 -1.30452991e+02\n",
      "  1.43482760e+03  1.44585297e+03  1.06683265e+03  5.23893078e+02\n",
      "  5.31483294e+02 -2.82083684e+02  1.50107589e+03 -1.37586308e+03\n",
      " -2.82117284e+03 -2.00672505e+03 -5.24439859e+02  5.06319029e+02]\n",
      "Intercept:  -4399.983591413304\n"
     ]
    }
   ],
   "source": [
    "regressor = LinearRegression()\n",
    "regressor.fit(xtrain, ytrain)\n",
    "\n",
    "# Predict\n",
    "y_pred = regressor.predict(xtest)\n",
    "\n",
    "# Evaluate\n",
    "print(\"Linear Regression Results:\")\n",
    "eval_regression(regressor, y_pred, xtrain, xtest, ytrain, ytest)"
   ]
  },
  {
   "cell_type": "markdown",
   "metadata": {},
   "source": [
    "### Random Forest Regression"
   ]
  },
  {
   "cell_type": "code",
   "execution_count": 116,
   "metadata": {},
   "outputs": [
    {
     "data": {
      "text/html": [
       "<style>#sk-container-id-2 {\n",
       "  /* Definition of color scheme common for light and dark mode */\n",
       "  --sklearn-color-text: black;\n",
       "  --sklearn-color-line: gray;\n",
       "  /* Definition of color scheme for unfitted estimators */\n",
       "  --sklearn-color-unfitted-level-0: #fff5e6;\n",
       "  --sklearn-color-unfitted-level-1: #f6e4d2;\n",
       "  --sklearn-color-unfitted-level-2: #ffe0b3;\n",
       "  --sklearn-color-unfitted-level-3: chocolate;\n",
       "  /* Definition of color scheme for fitted estimators */\n",
       "  --sklearn-color-fitted-level-0: #f0f8ff;\n",
       "  --sklearn-color-fitted-level-1: #d4ebff;\n",
       "  --sklearn-color-fitted-level-2: #b3dbfd;\n",
       "  --sklearn-color-fitted-level-3: cornflowerblue;\n",
       "\n",
       "  /* Specific color for light theme */\n",
       "  --sklearn-color-text-on-default-background: var(--sg-text-color, var(--theme-code-foreground, var(--jp-content-font-color1, black)));\n",
       "  --sklearn-color-background: var(--sg-background-color, var(--theme-background, var(--jp-layout-color0, white)));\n",
       "  --sklearn-color-border-box: var(--sg-text-color, var(--theme-code-foreground, var(--jp-content-font-color1, black)));\n",
       "  --sklearn-color-icon: #696969;\n",
       "\n",
       "  @media (prefers-color-scheme: dark) {\n",
       "    /* Redefinition of color scheme for dark theme */\n",
       "    --sklearn-color-text-on-default-background: var(--sg-text-color, var(--theme-code-foreground, var(--jp-content-font-color1, white)));\n",
       "    --sklearn-color-background: var(--sg-background-color, var(--theme-background, var(--jp-layout-color0, #111)));\n",
       "    --sklearn-color-border-box: var(--sg-text-color, var(--theme-code-foreground, var(--jp-content-font-color1, white)));\n",
       "    --sklearn-color-icon: #878787;\n",
       "  }\n",
       "}\n",
       "\n",
       "#sk-container-id-2 {\n",
       "  color: var(--sklearn-color-text);\n",
       "}\n",
       "\n",
       "#sk-container-id-2 pre {\n",
       "  padding: 0;\n",
       "}\n",
       "\n",
       "#sk-container-id-2 input.sk-hidden--visually {\n",
       "  border: 0;\n",
       "  clip: rect(1px 1px 1px 1px);\n",
       "  clip: rect(1px, 1px, 1px, 1px);\n",
       "  height: 1px;\n",
       "  margin: -1px;\n",
       "  overflow: hidden;\n",
       "  padding: 0;\n",
       "  position: absolute;\n",
       "  width: 1px;\n",
       "}\n",
       "\n",
       "#sk-container-id-2 div.sk-dashed-wrapped {\n",
       "  border: 1px dashed var(--sklearn-color-line);\n",
       "  margin: 0 0.4em 0.5em 0.4em;\n",
       "  box-sizing: border-box;\n",
       "  padding-bottom: 0.4em;\n",
       "  background-color: var(--sklearn-color-background);\n",
       "}\n",
       "\n",
       "#sk-container-id-2 div.sk-container {\n",
       "  /* jupyter's `normalize.less` sets `[hidden] { display: none; }`\n",
       "     but bootstrap.min.css set `[hidden] { display: none !important; }`\n",
       "     so we also need the `!important` here to be able to override the\n",
       "     default hidden behavior on the sphinx rendered scikit-learn.org.\n",
       "     See: https://github.com/scikit-learn/scikit-learn/issues/21755 */\n",
       "  display: inline-block !important;\n",
       "  position: relative;\n",
       "}\n",
       "\n",
       "#sk-container-id-2 div.sk-text-repr-fallback {\n",
       "  display: none;\n",
       "}\n",
       "\n",
       "div.sk-parallel-item,\n",
       "div.sk-serial,\n",
       "div.sk-item {\n",
       "  /* draw centered vertical line to link estimators */\n",
       "  background-image: linear-gradient(var(--sklearn-color-text-on-default-background), var(--sklearn-color-text-on-default-background));\n",
       "  background-size: 2px 100%;\n",
       "  background-repeat: no-repeat;\n",
       "  background-position: center center;\n",
       "}\n",
       "\n",
       "/* Parallel-specific style estimator block */\n",
       "\n",
       "#sk-container-id-2 div.sk-parallel-item::after {\n",
       "  content: \"\";\n",
       "  width: 100%;\n",
       "  border-bottom: 2px solid var(--sklearn-color-text-on-default-background);\n",
       "  flex-grow: 1;\n",
       "}\n",
       "\n",
       "#sk-container-id-2 div.sk-parallel {\n",
       "  display: flex;\n",
       "  align-items: stretch;\n",
       "  justify-content: center;\n",
       "  background-color: var(--sklearn-color-background);\n",
       "  position: relative;\n",
       "}\n",
       "\n",
       "#sk-container-id-2 div.sk-parallel-item {\n",
       "  display: flex;\n",
       "  flex-direction: column;\n",
       "}\n",
       "\n",
       "#sk-container-id-2 div.sk-parallel-item:first-child::after {\n",
       "  align-self: flex-end;\n",
       "  width: 50%;\n",
       "}\n",
       "\n",
       "#sk-container-id-2 div.sk-parallel-item:last-child::after {\n",
       "  align-self: flex-start;\n",
       "  width: 50%;\n",
       "}\n",
       "\n",
       "#sk-container-id-2 div.sk-parallel-item:only-child::after {\n",
       "  width: 0;\n",
       "}\n",
       "\n",
       "/* Serial-specific style estimator block */\n",
       "\n",
       "#sk-container-id-2 div.sk-serial {\n",
       "  display: flex;\n",
       "  flex-direction: column;\n",
       "  align-items: center;\n",
       "  background-color: var(--sklearn-color-background);\n",
       "  padding-right: 1em;\n",
       "  padding-left: 1em;\n",
       "}\n",
       "\n",
       "\n",
       "/* Toggleable style: style used for estimator/Pipeline/ColumnTransformer box that is\n",
       "clickable and can be expanded/collapsed.\n",
       "- Pipeline and ColumnTransformer use this feature and define the default style\n",
       "- Estimators will overwrite some part of the style using the `sk-estimator` class\n",
       "*/\n",
       "\n",
       "/* Pipeline and ColumnTransformer style (default) */\n",
       "\n",
       "#sk-container-id-2 div.sk-toggleable {\n",
       "  /* Default theme specific background. It is overwritten whether we have a\n",
       "  specific estimator or a Pipeline/ColumnTransformer */\n",
       "  background-color: var(--sklearn-color-background);\n",
       "}\n",
       "\n",
       "/* Toggleable label */\n",
       "#sk-container-id-2 label.sk-toggleable__label {\n",
       "  cursor: pointer;\n",
       "  display: block;\n",
       "  width: 100%;\n",
       "  margin-bottom: 0;\n",
       "  padding: 0.5em;\n",
       "  box-sizing: border-box;\n",
       "  text-align: center;\n",
       "}\n",
       "\n",
       "#sk-container-id-2 label.sk-toggleable__label-arrow:before {\n",
       "  /* Arrow on the left of the label */\n",
       "  content: \"▸\";\n",
       "  float: left;\n",
       "  margin-right: 0.25em;\n",
       "  color: var(--sklearn-color-icon);\n",
       "}\n",
       "\n",
       "#sk-container-id-2 label.sk-toggleable__label-arrow:hover:before {\n",
       "  color: var(--sklearn-color-text);\n",
       "}\n",
       "\n",
       "/* Toggleable content - dropdown */\n",
       "\n",
       "#sk-container-id-2 div.sk-toggleable__content {\n",
       "  max-height: 0;\n",
       "  max-width: 0;\n",
       "  overflow: hidden;\n",
       "  text-align: left;\n",
       "  /* unfitted */\n",
       "  background-color: var(--sklearn-color-unfitted-level-0);\n",
       "}\n",
       "\n",
       "#sk-container-id-2 div.sk-toggleable__content.fitted {\n",
       "  /* fitted */\n",
       "  background-color: var(--sklearn-color-fitted-level-0);\n",
       "}\n",
       "\n",
       "#sk-container-id-2 div.sk-toggleable__content pre {\n",
       "  margin: 0.2em;\n",
       "  border-radius: 0.25em;\n",
       "  color: var(--sklearn-color-text);\n",
       "  /* unfitted */\n",
       "  background-color: var(--sklearn-color-unfitted-level-0);\n",
       "}\n",
       "\n",
       "#sk-container-id-2 div.sk-toggleable__content.fitted pre {\n",
       "  /* unfitted */\n",
       "  background-color: var(--sklearn-color-fitted-level-0);\n",
       "}\n",
       "\n",
       "#sk-container-id-2 input.sk-toggleable__control:checked~div.sk-toggleable__content {\n",
       "  /* Expand drop-down */\n",
       "  max-height: 200px;\n",
       "  max-width: 100%;\n",
       "  overflow: auto;\n",
       "}\n",
       "\n",
       "#sk-container-id-2 input.sk-toggleable__control:checked~label.sk-toggleable__label-arrow:before {\n",
       "  content: \"▾\";\n",
       "}\n",
       "\n",
       "/* Pipeline/ColumnTransformer-specific style */\n",
       "\n",
       "#sk-container-id-2 div.sk-label input.sk-toggleable__control:checked~label.sk-toggleable__label {\n",
       "  color: var(--sklearn-color-text);\n",
       "  background-color: var(--sklearn-color-unfitted-level-2);\n",
       "}\n",
       "\n",
       "#sk-container-id-2 div.sk-label.fitted input.sk-toggleable__control:checked~label.sk-toggleable__label {\n",
       "  background-color: var(--sklearn-color-fitted-level-2);\n",
       "}\n",
       "\n",
       "/* Estimator-specific style */\n",
       "\n",
       "/* Colorize estimator box */\n",
       "#sk-container-id-2 div.sk-estimator input.sk-toggleable__control:checked~label.sk-toggleable__label {\n",
       "  /* unfitted */\n",
       "  background-color: var(--sklearn-color-unfitted-level-2);\n",
       "}\n",
       "\n",
       "#sk-container-id-2 div.sk-estimator.fitted input.sk-toggleable__control:checked~label.sk-toggleable__label {\n",
       "  /* fitted */\n",
       "  background-color: var(--sklearn-color-fitted-level-2);\n",
       "}\n",
       "\n",
       "#sk-container-id-2 div.sk-label label.sk-toggleable__label,\n",
       "#sk-container-id-2 div.sk-label label {\n",
       "  /* The background is the default theme color */\n",
       "  color: var(--sklearn-color-text-on-default-background);\n",
       "}\n",
       "\n",
       "/* On hover, darken the color of the background */\n",
       "#sk-container-id-2 div.sk-label:hover label.sk-toggleable__label {\n",
       "  color: var(--sklearn-color-text);\n",
       "  background-color: var(--sklearn-color-unfitted-level-2);\n",
       "}\n",
       "\n",
       "/* Label box, darken color on hover, fitted */\n",
       "#sk-container-id-2 div.sk-label.fitted:hover label.sk-toggleable__label.fitted {\n",
       "  color: var(--sklearn-color-text);\n",
       "  background-color: var(--sklearn-color-fitted-level-2);\n",
       "}\n",
       "\n",
       "/* Estimator label */\n",
       "\n",
       "#sk-container-id-2 div.sk-label label {\n",
       "  font-family: monospace;\n",
       "  font-weight: bold;\n",
       "  display: inline-block;\n",
       "  line-height: 1.2em;\n",
       "}\n",
       "\n",
       "#sk-container-id-2 div.sk-label-container {\n",
       "  text-align: center;\n",
       "}\n",
       "\n",
       "/* Estimator-specific */\n",
       "#sk-container-id-2 div.sk-estimator {\n",
       "  font-family: monospace;\n",
       "  border: 1px dotted var(--sklearn-color-border-box);\n",
       "  border-radius: 0.25em;\n",
       "  box-sizing: border-box;\n",
       "  margin-bottom: 0.5em;\n",
       "  /* unfitted */\n",
       "  background-color: var(--sklearn-color-unfitted-level-0);\n",
       "}\n",
       "\n",
       "#sk-container-id-2 div.sk-estimator.fitted {\n",
       "  /* fitted */\n",
       "  background-color: var(--sklearn-color-fitted-level-0);\n",
       "}\n",
       "\n",
       "/* on hover */\n",
       "#sk-container-id-2 div.sk-estimator:hover {\n",
       "  /* unfitted */\n",
       "  background-color: var(--sklearn-color-unfitted-level-2);\n",
       "}\n",
       "\n",
       "#sk-container-id-2 div.sk-estimator.fitted:hover {\n",
       "  /* fitted */\n",
       "  background-color: var(--sklearn-color-fitted-level-2);\n",
       "}\n",
       "\n",
       "/* Specification for estimator info (e.g. \"i\" and \"?\") */\n",
       "\n",
       "/* Common style for \"i\" and \"?\" */\n",
       "\n",
       ".sk-estimator-doc-link,\n",
       "a:link.sk-estimator-doc-link,\n",
       "a:visited.sk-estimator-doc-link {\n",
       "  float: right;\n",
       "  font-size: smaller;\n",
       "  line-height: 1em;\n",
       "  font-family: monospace;\n",
       "  background-color: var(--sklearn-color-background);\n",
       "  border-radius: 1em;\n",
       "  height: 1em;\n",
       "  width: 1em;\n",
       "  text-decoration: none !important;\n",
       "  margin-left: 1ex;\n",
       "  /* unfitted */\n",
       "  border: var(--sklearn-color-unfitted-level-1) 1pt solid;\n",
       "  color: var(--sklearn-color-unfitted-level-1);\n",
       "}\n",
       "\n",
       ".sk-estimator-doc-link.fitted,\n",
       "a:link.sk-estimator-doc-link.fitted,\n",
       "a:visited.sk-estimator-doc-link.fitted {\n",
       "  /* fitted */\n",
       "  border: var(--sklearn-color-fitted-level-1) 1pt solid;\n",
       "  color: var(--sklearn-color-fitted-level-1);\n",
       "}\n",
       "\n",
       "/* On hover */\n",
       "div.sk-estimator:hover .sk-estimator-doc-link:hover,\n",
       ".sk-estimator-doc-link:hover,\n",
       "div.sk-label-container:hover .sk-estimator-doc-link:hover,\n",
       ".sk-estimator-doc-link:hover {\n",
       "  /* unfitted */\n",
       "  background-color: var(--sklearn-color-unfitted-level-3);\n",
       "  color: var(--sklearn-color-background);\n",
       "  text-decoration: none;\n",
       "}\n",
       "\n",
       "div.sk-estimator.fitted:hover .sk-estimator-doc-link.fitted:hover,\n",
       ".sk-estimator-doc-link.fitted:hover,\n",
       "div.sk-label-container:hover .sk-estimator-doc-link.fitted:hover,\n",
       ".sk-estimator-doc-link.fitted:hover {\n",
       "  /* fitted */\n",
       "  background-color: var(--sklearn-color-fitted-level-3);\n",
       "  color: var(--sklearn-color-background);\n",
       "  text-decoration: none;\n",
       "}\n",
       "\n",
       "/* Span, style for the box shown on hovering the info icon */\n",
       ".sk-estimator-doc-link span {\n",
       "  display: none;\n",
       "  z-index: 9999;\n",
       "  position: relative;\n",
       "  font-weight: normal;\n",
       "  right: .2ex;\n",
       "  padding: .5ex;\n",
       "  margin: .5ex;\n",
       "  width: min-content;\n",
       "  min-width: 20ex;\n",
       "  max-width: 50ex;\n",
       "  color: var(--sklearn-color-text);\n",
       "  box-shadow: 2pt 2pt 4pt #999;\n",
       "  /* unfitted */\n",
       "  background: var(--sklearn-color-unfitted-level-0);\n",
       "  border: .5pt solid var(--sklearn-color-unfitted-level-3);\n",
       "}\n",
       "\n",
       ".sk-estimator-doc-link.fitted span {\n",
       "  /* fitted */\n",
       "  background: var(--sklearn-color-fitted-level-0);\n",
       "  border: var(--sklearn-color-fitted-level-3);\n",
       "}\n",
       "\n",
       ".sk-estimator-doc-link:hover span {\n",
       "  display: block;\n",
       "}\n",
       "\n",
       "/* \"?\"-specific style due to the `<a>` HTML tag */\n",
       "\n",
       "#sk-container-id-2 a.estimator_doc_link {\n",
       "  float: right;\n",
       "  font-size: 1rem;\n",
       "  line-height: 1em;\n",
       "  font-family: monospace;\n",
       "  background-color: var(--sklearn-color-background);\n",
       "  border-radius: 1rem;\n",
       "  height: 1rem;\n",
       "  width: 1rem;\n",
       "  text-decoration: none;\n",
       "  /* unfitted */\n",
       "  color: var(--sklearn-color-unfitted-level-1);\n",
       "  border: var(--sklearn-color-unfitted-level-1) 1pt solid;\n",
       "}\n",
       "\n",
       "#sk-container-id-2 a.estimator_doc_link.fitted {\n",
       "  /* fitted */\n",
       "  border: var(--sklearn-color-fitted-level-1) 1pt solid;\n",
       "  color: var(--sklearn-color-fitted-level-1);\n",
       "}\n",
       "\n",
       "/* On hover */\n",
       "#sk-container-id-2 a.estimator_doc_link:hover {\n",
       "  /* unfitted */\n",
       "  background-color: var(--sklearn-color-unfitted-level-3);\n",
       "  color: var(--sklearn-color-background);\n",
       "  text-decoration: none;\n",
       "}\n",
       "\n",
       "#sk-container-id-2 a.estimator_doc_link.fitted:hover {\n",
       "  /* fitted */\n",
       "  background-color: var(--sklearn-color-fitted-level-3);\n",
       "}\n",
       "</style><div id=\"sk-container-id-2\" class=\"sk-top-container\"><div class=\"sk-text-repr-fallback\"><pre>RandomForestRegressor(oob_score=True, random_state=104, verbose=False)</pre><b>In a Jupyter environment, please rerun this cell to show the HTML representation or trust the notebook. <br />On GitHub, the HTML representation is unable to render, please try loading this page with nbviewer.org.</b></div><div class=\"sk-container\" hidden><div class=\"sk-item\"><div class=\"sk-estimator fitted sk-toggleable\"><input class=\"sk-toggleable__control sk-hidden--visually\" id=\"sk-estimator-id-2\" type=\"checkbox\" checked><label for=\"sk-estimator-id-2\" class=\"sk-toggleable__label fitted sk-toggleable__label-arrow fitted\">&nbsp;&nbsp;RandomForestRegressor<a class=\"sk-estimator-doc-link fitted\" rel=\"noreferrer\" target=\"_blank\" href=\"https://scikit-learn.org/1.5/modules/generated/sklearn.ensemble.RandomForestRegressor.html\">?<span>Documentation for RandomForestRegressor</span></a><span class=\"sk-estimator-doc-link fitted\">i<span>Fitted</span></span></label><div class=\"sk-toggleable__content fitted\"><pre>RandomForestRegressor(oob_score=True, random_state=104, verbose=False)</pre></div> </div></div></div></div>"
      ],
      "text/plain": [
       "RandomForestRegressor(oob_score=True, random_state=104, verbose=False)"
      ]
     },
     "execution_count": 116,
     "metadata": {},
     "output_type": "execute_result"
    }
   ],
   "source": [
    "from sklearn.ensemble import RandomForestRegressor\n",
    "\n",
    "# Training model random forest\n",
    "rf = RandomForestRegressor(random_state=104 , verbose=False, oob_score=True )\n",
    "rf.fit(xtrain, ytrain)"
   ]
  },
  {
   "cell_type": "code",
   "execution_count": 117,
   "metadata": {},
   "outputs": [
    {
     "name": "stdout",
     "output_type": "stream",
     "text": [
      "OOB R² score: 0.9804015789065624\n"
     ]
    }
   ],
   "source": [
    "# Predict\n",
    "ytrain_pred = rf.predict(xtrain)\n",
    "ytest_pred = rf.predict(xtest)\n",
    "print(\"OOB R² score:\", rf.oob_score_)"
   ]
  },
  {
   "cell_type": "code",
   "execution_count": 118,
   "metadata": {},
   "outputs": [],
   "source": [
    "# import numpy as np\n",
    "# import matplotlib.pyplot as plt\n",
    "# from sklearn.metrics import r2_score, mean_absolute_error\n",
    "# from sklearn.model_selection import learning_curve\n",
    "\n",
    "# # Function to plot learning curves for R² and MAE\n",
    "# def plot_learning_curves(model, X_train, y_train, X_test, y_test, metric, metric_name):\n",
    "#     train_sizes = np.linspace(0.1, 1.0, 10)\n",
    "#     train_scores = []\n",
    "#     test_scores = []\n",
    "\n",
    "#     for train_size in train_sizes:\n",
    "#         # Determine the size of the training subset\n",
    "#         subset_size = int(train_size * len(X_train))\n",
    "#         X_train_subset = X_train[:subset_size]\n",
    "#         y_train_subset = y_train[:subset_size]\n",
    "\n",
    "#         # Fit the model on the training subset\n",
    "#         model.fit(X_train_subset, y_train_subset)\n",
    "\n",
    "#         # Predict on the training and testing sets\n",
    "#         y_train_pred = model.predict(X_train_subset)\n",
    "#         y_test_pred = model.predict(X_test)\n",
    "\n",
    "#         # Calculate the metric for training and testing sets\n",
    "#         train_scores.append(metric(y_train_subset, y_train_pred))\n",
    "#         test_scores.append(metric(y_test, y_test_pred))\n",
    "\n",
    "#     # Plot the learning curve\n",
    "#     plt.figure(figsize=(8, 6))\n",
    "#     plt.plot(train_sizes, train_scores, label=\"Training Score\", marker=\"o\")\n",
    "#     plt.plot(train_sizes, test_scores, label=\"Testing Score\", marker=\"o\")\n",
    "#     plt.title(f\"Learning Curve: {metric_name}\")\n",
    "#     plt.xlabel(\"Fraction of Training Data\")\n",
    "#     plt.ylabel(metric_name)\n",
    "#     plt.legend()\n",
    "#     plt.grid()\n",
    "#     plt.show()\n",
    "\n",
    "# # Plot learning curves for R²\n",
    "# plot_learning_curves(rf, xtrain.values, ytrain.values, xtest.values, ytest.values, r2_score, \"R²\")\n",
    "\n",
    "# # Plot learning curves for MAE\n",
    "# plot_learning_curves(rf, xtrain.values, ytrain.values, xtest.values, ytest.values, mean_absolute_error, \"Mean Absolute Error\")\n"
   ]
  },
  {
   "cell_type": "code",
   "execution_count": 119,
   "metadata": {},
   "outputs": [
    {
     "name": "stdout",
     "output_type": "stream",
     "text": [
      "MAE train:  252.5614101710729\n",
      "MAE test:  683.7188748051475\n",
      "RMSE train:  490.51305035400503\n",
      "RMSE test:  1460.4583624376921\n",
      "R2 score train:  0.9972974227191793\n",
      "R2 score test:  0.9760584199189569\n"
     ]
    }
   ],
   "source": [
    "def evaluasi(model, ytrain_pred, ytest_pred, xtrain, xtest, ytrain,  ytest):\n",
    "    print(\"MAE train: \" , mean_absolute_error(ytrain, ytrain_pred))\n",
    "    print(\"MAE test: \" , mean_absolute_error(ytest, ytest_pred))\n",
    "    print(\"RMSE train: \" , mean_squared_error(ytrain, ytrain_pred, squared=False))\n",
    "    print(\"RMSE test: \" , mean_squared_error(ytest, ytest_pred, squared=False))\n",
    "    print('R2 score train: ', r2_score(ytrain, ytrain_pred))\n",
    "    print('R2 score test: ', r2_score(ytest, ytest_pred))\n",
    "\n",
    "evaluasi(rf, ytrain_pred, ytest_pred, xtrain, xtest, ytrain, ytest)"
   ]
  },
  {
   "cell_type": "markdown",
   "metadata": {},
   "source": [
    "### XGBoost"
   ]
  },
  {
   "cell_type": "code",
   "execution_count": 120,
   "metadata": {},
   "outputs": [
    {
     "ename": "KeyboardInterrupt",
     "evalue": "",
     "output_type": "error",
     "traceback": [
      "\u001b[1;31m---------------------------------------------------------------------------\u001b[0m",
      "\u001b[1;31mKeyboardInterrupt\u001b[0m                         Traceback (most recent call last)",
      "Cell \u001b[1;32mIn[120], line 11\u001b[0m\n\u001b[0;32m      8\u001b[0m adaboost_model \u001b[38;5;241m=\u001b[39m AdaBoostRegressor(estimator\u001b[38;5;241m=\u001b[39mxgb_base, n_estimators\u001b[38;5;241m=\u001b[39m\u001b[38;5;241m200\u001b[39m, learning_rate\u001b[38;5;241m=\u001b[39m\u001b[38;5;241m0.01\u001b[39m)\n\u001b[0;32m     10\u001b[0m \u001b[38;5;66;03m# Train the AdaBoost model\u001b[39;00m\n\u001b[1;32m---> 11\u001b[0m \u001b[43madaboost_model\u001b[49m\u001b[38;5;241;43m.\u001b[39;49m\u001b[43mfit\u001b[49m\u001b[43m(\u001b[49m\u001b[43mxtrain\u001b[49m\u001b[43m,\u001b[49m\u001b[43m \u001b[49m\u001b[43mytrain\u001b[49m\u001b[43m)\u001b[49m\n\u001b[0;32m     13\u001b[0m \u001b[38;5;66;03m# Evaluate the model\u001b[39;00m\n\u001b[0;32m     14\u001b[0m \u001b[38;5;28;01mfrom\u001b[39;00m \u001b[38;5;21;01msklearn\u001b[39;00m\u001b[38;5;21;01m.\u001b[39;00m\u001b[38;5;21;01mmetrics\u001b[39;00m \u001b[38;5;28;01mimport\u001b[39;00m mean_absolute_error, mean_squared_error, r2_score\n",
      "File \u001b[1;32mc:\\Users\\toqaa\\anaconda3\\envs\\ml_projects\\lib\\site-packages\\sklearn\\base.py:1473\u001b[0m, in \u001b[0;36m_fit_context.<locals>.decorator.<locals>.wrapper\u001b[1;34m(estimator, *args, **kwargs)\u001b[0m\n\u001b[0;32m   1466\u001b[0m     estimator\u001b[38;5;241m.\u001b[39m_validate_params()\n\u001b[0;32m   1468\u001b[0m \u001b[38;5;28;01mwith\u001b[39;00m config_context(\n\u001b[0;32m   1469\u001b[0m     skip_parameter_validation\u001b[38;5;241m=\u001b[39m(\n\u001b[0;32m   1470\u001b[0m         prefer_skip_nested_validation \u001b[38;5;129;01mor\u001b[39;00m global_skip_validation\n\u001b[0;32m   1471\u001b[0m     )\n\u001b[0;32m   1472\u001b[0m ):\n\u001b[1;32m-> 1473\u001b[0m     \u001b[38;5;28;01mreturn\u001b[39;00m fit_method(estimator, \u001b[38;5;241m*\u001b[39margs, \u001b[38;5;241m*\u001b[39m\u001b[38;5;241m*\u001b[39mkwargs)\n",
      "File \u001b[1;32mc:\\Users\\toqaa\\anaconda3\\envs\\ml_projects\\lib\\site-packages\\sklearn\\ensemble\\_weight_boosting.py:169\u001b[0m, in \u001b[0;36mBaseWeightBoosting.fit\u001b[1;34m(self, X, y, sample_weight)\u001b[0m\n\u001b[0;32m    166\u001b[0m sample_weight[zero_weight_mask] \u001b[38;5;241m=\u001b[39m \u001b[38;5;241m0.0\u001b[39m\n\u001b[0;32m    168\u001b[0m \u001b[38;5;66;03m# Boosting step\u001b[39;00m\n\u001b[1;32m--> 169\u001b[0m sample_weight, estimator_weight, estimator_error \u001b[38;5;241m=\u001b[39m \u001b[38;5;28;43mself\u001b[39;49m\u001b[38;5;241;43m.\u001b[39;49m\u001b[43m_boost\u001b[49m\u001b[43m(\u001b[49m\n\u001b[0;32m    170\u001b[0m \u001b[43m    \u001b[49m\u001b[43miboost\u001b[49m\u001b[43m,\u001b[49m\u001b[43m \u001b[49m\u001b[43mX\u001b[49m\u001b[43m,\u001b[49m\u001b[43m \u001b[49m\u001b[43my\u001b[49m\u001b[43m,\u001b[49m\u001b[43m \u001b[49m\u001b[43msample_weight\u001b[49m\u001b[43m,\u001b[49m\u001b[43m \u001b[49m\u001b[43mrandom_state\u001b[49m\n\u001b[0;32m    171\u001b[0m \u001b[43m\u001b[49m\u001b[43m)\u001b[49m\n\u001b[0;32m    173\u001b[0m \u001b[38;5;66;03m# Early termination\u001b[39;00m\n\u001b[0;32m    174\u001b[0m \u001b[38;5;28;01mif\u001b[39;00m sample_weight \u001b[38;5;129;01mis\u001b[39;00m \u001b[38;5;28;01mNone\u001b[39;00m:\n",
      "File \u001b[1;32mc:\\Users\\toqaa\\anaconda3\\envs\\ml_projects\\lib\\site-packages\\sklearn\\ensemble\\_weight_boosting.py:1169\u001b[0m, in \u001b[0;36mAdaBoostRegressor._boost\u001b[1;34m(self, iboost, X, y, sample_weight, random_state)\u001b[0m\n\u001b[0;32m   1167\u001b[0m X_ \u001b[38;5;241m=\u001b[39m _safe_indexing(X, bootstrap_idx)\n\u001b[0;32m   1168\u001b[0m y_ \u001b[38;5;241m=\u001b[39m _safe_indexing(y, bootstrap_idx)\n\u001b[1;32m-> 1169\u001b[0m \u001b[43mestimator\u001b[49m\u001b[38;5;241;43m.\u001b[39;49m\u001b[43mfit\u001b[49m\u001b[43m(\u001b[49m\u001b[43mX_\u001b[49m\u001b[43m,\u001b[49m\u001b[43m \u001b[49m\u001b[43my_\u001b[49m\u001b[43m)\u001b[49m\n\u001b[0;32m   1170\u001b[0m y_predict \u001b[38;5;241m=\u001b[39m estimator\u001b[38;5;241m.\u001b[39mpredict(X)\n\u001b[0;32m   1172\u001b[0m error_vect \u001b[38;5;241m=\u001b[39m np\u001b[38;5;241m.\u001b[39mabs(y_predict \u001b[38;5;241m-\u001b[39m y)\n",
      "File \u001b[1;32mc:\\Users\\toqaa\\anaconda3\\envs\\ml_projects\\lib\\site-packages\\xgboost\\core.py:726\u001b[0m, in \u001b[0;36mrequire_keyword_args.<locals>.throw_if.<locals>.inner_f\u001b[1;34m(*args, **kwargs)\u001b[0m\n\u001b[0;32m    724\u001b[0m \u001b[38;5;28;01mfor\u001b[39;00m k, arg \u001b[38;5;129;01min\u001b[39;00m \u001b[38;5;28mzip\u001b[39m(sig\u001b[38;5;241m.\u001b[39mparameters, args):\n\u001b[0;32m    725\u001b[0m     kwargs[k] \u001b[38;5;241m=\u001b[39m arg\n\u001b[1;32m--> 726\u001b[0m \u001b[38;5;28;01mreturn\u001b[39;00m func(\u001b[38;5;241m*\u001b[39m\u001b[38;5;241m*\u001b[39mkwargs)\n",
      "File \u001b[1;32mc:\\Users\\toqaa\\anaconda3\\envs\\ml_projects\\lib\\site-packages\\xgboost\\sklearn.py:1108\u001b[0m, in \u001b[0;36mXGBModel.fit\u001b[1;34m(self, X, y, sample_weight, base_margin, eval_set, verbose, xgb_model, sample_weight_eval_set, base_margin_eval_set, feature_weights)\u001b[0m\n\u001b[0;32m   1105\u001b[0m     obj \u001b[38;5;241m=\u001b[39m \u001b[38;5;28;01mNone\u001b[39;00m\n\u001b[0;32m   1107\u001b[0m model, metric, params \u001b[38;5;241m=\u001b[39m \u001b[38;5;28mself\u001b[39m\u001b[38;5;241m.\u001b[39m_configure_fit(xgb_model, params)\n\u001b[1;32m-> 1108\u001b[0m \u001b[38;5;28mself\u001b[39m\u001b[38;5;241m.\u001b[39m_Booster \u001b[38;5;241m=\u001b[39m \u001b[43mtrain\u001b[49m\u001b[43m(\u001b[49m\n\u001b[0;32m   1109\u001b[0m \u001b[43m    \u001b[49m\u001b[43mparams\u001b[49m\u001b[43m,\u001b[49m\n\u001b[0;32m   1110\u001b[0m \u001b[43m    \u001b[49m\u001b[43mtrain_dmatrix\u001b[49m\u001b[43m,\u001b[49m\n\u001b[0;32m   1111\u001b[0m \u001b[43m    \u001b[49m\u001b[38;5;28;43mself\u001b[39;49m\u001b[38;5;241;43m.\u001b[39;49m\u001b[43mget_num_boosting_rounds\u001b[49m\u001b[43m(\u001b[49m\u001b[43m)\u001b[49m\u001b[43m,\u001b[49m\n\u001b[0;32m   1112\u001b[0m \u001b[43m    \u001b[49m\u001b[43mevals\u001b[49m\u001b[38;5;241;43m=\u001b[39;49m\u001b[43mevals\u001b[49m\u001b[43m,\u001b[49m\n\u001b[0;32m   1113\u001b[0m \u001b[43m    \u001b[49m\u001b[43mearly_stopping_rounds\u001b[49m\u001b[38;5;241;43m=\u001b[39;49m\u001b[38;5;28;43mself\u001b[39;49m\u001b[38;5;241;43m.\u001b[39;49m\u001b[43mearly_stopping_rounds\u001b[49m\u001b[43m,\u001b[49m\n\u001b[0;32m   1114\u001b[0m \u001b[43m    \u001b[49m\u001b[43mevals_result\u001b[49m\u001b[38;5;241;43m=\u001b[39;49m\u001b[43mevals_result\u001b[49m\u001b[43m,\u001b[49m\n\u001b[0;32m   1115\u001b[0m \u001b[43m    \u001b[49m\u001b[43mobj\u001b[49m\u001b[38;5;241;43m=\u001b[39;49m\u001b[43mobj\u001b[49m\u001b[43m,\u001b[49m\n\u001b[0;32m   1116\u001b[0m \u001b[43m    \u001b[49m\u001b[43mcustom_metric\u001b[49m\u001b[38;5;241;43m=\u001b[39;49m\u001b[43mmetric\u001b[49m\u001b[43m,\u001b[49m\n\u001b[0;32m   1117\u001b[0m \u001b[43m    \u001b[49m\u001b[43mverbose_eval\u001b[49m\u001b[38;5;241;43m=\u001b[39;49m\u001b[43mverbose\u001b[49m\u001b[43m,\u001b[49m\n\u001b[0;32m   1118\u001b[0m \u001b[43m    \u001b[49m\u001b[43mxgb_model\u001b[49m\u001b[38;5;241;43m=\u001b[39;49m\u001b[43mmodel\u001b[49m\u001b[43m,\u001b[49m\n\u001b[0;32m   1119\u001b[0m \u001b[43m    \u001b[49m\u001b[43mcallbacks\u001b[49m\u001b[38;5;241;43m=\u001b[39;49m\u001b[38;5;28;43mself\u001b[39;49m\u001b[38;5;241;43m.\u001b[39;49m\u001b[43mcallbacks\u001b[49m\u001b[43m,\u001b[49m\n\u001b[0;32m   1120\u001b[0m \u001b[43m\u001b[49m\u001b[43m)\u001b[49m\n\u001b[0;32m   1122\u001b[0m \u001b[38;5;28mself\u001b[39m\u001b[38;5;241m.\u001b[39m_set_evaluation_result(evals_result)\n\u001b[0;32m   1123\u001b[0m \u001b[38;5;28;01mreturn\u001b[39;00m \u001b[38;5;28mself\u001b[39m\n",
      "File \u001b[1;32mc:\\Users\\toqaa\\anaconda3\\envs\\ml_projects\\lib\\site-packages\\xgboost\\core.py:726\u001b[0m, in \u001b[0;36mrequire_keyword_args.<locals>.throw_if.<locals>.inner_f\u001b[1;34m(*args, **kwargs)\u001b[0m\n\u001b[0;32m    724\u001b[0m \u001b[38;5;28;01mfor\u001b[39;00m k, arg \u001b[38;5;129;01min\u001b[39;00m \u001b[38;5;28mzip\u001b[39m(sig\u001b[38;5;241m.\u001b[39mparameters, args):\n\u001b[0;32m    725\u001b[0m     kwargs[k] \u001b[38;5;241m=\u001b[39m arg\n\u001b[1;32m--> 726\u001b[0m \u001b[38;5;28;01mreturn\u001b[39;00m func(\u001b[38;5;241m*\u001b[39m\u001b[38;5;241m*\u001b[39mkwargs)\n",
      "File \u001b[1;32mc:\\Users\\toqaa\\anaconda3\\envs\\ml_projects\\lib\\site-packages\\xgboost\\training.py:181\u001b[0m, in \u001b[0;36mtrain\u001b[1;34m(params, dtrain, num_boost_round, evals, obj, feval, maximize, early_stopping_rounds, evals_result, verbose_eval, xgb_model, callbacks, custom_metric)\u001b[0m\n\u001b[0;32m    179\u001b[0m \u001b[38;5;28;01mif\u001b[39;00m cb_container\u001b[38;5;241m.\u001b[39mbefore_iteration(bst, i, dtrain, evals):\n\u001b[0;32m    180\u001b[0m     \u001b[38;5;28;01mbreak\u001b[39;00m\n\u001b[1;32m--> 181\u001b[0m \u001b[43mbst\u001b[49m\u001b[38;5;241;43m.\u001b[39;49m\u001b[43mupdate\u001b[49m\u001b[43m(\u001b[49m\u001b[43mdtrain\u001b[49m\u001b[43m,\u001b[49m\u001b[43m \u001b[49m\u001b[43miteration\u001b[49m\u001b[38;5;241;43m=\u001b[39;49m\u001b[43mi\u001b[49m\u001b[43m,\u001b[49m\u001b[43m \u001b[49m\u001b[43mfobj\u001b[49m\u001b[38;5;241;43m=\u001b[39;49m\u001b[43mobj\u001b[49m\u001b[43m)\u001b[49m\n\u001b[0;32m    182\u001b[0m \u001b[38;5;28;01mif\u001b[39;00m cb_container\u001b[38;5;241m.\u001b[39mafter_iteration(bst, i, dtrain, evals):\n\u001b[0;32m    183\u001b[0m     \u001b[38;5;28;01mbreak\u001b[39;00m\n",
      "File \u001b[1;32mc:\\Users\\toqaa\\anaconda3\\envs\\ml_projects\\lib\\site-packages\\xgboost\\core.py:2101\u001b[0m, in \u001b[0;36mBooster.update\u001b[1;34m(self, dtrain, iteration, fobj)\u001b[0m\n\u001b[0;32m   2097\u001b[0m \u001b[38;5;28mself\u001b[39m\u001b[38;5;241m.\u001b[39m_assign_dmatrix_features(dtrain)\n\u001b[0;32m   2099\u001b[0m \u001b[38;5;28;01mif\u001b[39;00m fobj \u001b[38;5;129;01mis\u001b[39;00m \u001b[38;5;28;01mNone\u001b[39;00m:\n\u001b[0;32m   2100\u001b[0m     _check_call(\n\u001b[1;32m-> 2101\u001b[0m         \u001b[43m_LIB\u001b[49m\u001b[38;5;241;43m.\u001b[39;49m\u001b[43mXGBoosterUpdateOneIter\u001b[49m\u001b[43m(\u001b[49m\n\u001b[0;32m   2102\u001b[0m \u001b[43m            \u001b[49m\u001b[38;5;28;43mself\u001b[39;49m\u001b[38;5;241;43m.\u001b[39;49m\u001b[43mhandle\u001b[49m\u001b[43m,\u001b[49m\u001b[43m \u001b[49m\u001b[43mctypes\u001b[49m\u001b[38;5;241;43m.\u001b[39;49m\u001b[43mc_int\u001b[49m\u001b[43m(\u001b[49m\u001b[43miteration\u001b[49m\u001b[43m)\u001b[49m\u001b[43m,\u001b[49m\u001b[43m \u001b[49m\u001b[43mdtrain\u001b[49m\u001b[38;5;241;43m.\u001b[39;49m\u001b[43mhandle\u001b[49m\n\u001b[0;32m   2103\u001b[0m \u001b[43m        \u001b[49m\u001b[43m)\u001b[49m\n\u001b[0;32m   2104\u001b[0m     )\n\u001b[0;32m   2105\u001b[0m \u001b[38;5;28;01melse\u001b[39;00m:\n\u001b[0;32m   2106\u001b[0m     pred \u001b[38;5;241m=\u001b[39m \u001b[38;5;28mself\u001b[39m\u001b[38;5;241m.\u001b[39mpredict(dtrain, output_margin\u001b[38;5;241m=\u001b[39m\u001b[38;5;28;01mTrue\u001b[39;00m, training\u001b[38;5;241m=\u001b[39m\u001b[38;5;28;01mTrue\u001b[39;00m)\n",
      "\u001b[1;31mKeyboardInterrupt\u001b[0m: "
     ]
    }
   ],
   "source": [
    "from sklearn.ensemble import AdaBoostRegressor\n",
    "from xgboost import XGBRegressor\n",
    "\n",
    "# Create the base estimator\n",
    "xgb_base = XGBRegressor()\n",
    "\n",
    "# Wrap it with AdaBoost\n",
    "adaboost_model = AdaBoostRegressor(estimator=xgb_base, n_estimators=200, learning_rate=0.01)\n",
    "\n",
    "# Train the AdaBoost model\n",
    "adaboost_model.fit(xtrain, ytrain)\n",
    "\n",
    "# Evaluate the model\n",
    "from sklearn.metrics import mean_absolute_error, mean_squared_error, r2_score\n",
    "\n",
    "# Predictions\n",
    "y_train_pred = adaboost_model.predict(xtrain)\n",
    "y_test_pred = adaboost_model.predict(xtest)\n",
    "\n",
    "# Metrics\n",
    "mae_train = mean_absolute_error(ytrain, y_train_pred)\n",
    "mae_test = mean_absolute_error(ytest, y_test_pred)\n",
    "rmse_train = mean_squared_error(ytrain, y_train_pred, squared=False)\n",
    "rmse_test = mean_squared_error(ytest, y_test_pred, squared=False)\n",
    "r2_train = r2_score(ytrain, y_train_pred)\n",
    "r2_test = r2_score(ytest, y_test_pred)\n",
    "\n",
    "print(f\"MAE Train: {mae_train}\")\n",
    "print(f\"MAE Test: {mae_test}\")\n",
    "print(f\"RMSE Train: {rmse_train}\")\n",
    "print(f\"RMSE Test: {rmse_test}\")\n",
    "print(f\"R2 Train: {r2_train}\")\n",
    "print(f\"R2 Test: {r2_test}\")\n"
   ]
  },
  {
   "cell_type": "markdown",
   "metadata": {},
   "source": [
    "The best model is the **Random Forest** model because it has the highest R2 score and the smallest MAE and RMSE among the other models."
   ]
  }
 ],
 "metadata": {
  "kernelspec": {
   "display_name": "ml_projects",
   "language": "python",
   "name": "python3"
  },
  "language_info": {
   "codemirror_mode": {
    "name": "ipython",
    "version": 3
   },
   "file_extension": ".py",
   "mimetype": "text/x-python",
   "name": "python",
   "nbconvert_exporter": "python",
   "pygments_lexer": "ipython3",
   "version": "3.9.21"
  }
 },
 "nbformat": 4,
 "nbformat_minor": 2
}
